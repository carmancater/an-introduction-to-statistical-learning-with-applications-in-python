{
 "cells": [
  {
   "cell_type": "markdown",
   "id": "374d365d-5016-48b4-ac56-90c6280df375",
   "metadata": {},
   "source": [
    "# Chapter 3: Exercise 11"
   ]
  },
  {
   "cell_type": "markdown",
   "id": "d846a04a-63db-4aab-984e-55dfa9d58eb2",
   "metadata": {},
   "source": [
    "**Import packages**"
   ]
  },
  {
   "cell_type": "code",
   "execution_count": 1,
   "id": "b72fccce-6663-4dda-93b8-46074f210d9a",
   "metadata": {
    "tags": []
   },
   "outputs": [],
   "source": [
    "import numpy as np\n",
    "import pandas as pd\n",
    "import statsmodels.api as sm\n",
    "import matplotlib.pyplot as plt\n",
    "from ISLP.models import (ModelSpec as MS, summarize)"
   ]
  },
  {
   "cell_type": "markdown",
   "id": "752e948d-b9e1-4266-9a7d-079ec87ff2a2",
   "metadata": {},
   "source": [
    "**Generate predictor x and response y**"
   ]
  },
  {
   "cell_type": "code",
   "execution_count": 2,
   "id": "c13203b9-a7c3-4c76-ad39-4956cb95812b",
   "metadata": {
    "tags": []
   },
   "outputs": [],
   "source": [
    "rng = np.random.default_rng(1)\n",
    "x = rng.normal(size=100)\n",
    "y = 2 * x + rng.normal(size=100)\n",
    "df_x = pd.DataFrame(x)\n",
    "df_y = pd.DataFrame(y)"
   ]
  },
  {
   "cell_type": "markdown",
   "id": "61c3231f-7f75-45f7-8550-34462dd46a9b",
   "metadata": {},
   "source": [
    "### (a) Simple linear regression of y onto x without an intercept"
   ]
  },
  {
   "cell_type": "markdown",
   "id": "807e1302-857c-4b2a-bffb-69b18f575403",
   "metadata": {},
   "source": [
    "**Fit the model**"
   ]
  },
  {
   "cell_type": "code",
   "execution_count": 3,
   "id": "34613d5f-6ad9-4e6e-adb2-3e61e65aff1d",
   "metadata": {
    "tags": []
   },
   "outputs": [
    {
     "data": {
      "text/html": [
       "<div>\n",
       "<style scoped>\n",
       "    .dataframe tbody tr th:only-of-type {\n",
       "        vertical-align: middle;\n",
       "    }\n",
       "\n",
       "    .dataframe tbody tr th {\n",
       "        vertical-align: top;\n",
       "    }\n",
       "\n",
       "    .dataframe thead th {\n",
       "        text-align: right;\n",
       "    }\n",
       "</style>\n",
       "<table border=\"1\" class=\"dataframe\">\n",
       "  <thead>\n",
       "    <tr style=\"text-align: right;\">\n",
       "      <th></th>\n",
       "      <th>coef</th>\n",
       "      <th>std err</th>\n",
       "      <th>t</th>\n",
       "      <th>P&gt;|t|</th>\n",
       "    </tr>\n",
       "  </thead>\n",
       "  <tbody>\n",
       "    <tr>\n",
       "      <th>x1</th>\n",
       "      <td>1.9762</td>\n",
       "      <td>0.117</td>\n",
       "      <td>16.898</td>\n",
       "      <td>0.0</td>\n",
       "    </tr>\n",
       "  </tbody>\n",
       "</table>\n",
       "</div>"
      ],
      "text/plain": [
       "      coef  std err       t  P>|t|\n",
       "x1  1.9762    0.117  16.898    0.0"
      ]
     },
     "execution_count": 3,
     "metadata": {},
     "output_type": "execute_result"
    }
   ],
   "source": [
    "summarize(sm.OLS(y, x).fit())"
   ]
  },
  {
   "cell_type": "markdown",
   "id": "94f13627-114b-4fbd-a2eb-6b072b24f9dc",
   "metadata": {},
   "source": [
    "Note we get the same fit above and below, but the below method will simplify things when we introduce an intercept later on."
   ]
  },
  {
   "cell_type": "code",
   "execution_count": 4,
   "id": "36250981-8f1c-47c9-803f-5aa853358611",
   "metadata": {
    "tags": []
   },
   "outputs": [],
   "source": [
    "design = MS([0],intercept=False)"
   ]
  },
  {
   "cell_type": "code",
   "execution_count": 5,
   "id": "0443896e-9b90-4c11-ac52-caeed664c642",
   "metadata": {
    "tags": []
   },
   "outputs": [],
   "source": [
    "X = design.fit_transform(df_x)"
   ]
  },
  {
   "cell_type": "code",
   "execution_count": 6,
   "id": "a922e2be-6e81-4ad7-b9e9-440a220f7805",
   "metadata": {
    "tags": []
   },
   "outputs": [],
   "source": [
    "model = sm.OLS(y, X)\n",
    "results = model.fit()"
   ]
  },
  {
   "cell_type": "code",
   "execution_count": 7,
   "id": "6db9d637-b5b9-4ecd-92d4-ca978f09ec72",
   "metadata": {
    "tags": []
   },
   "outputs": [
    {
     "data": {
      "text/html": [
       "<div>\n",
       "<style scoped>\n",
       "    .dataframe tbody tr th:only-of-type {\n",
       "        vertical-align: middle;\n",
       "    }\n",
       "\n",
       "    .dataframe tbody tr th {\n",
       "        vertical-align: top;\n",
       "    }\n",
       "\n",
       "    .dataframe thead th {\n",
       "        text-align: right;\n",
       "    }\n",
       "</style>\n",
       "<table border=\"1\" class=\"dataframe\">\n",
       "  <thead>\n",
       "    <tr style=\"text-align: right;\">\n",
       "      <th></th>\n",
       "      <th>coef</th>\n",
       "      <th>std err</th>\n",
       "      <th>t</th>\n",
       "      <th>P&gt;|t|</th>\n",
       "    </tr>\n",
       "  </thead>\n",
       "  <tbody>\n",
       "    <tr>\n",
       "      <th>X0</th>\n",
       "      <td>1.9762</td>\n",
       "      <td>0.117</td>\n",
       "      <td>16.898</td>\n",
       "      <td>0.0</td>\n",
       "    </tr>\n",
       "  </tbody>\n",
       "</table>\n",
       "</div>"
      ],
      "text/plain": [
       "      coef  std err       t  P>|t|\n",
       "X0  1.9762    0.117  16.898    0.0"
      ]
     },
     "execution_count": 7,
     "metadata": {},
     "output_type": "execute_result"
    }
   ],
   "source": [
    "summarize(results)"
   ]
  },
  {
   "cell_type": "markdown",
   "id": "42dad356-a326-4e43-872c-89936d464c4a",
   "metadata": {},
   "source": [
    "- **Coefficient estimate $\\hat{\\beta}$:** 1.9762\n",
    "- **Standard Error of coefficient estimate:** 0.117\n",
    "- **t-statistic:** 16.898\n",
    "- **p-value (for $H_0: \\beta = 0$):** 0.0"
   ]
  },
  {
   "cell_type": "markdown",
   "id": "d969c258-7510-4c8f-82c2-c9725355353d",
   "metadata": {},
   "source": [
    "The slope of the linear regression equation is 1.9762. With p-value small we conclude there is strong evidence x is useful for predicting y, and the true slope ($\\beta$) is indeed non-zero."
   ]
  },
  {
   "cell_type": "markdown",
   "id": "3404dfcc-1ee8-4696-b4e5-260819d82ad9",
   "metadata": {
    "tags": []
   },
   "source": [
    "**Scatter plot with line of best fit**"
   ]
  },
  {
   "cell_type": "code",
   "execution_count": 8,
   "id": "cb4a7196-8fea-4962-b4c0-4ff1e56cd5a2",
   "metadata": {
    "tags": []
   },
   "outputs": [
    {
     "data": {
      "image/png": "[encoded data removed]",
      "text/plain": [
       "<Figure size 640x480 with 1 Axes>"
      ]
     },
     "metadata": {},
     "output_type": "display_data"
    }
   ],
   "source": [
    "plt.scatter(x,y)\n",
    "plt.plot([-2.5,2.5],[-2.5*results.params[0], 2.5*results.params[0]])\n",
    "plt.show()"
   ]
  },
  {
   "cell_type": "markdown",
   "id": "1dd81948-84bd-451a-ade3-ae2963aa7022",
   "metadata": {},
   "source": [
    "### (b) Simple linear regression of x onto y without an intercept"
   ]
  },
  {
   "cell_type": "code",
   "execution_count": 9,
   "id": "d565fb3d-d63f-4893-bd95-7f20416a8b2d",
   "metadata": {
    "tags": []
   },
   "outputs": [],
   "source": [
    "Y = design.fit_transform(df_y)"
   ]
  },
  {
   "cell_type": "code",
   "execution_count": 10,
   "id": "6d9d0079-9de0-4f67-ae82-e528f266c5c7",
   "metadata": {
    "tags": []
   },
   "outputs": [],
   "source": [
    "model = sm.OLS(x, Y)\n",
    "results1 = model.fit()"
   ]
  },
  {
   "cell_type": "code",
   "execution_count": 11,
   "id": "3c680cfd-facc-4980-87f6-ce0d95f00cfb",
   "metadata": {
    "tags": []
   },
   "outputs": [
    {
     "data": {
      "text/html": [
       "<div>\n",
       "<style scoped>\n",
       "    .dataframe tbody tr th:only-of-type {\n",
       "        vertical-align: middle;\n",
       "    }\n",
       "\n",
       "    .dataframe tbody tr th {\n",
       "        vertical-align: top;\n",
       "    }\n",
       "\n",
       "    .dataframe thead th {\n",
       "        text-align: right;\n",
       "    }\n",
       "</style>\n",
       "<table border=\"1\" class=\"dataframe\">\n",
       "  <thead>\n",
       "    <tr style=\"text-align: right;\">\n",
       "      <th></th>\n",
       "      <th>coef</th>\n",
       "      <th>std err</th>\n",
       "      <th>t</th>\n",
       "      <th>P&gt;|t|</th>\n",
       "    </tr>\n",
       "  </thead>\n",
       "  <tbody>\n",
       "    <tr>\n",
       "      <th>X0</th>\n",
       "      <td>0.3757</td>\n",
       "      <td>0.022</td>\n",
       "      <td>16.898</td>\n",
       "      <td>0.0</td>\n",
       "    </tr>\n",
       "  </tbody>\n",
       "</table>\n",
       "</div>"
      ],
      "text/plain": [
       "      coef  std err       t  P>|t|\n",
       "X0  0.3757    0.022  16.898    0.0"
      ]
     },
     "execution_count": 11,
     "metadata": {},
     "output_type": "execute_result"
    }
   ],
   "source": [
    "summarize(results1)"
   ]
  },
  {
   "cell_type": "markdown",
   "id": "c384cc62-0d62-4bfb-8618-9d11c4388cf3",
   "metadata": {},
   "source": [
    "- **Coefficient estimate $\\hat{\\beta}$:** 0.3757\n",
    "- **Standard Error of coefficient estimate:** 0.022\n",
    "- **t-statistic:** 16.898\n",
    "- **p-value (for $H_0: \\beta = 0$):** 0.0"
   ]
  },
  {
   "cell_type": "markdown",
   "id": "3ef1babd-0905-448a-bdc7-5f4c4fdd7a5e",
   "metadata": {},
   "source": [
    "The slope of the linear regression equation is 0.3757. With p-value small we conclude there is strong evidence y is useful for predicting x, and the true slope ($\\beta$) is indeed non-zero."
   ]
  },
  {
   "cell_type": "markdown",
   "id": "4f56268b-0e99-4024-adc1-59f298f51ca2",
   "metadata": {},
   "source": [
    "### (c) Relationship between ordinary least squares fit for y onto x and x onto y"
   ]
  },
  {
   "cell_type": "markdown",
   "id": "fab9aeb1-284c-4724-94bc-b0c2b4db6ace",
   "metadata": {},
   "source": [
    "We observe the t-statistic is identical in cases (a) and (b)"
   ]
  },
  {
   "cell_type": "markdown",
   "id": "cf87ff22-340e-4779-853a-20f85b952ff9",
   "metadata": {},
   "source": [
    "### (d) Proof of t-statistic formula and computational verification in the case of no intercept"
   ]
  },
  {
   "cell_type": "markdown",
   "id": "cf30c4ef-c699-40ef-a1ef-278ead98c2b7",
   "metadata": {},
   "source": [
    "**Algebraic proof**"
   ]
  },
  {
   "cell_type": "markdown",
   "id": "de447cb0-2bfa-490b-b5ae-e14027b32204",
   "metadata": {},
   "source": [
    "Proof coming soon...written on paper but not yet typed...."
   ]
  },
  {
   "cell_type": "markdown",
   "id": "bbcf152a-f050-408a-a656-108368ad9538",
   "metadata": {},
   "source": [
    "**Comfirm numerically**"
   ]
  },
  {
   "cell_type": "code",
   "execution_count": 12,
   "id": "02d3330e-6192-4e07-a3cd-3cbbcdbf5061",
   "metadata": {
    "tags": []
   },
   "outputs": [
    {
     "data": {
      "text/plain": [
       "16.898417063035094"
      ]
     },
     "execution_count": 12,
     "metadata": {},
     "output_type": "execute_result"
    }
   ],
   "source": [
    "(np.sqrt(len(x)-1) * np.sum(x*y)) \\\n",
    "/ np.sqrt(np.sum(x**2) * np.sum(y**2) - np.sum(x*y)**2)"
   ]
  },
  {
   "cell_type": "markdown",
   "id": "a817ab58-3128-4dc2-a3b6-f021058b8923",
   "metadata": {},
   "source": [
    "Indeed, this confirms numerically our formula for the t-statistic."
   ]
  },
  {
   "cell_type": "code",
   "execution_count": 13,
   "id": "5a3bdf61-333f-4730-acdd-215b67ccf516",
   "metadata": {
    "tags": []
   },
   "outputs": [
    {
     "data": {
      "text/plain": [
       "X0    16.898417\n",
       "dtype: float64"
      ]
     },
     "execution_count": 13,
     "metadata": {},
     "output_type": "execute_result"
    }
   ],
   "source": [
    "results.tvalues"
   ]
  }
 ],
 "metadata": {
  "kernelspec": {
   "display_name": "Python 3 (ipykernel)",
   "language": "python",
   "name": "python3"
  },
  "language_info": {
   "codemirror_mode": {
    "name": "ipython",
    "version": 3
   },
   "file_extension": ".py",
   "mimetype": "text/x-python",
   "name": "python",
   "nbconvert_exporter": "python",
   "pygments_lexer": "ipython3",
   "version": "3.11.4"
  }
 },
 "nbformat": 4,
 "nbformat_minor": 5
}
