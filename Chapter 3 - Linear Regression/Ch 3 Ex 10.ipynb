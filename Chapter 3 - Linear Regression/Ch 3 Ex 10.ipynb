{
 "cells": [
  {
   "cell_type": "markdown",
   "id": "c6209e58-63e2-48ca-aed5-b9e147406495",
   "metadata": {},
   "source": [
    "# Chapter 3: Exercise 10"
   ]
  },
  {
   "cell_type": "markdown",
   "id": "ed938401-1d2d-4e99-9ffe-e108a16a701f",
   "metadata": {},
   "source": [
    "**Import packages**"
   ]
  },
  {
   "cell_type": "code",
   "execution_count": 92,
   "id": "10d3494b-2593-4c64-8c20-077112152117",
   "metadata": {
    "tags": []
   },
   "outputs": [],
   "source": [
    "import os\n",
    "import numpy as np\n",
    "import pandas as pd\n",
    "import seaborn as sns\n",
    "import statsmodels.api as sm\n",
    "import matplotlib.pyplot as plt\n",
    "from ISLP.models import (ModelSpec as MS, summarize)"
   ]
  },
  {
   "cell_type": "markdown",
   "id": "4899116f-8faf-4c38-8660-5b1f2cd5bc70",
   "metadata": {},
   "source": [
    "**Load Carseats data set**"
   ]
  },
  {
   "cell_type": "code",
   "execution_count": 2,
   "id": "9171782e-24ab-44da-b201-0291fe5bd3e7",
   "metadata": {
    "tags": []
   },
   "outputs": [],
   "source": [
    "os.chdir('C:/Users/carma/Documents/Python Projects/islp/Introduction-to-Statistical-Learning-with-Python/Datasets')\n",
    "Carseats = pd.read_csv('Carseat.csv')"
   ]
  },
  {
   "cell_type": "markdown",
   "id": "70a44738-5832-4e51-ae9b-498a3eccca4e",
   "metadata": {},
   "source": [
    "### (a) Multiple regression model to predict Sales using Price, Urban, and US"
   ]
  },
  {
   "cell_type": "markdown",
   "id": "4949d91b-93c6-4500-9c1a-472a3202b9e2",
   "metadata": {},
   "source": [
    "**Convert object dtypes to categorical**"
   ]
  },
  {
   "cell_type": "code",
   "execution_count": 3,
   "id": "d56ca577-7047-453e-b4a5-1642e2c91e3e",
   "metadata": {
    "tags": []
   },
   "outputs": [],
   "source": [
    "Carseats = Carseats.astype({'ShelveLoc': 'category', 'Urban': 'category', 'US': 'category'})"
   ]
  },
  {
   "cell_type": "code",
   "execution_count": 4,
   "id": "b0397956-655e-4c61-877b-f0701cfe4b71",
   "metadata": {
    "tags": []
   },
   "outputs": [
    {
     "data": {
      "text/plain": [
       "Sales           float64\n",
       "CompPrice         int64\n",
       "Income            int64\n",
       "Advertising       int64\n",
       "Population        int64\n",
       "Price             int64\n",
       "ShelveLoc      category\n",
       "Age               int64\n",
       "Education         int64\n",
       "Urban          category\n",
       "US             category\n",
       "dtype: object"
      ]
     },
     "execution_count": 4,
     "metadata": {},
     "output_type": "execute_result"
    }
   ],
   "source": [
    "Carseats.dtypes"
   ]
  },
  {
   "cell_type": "markdown",
   "id": "c6816bba-e79d-44f5-aa6d-920133b708b9",
   "metadata": {},
   "source": [
    "**Fit the model**"
   ]
  },
  {
   "cell_type": "code",
   "execution_count": 5,
   "id": "d2340c7f-89e4-4702-b5d5-413e6cddb8f5",
   "metadata": {
    "tags": []
   },
   "outputs": [],
   "source": [
    "design = MS(['Price', 'Urban', 'US'])\n",
    "X = design.fit_transform(Carseats)\n",
    "y = Carseats['Sales']"
   ]
  },
  {
   "cell_type": "code",
   "execution_count": 6,
   "id": "f5ffb51f-46c1-4537-9cb1-cbb7e312cef7",
   "metadata": {
    "tags": []
   },
   "outputs": [],
   "source": [
    "model = sm.OLS(y, X)\n",
    "results = model.fit()"
   ]
  },
  {
   "cell_type": "code",
   "execution_count": 7,
   "id": "11f6d791-74b7-40df-8544-890051813e4b",
   "metadata": {
    "tags": []
   },
   "outputs": [
    {
     "data": {
      "text/html": [
       "<div>\n",
       "<style scoped>\n",
       "    .dataframe tbody tr th:only-of-type {\n",
       "        vertical-align: middle;\n",
       "    }\n",
       "\n",
       "    .dataframe tbody tr th {\n",
       "        vertical-align: top;\n",
       "    }\n",
       "\n",
       "    .dataframe thead th {\n",
       "        text-align: right;\n",
       "    }\n",
       "</style>\n",
       "<table border=\"1\" class=\"dataframe\">\n",
       "  <thead>\n",
       "    <tr style=\"text-align: right;\">\n",
       "      <th></th>\n",
       "      <th>coef</th>\n",
       "      <th>std err</th>\n",
       "      <th>t</th>\n",
       "      <th>P&gt;|t|</th>\n",
       "    </tr>\n",
       "  </thead>\n",
       "  <tbody>\n",
       "    <tr>\n",
       "      <th>intercept</th>\n",
       "      <td>13.0435</td>\n",
       "      <td>0.651</td>\n",
       "      <td>20.036</td>\n",
       "      <td>0.000</td>\n",
       "    </tr>\n",
       "    <tr>\n",
       "      <th>Price</th>\n",
       "      <td>-0.0545</td>\n",
       "      <td>0.005</td>\n",
       "      <td>-10.389</td>\n",
       "      <td>0.000</td>\n",
       "    </tr>\n",
       "    <tr>\n",
       "      <th>Urban[Yes]</th>\n",
       "      <td>-0.0219</td>\n",
       "      <td>0.272</td>\n",
       "      <td>-0.081</td>\n",
       "      <td>0.936</td>\n",
       "    </tr>\n",
       "    <tr>\n",
       "      <th>US[Yes]</th>\n",
       "      <td>1.2006</td>\n",
       "      <td>0.259</td>\n",
       "      <td>4.635</td>\n",
       "      <td>0.000</td>\n",
       "    </tr>\n",
       "  </tbody>\n",
       "</table>\n",
       "</div>"
      ],
      "text/plain": [
       "               coef  std err       t  P>|t|\n",
       "intercept   13.0435    0.651  20.036  0.000\n",
       "Price       -0.0545    0.005 -10.389  0.000\n",
       "Urban[Yes]  -0.0219    0.272  -0.081  0.936\n",
       "US[Yes]      1.2006    0.259   4.635  0.000"
      ]
     },
     "execution_count": 7,
     "metadata": {},
     "output_type": "execute_result"
    }
   ],
   "source": [
    "summarize(results)"
   ]
  },
  {
   "cell_type": "markdown",
   "id": "6c7d7438-ed2c-4681-a72e-57498974d315",
   "metadata": {},
   "source": [
    "### (b) Interpretation of each coefficient in the model"
   ]
  },
  {
   "cell_type": "markdown",
   "id": "28e2bbeb-f40d-4b53-afa6-daf48f7e7e5a",
   "metadata": {},
   "source": [
    "- **intercept:** 13.0435 is the average number of unit sales (in thousands) when price is &dollar;0, location is rural, and location is not in the US.\n",
    "- **Price:** An increase in price of $1 reduces the number of units sold by -0.0545 (in thousands).\n",
    "- **Urban[Yes]:** Stores in urban locations sell 0.0219 *fewer* units (in thousands) than average. However we note the p-value is very high indicating there is no statistical evidence of a difference in average units sold between urban and rural stores.\n",
    "- **US[Yes]:** Stores in the US sell 1.2006 more units (in thousands) than average."
   ]
  },
  {
   "cell_type": "markdown",
   "id": "ac0bd79f-e3d6-456c-936e-163c64f7053e",
   "metadata": {},
   "source": [
    "### (c) Linear regression equation"
   ]
  },
  {
   "cell_type": "markdown",
   "id": "beb3bdff-80f7-4a03-819b-1c9dbdf9d98d",
   "metadata": {
    "tags": []
   },
   "source": [
    "$$\\hat{y} = 13.0435 - 0.0545 X_1 - 0.0219 X_2 + 1.2006 X_3$$"
   ]
  },
  {
   "cell_type": "markdown",
   "id": "85ed5d5a-bf76-4c2e-977d-a29d64bd5588",
   "metadata": {},
   "source": [
    " Where $X_1 = Price$, $X_2 = Urban[Yes]$, $X_3 = US[Yes]$"
   ]
  },
  {
   "cell_type": "markdown",
   "id": "21c1e69c-9b7e-4009-9c3e-a3f0fa8b9720",
   "metadata": {
    "tags": []
   },
   "source": [
    "$X_2$ is 0 if rural, 1 if urban.\n",
    "$X_3$ is 0 if store is not in US, 1 if is in US."
   ]
  },
  {
   "cell_type": "markdown",
   "id": "4cfee566-69d5-4d38-a37c-17330caf26b6",
   "metadata": {},
   "source": [
    "### (d) Predictors for which we can reject the null hypothesis $H_0: \\beta_j = 0$"
   ]
  },
  {
   "cell_type": "markdown",
   "id": "64d8a863-6d78-4db0-9c5a-1aef3f5fc33f",
   "metadata": {},
   "source": [
    "We can reject the null hypothesis for the predictors Price and US[Yes]. This implies that their effect on sales is statistically significant."
   ]
  },
  {
   "cell_type": "markdown",
   "id": "87030a84-47ab-4a1a-ae1e-8b6b52d5bfaa",
   "metadata": {},
   "source": [
    "### (e) Fit a smaller model using only predictors for which there is evidence of association with the outcome, sales"
   ]
  },
  {
   "cell_type": "code",
   "execution_count": 71,
   "id": "fbed6a23-1e14-42ee-8bef-a199ea2c01d0",
   "metadata": {
    "tags": []
   },
   "outputs": [],
   "source": [
    "design = MS(['Price', 'US'])\n",
    "X = design.fit_transform(Carseats)\n",
    "y = Carseats['Sales']"
   ]
  },
  {
   "cell_type": "code",
   "execution_count": 72,
   "id": "2774e365-546e-4046-93e7-a46111fa3da1",
   "metadata": {
    "tags": []
   },
   "outputs": [],
   "source": [
    "model = sm.OLS(y, X)\n",
    "results1 = model.fit()"
   ]
  },
  {
   "cell_type": "code",
   "execution_count": 73,
   "id": "3de07f7a-40be-4241-9c0a-78dcfb10731d",
   "metadata": {
    "tags": []
   },
   "outputs": [
    {
     "data": {
      "text/html": [
       "<div>\n",
       "<style scoped>\n",
       "    .dataframe tbody tr th:only-of-type {\n",
       "        vertical-align: middle;\n",
       "    }\n",
       "\n",
       "    .dataframe tbody tr th {\n",
       "        vertical-align: top;\n",
       "    }\n",
       "\n",
       "    .dataframe thead th {\n",
       "        text-align: right;\n",
       "    }\n",
       "</style>\n",
       "<table border=\"1\" class=\"dataframe\">\n",
       "  <thead>\n",
       "    <tr style=\"text-align: right;\">\n",
       "      <th></th>\n",
       "      <th>coef</th>\n",
       "      <th>std err</th>\n",
       "      <th>t</th>\n",
       "      <th>P&gt;|t|</th>\n",
       "    </tr>\n",
       "  </thead>\n",
       "  <tbody>\n",
       "    <tr>\n",
       "      <th>intercept</th>\n",
       "      <td>13.0308</td>\n",
       "      <td>0.631</td>\n",
       "      <td>20.652</td>\n",
       "      <td>0.0</td>\n",
       "    </tr>\n",
       "    <tr>\n",
       "      <th>Price</th>\n",
       "      <td>-0.0545</td>\n",
       "      <td>0.005</td>\n",
       "      <td>-10.416</td>\n",
       "      <td>0.0</td>\n",
       "    </tr>\n",
       "    <tr>\n",
       "      <th>US[Yes]</th>\n",
       "      <td>1.1996</td>\n",
       "      <td>0.258</td>\n",
       "      <td>4.641</td>\n",
       "      <td>0.0</td>\n",
       "    </tr>\n",
       "  </tbody>\n",
       "</table>\n",
       "</div>"
      ],
      "text/plain": [
       "              coef  std err       t  P>|t|\n",
       "intercept  13.0308    0.631  20.652    0.0\n",
       "Price      -0.0545    0.005 -10.416    0.0\n",
       "US[Yes]     1.1996    0.258   4.641    0.0"
      ]
     },
     "execution_count": 73,
     "metadata": {},
     "output_type": "execute_result"
    }
   ],
   "source": [
    "summarize(results1)"
   ]
  },
  {
   "cell_type": "markdown",
   "id": "bff01032-79dc-4c38-bca1-f6d61aebd285",
   "metadata": {},
   "source": [
    "### (f) Compare the fit of the two models"
   ]
  },
  {
   "cell_type": "code",
   "execution_count": 74,
   "id": "123df191-8247-4152-b74e-3f476cc4daeb",
   "metadata": {
    "tags": []
   },
   "outputs": [
    {
     "data": {
      "text/html": [
       "<div>\n",
       "<style scoped>\n",
       "    .dataframe tbody tr th:only-of-type {\n",
       "        vertical-align: middle;\n",
       "    }\n",
       "\n",
       "    .dataframe tbody tr th {\n",
       "        vertical-align: top;\n",
       "    }\n",
       "\n",
       "    .dataframe thead th {\n",
       "        text-align: right;\n",
       "    }\n",
       "</style>\n",
       "<table border=\"1\" class=\"dataframe\">\n",
       "  <thead>\n",
       "    <tr style=\"text-align: right;\">\n",
       "      <th></th>\n",
       "      <th>df_resid</th>\n",
       "      <th>ssr</th>\n",
       "      <th>df_diff</th>\n",
       "      <th>ss_diff</th>\n",
       "      <th>F</th>\n",
       "      <th>Pr(&gt;F)</th>\n",
       "    </tr>\n",
       "  </thead>\n",
       "  <tbody>\n",
       "    <tr>\n",
       "      <th>0</th>\n",
       "      <td>396.0</td>\n",
       "      <td>2420.834671</td>\n",
       "      <td>0.0</td>\n",
       "      <td>NaN</td>\n",
       "      <td>NaN</td>\n",
       "      <td>NaN</td>\n",
       "    </tr>\n",
       "    <tr>\n",
       "      <th>1</th>\n",
       "      <td>397.0</td>\n",
       "      <td>2420.874462</td>\n",
       "      <td>-1.0</td>\n",
       "      <td>-0.03979</td>\n",
       "      <td>0.006525</td>\n",
       "      <td>NaN</td>\n",
       "    </tr>\n",
       "  </tbody>\n",
       "</table>\n",
       "</div>"
      ],
      "text/plain": [
       "   df_resid          ssr  df_diff  ss_diff         F  Pr(>F)\n",
       "0     396.0  2420.834671      0.0      NaN       NaN     NaN\n",
       "1     397.0  2420.874462     -1.0 -0.03979  0.006525     NaN"
      ]
     },
     "execution_count": 74,
     "metadata": {},
     "output_type": "execute_result"
    }
   ],
   "source": [
    "sm.stats.anova_lm(results, results1)"
   ]
  },
  {
   "cell_type": "markdown",
   "id": "f8e19dd3-7e6c-4b3d-b9ef-e9f9c3488c28",
   "metadata": {},
   "source": [
    "Dropping the predictor Urban[Yes] does not seem to change the fit of the model to the data. Let us compare residual plots."
   ]
  },
  {
   "cell_type": "code",
   "execution_count": 91,
   "id": "50cb8839-e581-4ae7-9a66-8b2f95b7d93f",
   "metadata": {
    "tags": []
   },
   "outputs": [
    {
     "data": {
      "image/png": "[encoded data removed]",
      "text/plain": [
       "<Figure size 800x800 with 2 Axes>"
      ]
     },
     "metadata": {},
     "output_type": "display_data"
    }
   ],
   "source": [
    "fig, ax = plt.subplots(nrows=1, ncols=2,figsize=(8,8))\n",
    "ax[0].scatter(x=results.fittedvalues, y=results.resid)\n",
    "ax[0].set_title('results')\n",
    "ax[1].scatter(x=results1.fittedvalues, y=results1.resid)\n",
    "ax[1].set_title('results1')\n",
    "for ax in ax.flat:\n",
    "    ax.set(xlabel='Fitted Value', ylabel='Residual')\n",
    "    ax.axhline(0, c='k', ls='--')\n",
    "plt.show()"
   ]
  },
  {
   "cell_type": "code",
   "execution_count": 78,
   "id": "fd31cc7e-ca07-44d6-b276-c4295e955422",
   "metadata": {
    "tags": []
   },
   "outputs": [
    {
     "data": {
      "text/plain": [
       "0     -0.006056\n",
       "1     -0.006751\n",
       "2     -0.006808\n",
       "3     -0.006488\n",
       "4     -0.006836\n",
       "         ...   \n",
       "395   -0.005906\n",
       "396    0.015860\n",
       "397   -0.005324\n",
       "398   -0.006526\n",
       "399   -0.006056\n",
       "Length: 400, dtype: float64"
      ]
     },
     "execution_count": 78,
     "metadata": {},
     "output_type": "execute_result"
    }
   ],
   "source": [
    "results.fittedvalues - results1.fittedvalues"
   ]
  },
  {
   "cell_type": "markdown",
   "id": "08461789-f519-4bf4-bcc5-ea4fbe38af8a",
   "metadata": {},
   "source": [
    "We see there is very little difference in the residual plots, and also the difference between the fitted values."
   ]
  },
  {
   "cell_type": "markdown",
   "id": "21b4b67b-8378-42d7-9d11-e40aab36438c",
   "metadata": {},
   "source": [
    "### (g) 95% confidence interval for the coefficients"
   ]
  },
  {
   "cell_type": "code",
   "execution_count": 84,
   "id": "12786307-39a2-4cdf-8606-64b94791aa0a",
   "metadata": {
    "tags": []
   },
   "outputs": [
    {
     "data": {
      "text/html": [
       "<div>\n",
       "<style scoped>\n",
       "    .dataframe tbody tr th:only-of-type {\n",
       "        vertical-align: middle;\n",
       "    }\n",
       "\n",
       "    .dataframe tbody tr th {\n",
       "        vertical-align: top;\n",
       "    }\n",
       "\n",
       "    .dataframe thead th {\n",
       "        text-align: right;\n",
       "    }\n",
       "</style>\n",
       "<table border=\"1\" class=\"dataframe\">\n",
       "  <thead>\n",
       "    <tr style=\"text-align: right;\">\n",
       "      <th></th>\n",
       "      <th>0</th>\n",
       "      <th>1</th>\n",
       "    </tr>\n",
       "  </thead>\n",
       "  <tbody>\n",
       "    <tr>\n",
       "      <th>intercept</th>\n",
       "      <td>11.79032</td>\n",
       "      <td>14.271265</td>\n",
       "    </tr>\n",
       "    <tr>\n",
       "      <th>Price</th>\n",
       "      <td>-0.06476</td>\n",
       "      <td>-0.044195</td>\n",
       "    </tr>\n",
       "    <tr>\n",
       "      <th>US[Yes]</th>\n",
       "      <td>0.69152</td>\n",
       "      <td>1.707766</td>\n",
       "    </tr>\n",
       "  </tbody>\n",
       "</table>\n",
       "</div>"
      ],
      "text/plain": [
       "                  0          1\n",
       "intercept  11.79032  14.271265\n",
       "Price      -0.06476  -0.044195\n",
       "US[Yes]     0.69152   1.707766"
      ]
     },
     "execution_count": 84,
     "metadata": {},
     "output_type": "execute_result"
    }
   ],
   "source": [
    "results1.conf_int()"
   ]
  },
  {
   "cell_type": "markdown",
   "id": "b4817048-cf35-4267-93d3-8ecacebc8815",
   "metadata": {},
   "source": [
    "### (h) Outliers and high leverage observations"
   ]
  },
  {
   "cell_type": "code",
   "execution_count": 88,
   "id": "a33bfbb6-3d8f-4a17-a557-b6ffff923fa5",
   "metadata": {
    "tags": []
   },
   "outputs": [
    {
     "data": {
      "text/plain": [
       "<matplotlib.collections.PathCollection at 0x26a96ca4210>"
      ]
     },
     "execution_count": 88,
     "metadata": {},
     "output_type": "execute_result"
    },
    {
     "data": {
      "image/png": "[encoded data removed]",
      "text/plain": [
       "<Figure size 640x480 with 1 Axes>"
      ]
     },
     "metadata": {},
     "output_type": "display_data"
    }
   ],
   "source": [
    "plt.scatter(Carseats['Price'], y)"
   ]
  },
  {
   "cell_type": "markdown",
   "id": "a20b4bb2-1a5e-4403-be92-5d3258278482",
   "metadata": {},
   "source": [
    "There appears to be a linear relationship between price and sales. This supports what we see in the residual plot above where there appears to be no discernible pattern indicating no non-linearity in the data. We see a possible high leverage observation on the far left."
   ]
  },
  {
   "cell_type": "code",
   "execution_count": 93,
   "id": "67e334e4-aa56-4e80-b617-6c8da6874de4",
   "metadata": {
    "tags": []
   },
   "outputs": [],
   "source": [
    "infl = results1.get_influence()\n",
    "stu_res = infl.get_resid_studentized_external()"
   ]
  },
  {
   "cell_type": "code",
   "execution_count": 94,
   "id": "90f4c13d-5a6f-4cc7-8fe9-3a785ccdbef3",
   "metadata": {
    "tags": []
   },
   "outputs": [
    {
     "data": {
      "text/plain": [
       "<matplotlib.lines.Line2D at 0x26a96fd96d0>"
      ]
     },
     "execution_count": 94,
     "metadata": {},
     "output_type": "execute_result"
    },
    {
     "data": {
      "image/png": "[encoded data removed]",
      "text/plain": [
       "<Figure size 800x800 with 1 Axes>"
      ]
     },
     "metadata": {},
     "output_type": "display_data"
    }
   ],
   "source": [
    "fig, ax = plt.subplots(figsize=(8,8))\n",
    "plt.scatter(infl.hat_matrix_diag, stu_res)\n",
    "plt.xlabel('Leverage')\n",
    "plt.ylabel('Studentized Residuals')\n",
    "plt.axhline(-3, c='k', ls='--')\n",
    "plt.axhline(3, c='k', ls='--')\n",
    "plt.axvline(np.average(infl.hat_matrix_diag)*4, c='k', ls='--')"
   ]
  },
  {
   "cell_type": "markdown",
   "id": "7fc62fc3-d3f4-4529-aed9-8338e87a79cd",
   "metadata": {},
   "source": [
    "There are no observations whose studentized residuals are greater than three in absolute value. Thus there is no evidence of outliers in our model. We do see one observation which has leverage greater than four times the average leverage, leading us to conclude that this is a high leverage observation and may wish to exclude it from our model."
   ]
  },
  {
   "cell_type": "code",
   "execution_count": 96,
   "id": "dd9ec801-47f0-4f13-a790-e54a2b13615b",
   "metadata": {
    "tags": []
   },
   "outputs": [],
   "source": [
    "enum = [x for x in enumerate(infl.hat_matrix_diag)]"
   ]
  },
  {
   "cell_type": "code",
   "execution_count": 99,
   "id": "7d0ca51e-ed43-439a-acaa-1f66ad8e8e04",
   "metadata": {
    "tags": []
   },
   "outputs": [
    {
     "data": {
      "text/plain": [
       "array([(42, 0.04333766)], dtype=[('index', '<i4'), ('leverage', '<f8')])"
      ]
     },
     "execution_count": 99,
     "metadata": {},
     "output_type": "execute_result"
    }
   ],
   "source": [
    "dtype = [('index', int), ('leverage', float)]\n",
    "a = np.array(enum, dtype=dtype)\n",
    "np.sort(a, order='leverage')[-1:]"
   ]
  },
  {
   "cell_type": "code",
   "execution_count": 101,
   "id": "85f5ffd1-fd0f-4e79-aefc-28d39b58b7d1",
   "metadata": {
    "tags": []
   },
   "outputs": [
    {
     "data": {
      "text/html": [
       "<div>\n",
       "<style scoped>\n",
       "    .dataframe tbody tr th:only-of-type {\n",
       "        vertical-align: middle;\n",
       "    }\n",
       "\n",
       "    .dataframe tbody tr th {\n",
       "        vertical-align: top;\n",
       "    }\n",
       "\n",
       "    .dataframe thead th {\n",
       "        text-align: right;\n",
       "    }\n",
       "</style>\n",
       "<table border=\"1\" class=\"dataframe\">\n",
       "  <thead>\n",
       "    <tr style=\"text-align: right;\">\n",
       "      <th></th>\n",
       "      <th>intercept</th>\n",
       "      <th>Price</th>\n",
       "      <th>US[Yes]</th>\n",
       "    </tr>\n",
       "  </thead>\n",
       "  <tbody>\n",
       "    <tr>\n",
       "      <th>42</th>\n",
       "      <td>1.0</td>\n",
       "      <td>24</td>\n",
       "      <td>0.0</td>\n",
       "    </tr>\n",
       "  </tbody>\n",
       "</table>\n",
       "</div>"
      ],
      "text/plain": [
       "    intercept  Price  US[Yes]\n",
       "42        1.0     24      0.0"
      ]
     },
     "execution_count": 101,
     "metadata": {},
     "output_type": "execute_result"
    }
   ],
   "source": [
    "X.iloc[[42]]"
   ]
  },
  {
   "cell_type": "code",
   "execution_count": 106,
   "id": "076766dc-e019-42ce-a373-2d7ec5ead50c",
   "metadata": {
    "tags": []
   },
   "outputs": [
    {
     "data": {
      "text/plain": [
       "42"
      ]
     },
     "execution_count": 106,
     "metadata": {},
     "output_type": "execute_result"
    }
   ],
   "source": [
    "np.argmin(X['Price'])"
   ]
  },
  {
   "cell_type": "markdown",
   "id": "981989ec-9f8a-41fb-8539-94729c35d49e",
   "metadata": {},
   "source": [
    "We see observation 42 with Price = 24 is indeed a high leverage point. This observation has the minimum Price value of all observations in our dataset."
   ]
  }
 ],
 "metadata": {
  "kernelspec": {
   "display_name": "Python 3 (ipykernel)",
   "language": "python",
   "name": "python3"
  },
  "language_info": {
   "codemirror_mode": {
    "name": "ipython",
    "version": 3
   },
   "file_extension": ".py",
   "mimetype": "text/x-python",
   "name": "python",
   "nbconvert_exporter": "python",
   "pygments_lexer": "ipython3",
   "version": "3.11.4"
  }
 },
 "nbformat": 4,
 "nbformat_minor": 5
}
