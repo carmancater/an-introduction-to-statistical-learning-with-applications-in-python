{
 "cells": [
  {
   "cell_type": "markdown",
   "id": "360aeffc-99fe-4f7e-ba40-82489cb785e7",
   "metadata": {},
   "source": [
    "# Chapter 3: Exercise 8"
   ]
  },
  {
   "cell_type": "markdown",
   "id": "b7f43143-fb91-47ff-9e29-019cab1253e2",
   "metadata": {},
   "source": [
    "**Import packages**"
   ]
  },
  {
   "cell_type": "code",
   "execution_count": 1,
   "id": "dfdd7db3-f3e6-4312-a226-011b591b9589",
   "metadata": {
    "tags": []
   },
   "outputs": [],
   "source": [
    "import os\n",
    "import numpy as np\n",
    "import pandas as pd\n",
    "import statsmodels.api as sm\n",
    "import matplotlib.pyplot as plt\n",
    "from ISLP.models import ModelSpec as MS\n",
    "from statsmodels.stats.outliers_influence import OLSInfluence"
   ]
  },
  {
   "cell_type": "markdown",
   "id": "a95cf51e-dbb7-4e71-afdf-b0a9a810a5db",
   "metadata": {},
   "source": [
    "**Load Auto data set**"
   ]
  },
  {
   "cell_type": "code",
   "execution_count": 2,
   "id": "847fd47c-e49c-4b69-ae96-76f40171946f",
   "metadata": {
    "tags": []
   },
   "outputs": [],
   "source": [
    "os.chdir('C:/Users/carma/Documents/Python Projects/islp')\n",
    "Auto = pd.read_csv('Auto.csv', na_values=['?'])"
   ]
  },
  {
   "cell_type": "markdown",
   "id": "e235ee1a-5a85-4128-80e2-69eb633d16ff",
   "metadata": {},
   "source": [
    "**Remove rows with missing values**"
   ]
  },
  {
   "cell_type": "code",
   "execution_count": 3,
   "id": "2b282a64-258a-41ce-82bc-65b13bf39c2c",
   "metadata": {
    "tags": []
   },
   "outputs": [],
   "source": [
    "Auto = Auto.dropna().reset_index().drop(columns='index')"
   ]
  },
  {
   "cell_type": "markdown",
   "id": "c757492e-b7e5-4e7b-ae59-9dba4e27e891",
   "metadata": {},
   "source": [
    "**View first five observations**"
   ]
  },
  {
   "cell_type": "code",
   "execution_count": 4,
   "id": "d626209c-cce1-44f2-b271-1031902b2422",
   "metadata": {
    "tags": []
   },
   "outputs": [
    {
     "data": {
      "text/html": [
       "<div>\n",
       "<style scoped>\n",
       "    .dataframe tbody tr th:only-of-type {\n",
       "        vertical-align: middle;\n",
       "    }\n",
       "\n",
       "    .dataframe tbody tr th {\n",
       "        vertical-align: top;\n",
       "    }\n",
       "\n",
       "    .dataframe thead th {\n",
       "        text-align: right;\n",
       "    }\n",
       "</style>\n",
       "<table border=\"1\" class=\"dataframe\">\n",
       "  <thead>\n",
       "    <tr style=\"text-align: right;\">\n",
       "      <th></th>\n",
       "      <th>mpg</th>\n",
       "      <th>cylinders</th>\n",
       "      <th>displacement</th>\n",
       "      <th>horsepower</th>\n",
       "      <th>weight</th>\n",
       "      <th>acceleration</th>\n",
       "      <th>year</th>\n",
       "      <th>origin</th>\n",
       "      <th>name</th>\n",
       "    </tr>\n",
       "  </thead>\n",
       "  <tbody>\n",
       "    <tr>\n",
       "      <th>0</th>\n",
       "      <td>18.0</td>\n",
       "      <td>8</td>\n",
       "      <td>307.0</td>\n",
       "      <td>130.0</td>\n",
       "      <td>3504</td>\n",
       "      <td>12.0</td>\n",
       "      <td>70</td>\n",
       "      <td>1</td>\n",
       "      <td>chevrolet chevelle malibu</td>\n",
       "    </tr>\n",
       "    <tr>\n",
       "      <th>1</th>\n",
       "      <td>15.0</td>\n",
       "      <td>8</td>\n",
       "      <td>350.0</td>\n",
       "      <td>165.0</td>\n",
       "      <td>3693</td>\n",
       "      <td>11.5</td>\n",
       "      <td>70</td>\n",
       "      <td>1</td>\n",
       "      <td>buick skylark 320</td>\n",
       "    </tr>\n",
       "    <tr>\n",
       "      <th>2</th>\n",
       "      <td>18.0</td>\n",
       "      <td>8</td>\n",
       "      <td>318.0</td>\n",
       "      <td>150.0</td>\n",
       "      <td>3436</td>\n",
       "      <td>11.0</td>\n",
       "      <td>70</td>\n",
       "      <td>1</td>\n",
       "      <td>plymouth satellite</td>\n",
       "    </tr>\n",
       "    <tr>\n",
       "      <th>3</th>\n",
       "      <td>16.0</td>\n",
       "      <td>8</td>\n",
       "      <td>304.0</td>\n",
       "      <td>150.0</td>\n",
       "      <td>3433</td>\n",
       "      <td>12.0</td>\n",
       "      <td>70</td>\n",
       "      <td>1</td>\n",
       "      <td>amc rebel sst</td>\n",
       "    </tr>\n",
       "    <tr>\n",
       "      <th>4</th>\n",
       "      <td>17.0</td>\n",
       "      <td>8</td>\n",
       "      <td>302.0</td>\n",
       "      <td>140.0</td>\n",
       "      <td>3449</td>\n",
       "      <td>10.5</td>\n",
       "      <td>70</td>\n",
       "      <td>1</td>\n",
       "      <td>ford torino</td>\n",
       "    </tr>\n",
       "  </tbody>\n",
       "</table>\n",
       "</div>"
      ],
      "text/plain": [
       "    mpg  cylinders  displacement  horsepower  weight  acceleration  year  \\\n",
       "0  18.0          8         307.0       130.0    3504          12.0    70   \n",
       "1  15.0          8         350.0       165.0    3693          11.5    70   \n",
       "2  18.0          8         318.0       150.0    3436          11.0    70   \n",
       "3  16.0          8         304.0       150.0    3433          12.0    70   \n",
       "4  17.0          8         302.0       140.0    3449          10.5    70   \n",
       "\n",
       "   origin                       name  \n",
       "0       1  chevrolet chevelle malibu  \n",
       "1       1          buick skylark 320  \n",
       "2       1         plymouth satellite  \n",
       "3       1              amc rebel sst  \n",
       "4       1                ford torino  "
      ]
     },
     "execution_count": 4,
     "metadata": {},
     "output_type": "execute_result"
    }
   ],
   "source": [
    "Auto.head()"
   ]
  },
  {
   "cell_type": "markdown",
   "id": "d8e6f372-2af3-4bf9-8939-572867c57509",
   "metadata": {},
   "source": [
    "**Extract variables for ordinary least squares**"
   ]
  },
  {
   "cell_type": "code",
   "execution_count": 5,
   "id": "d27b4fce-b7a2-4082-a1c5-998776d604a8",
   "metadata": {
    "tags": []
   },
   "outputs": [],
   "source": [
    "design = MS(['horsepower'])\n",
    "X = design.fit_transform(Auto)\n",
    "y = Auto['mpg']"
   ]
  },
  {
   "cell_type": "code",
   "execution_count": 6,
   "id": "de5a0f12-14ed-48bb-b3bd-0d52c35b7415",
   "metadata": {
    "tags": []
   },
   "outputs": [
    {
     "data": {
      "text/html": [
       "<div>\n",
       "<style scoped>\n",
       "    .dataframe tbody tr th:only-of-type {\n",
       "        vertical-align: middle;\n",
       "    }\n",
       "\n",
       "    .dataframe tbody tr th {\n",
       "        vertical-align: top;\n",
       "    }\n",
       "\n",
       "    .dataframe thead th {\n",
       "        text-align: right;\n",
       "    }\n",
       "</style>\n",
       "<table border=\"1\" class=\"dataframe\">\n",
       "  <thead>\n",
       "    <tr style=\"text-align: right;\">\n",
       "      <th></th>\n",
       "      <th>intercept</th>\n",
       "      <th>horsepower</th>\n",
       "    </tr>\n",
       "  </thead>\n",
       "  <tbody>\n",
       "    <tr>\n",
       "      <th>0</th>\n",
       "      <td>1.0</td>\n",
       "      <td>130.0</td>\n",
       "    </tr>\n",
       "    <tr>\n",
       "      <th>1</th>\n",
       "      <td>1.0</td>\n",
       "      <td>165.0</td>\n",
       "    </tr>\n",
       "    <tr>\n",
       "      <th>2</th>\n",
       "      <td>1.0</td>\n",
       "      <td>150.0</td>\n",
       "    </tr>\n",
       "  </tbody>\n",
       "</table>\n",
       "</div>"
      ],
      "text/plain": [
       "   intercept  horsepower\n",
       "0        1.0       130.0\n",
       "1        1.0       165.0\n",
       "2        1.0       150.0"
      ]
     },
     "execution_count": 6,
     "metadata": {},
     "output_type": "execute_result"
    }
   ],
   "source": [
    "X[:3]"
   ]
  },
  {
   "cell_type": "code",
   "execution_count": 7,
   "id": "8e7e0704-7797-4617-8ab7-91264c22844b",
   "metadata": {
    "tags": []
   },
   "outputs": [
    {
     "data": {
      "text/plain": [
       "0    18.0\n",
       "1    15.0\n",
       "2    18.0\n",
       "Name: mpg, dtype: float64"
      ]
     },
     "execution_count": 7,
     "metadata": {},
     "output_type": "execute_result"
    }
   ],
   "source": [
    "y[:3]"
   ]
  },
  {
   "cell_type": "markdown",
   "id": "d7b823be-1942-4251-8e9d-5d4b5e2525eb",
   "metadata": {},
   "source": [
    "**Fit the linear model**"
   ]
  },
  {
   "cell_type": "code",
   "execution_count": 8,
   "id": "cf2979ac-4a95-4513-a56f-68c3f02b7e65",
   "metadata": {
    "tags": []
   },
   "outputs": [],
   "source": [
    "model = sm.OLS(y, X)\n",
    "results = model.fit()"
   ]
  },
  {
   "cell_type": "code",
   "execution_count": 9,
   "id": "1dbc3c2a-4628-44ff-98e5-8b6850d566a3",
   "metadata": {
    "tags": []
   },
   "outputs": [
    {
     "name": "stdout",
     "output_type": "stream",
     "text": [
      "                            OLS Regression Results                            \n",
      "==============================================================================\n",
      "Dep. Variable:                    mpg   R-squared:                       0.606\n",
      "Model:                            OLS   Adj. R-squared:                  0.605\n",
      "Method:                 Least Squares   F-statistic:                     599.7\n",
      "Date:                Fri, 25 Aug 2023   Prob (F-statistic):           7.03e-81\n",
      "Time:                        21:02:33   Log-Likelihood:                -1178.7\n",
      "No. Observations:                 392   AIC:                             2361.\n",
      "Df Residuals:                     390   BIC:                             2369.\n",
      "Df Model:                           1                                         \n",
      "Covariance Type:            nonrobust                                         \n",
      "==============================================================================\n",
      "                 coef    std err          t      P>|t|      [0.025      0.975]\n",
      "------------------------------------------------------------------------------\n",
      "intercept     39.9359      0.717     55.660      0.000      38.525      41.347\n",
      "horsepower    -0.1578      0.006    -24.489      0.000      -0.171      -0.145\n",
      "==============================================================================\n",
      "Omnibus:                       16.432   Durbin-Watson:                   0.920\n",
      "Prob(Omnibus):                  0.000   Jarque-Bera (JB):               17.305\n",
      "Skew:                           0.492   Prob(JB):                     0.000175\n",
      "Kurtosis:                       3.299   Cond. No.                         322.\n",
      "==============================================================================\n",
      "\n",
      "Notes:\n",
      "[1] Standard Errors assume that the covariance matrix of the errors is correctly specified.\n"
     ]
    }
   ],
   "source": [
    "print(results.summary())"
   ]
  },
  {
   "cell_type": "markdown",
   "id": "8e953cf8-53df-4b91-aa7e-c9e4f4af3187",
   "metadata": {},
   "source": [
    "**Predicted mpg associated with a horsepower of 98**"
   ]
  },
  {
   "cell_type": "code",
   "execution_count": 10,
   "id": "873ca53e-fe6f-427c-aa4b-9329dbba3226",
   "metadata": {
    "tags": []
   },
   "outputs": [
    {
     "data": {
      "text/plain": [
       "array([24.46707715])"
      ]
     },
     "execution_count": 10,
     "metadata": {},
     "output_type": "execute_result"
    }
   ],
   "source": [
    "prediction = results.get_prediction(pd.DataFrame({'intercept': [1], 'horsepower': [98]}))\n",
    "prediction.predicted_mean"
   ]
  },
  {
   "cell_type": "markdown",
   "id": "a7bea7af-fca7-4d7d-a2fe-d97ee8dba584",
   "metadata": {},
   "source": [
    "**Associated 95% confidence interval**"
   ]
  },
  {
   "cell_type": "code",
   "execution_count": 11,
   "id": "06327085-1663-4de0-bf5e-803a8df3fbd6",
   "metadata": {
    "tags": []
   },
   "outputs": [
    {
     "data": {
      "text/plain": [
       "array([[23.97307896, 24.96107534]])"
      ]
     },
     "execution_count": 11,
     "metadata": {},
     "output_type": "execute_result"
    }
   ],
   "source": [
    "prediction.conf_int(alpha=0.05)"
   ]
  },
  {
   "cell_type": "markdown",
   "id": "d003ec26-6c45-4360-8e24-a3d2902880ce",
   "metadata": {},
   "source": [
    "**Associated 95% prediction interval**"
   ]
  },
  {
   "cell_type": "code",
   "execution_count": 12,
   "id": "80b9a413-0bd4-41b9-aac1-4e88342bc10b",
   "metadata": {
    "tags": []
   },
   "outputs": [
    {
     "data": {
      "text/plain": [
       "array([[14.80939607, 34.12475823]])"
      ]
     },
     "execution_count": 12,
     "metadata": {},
     "output_type": "execute_result"
    }
   ],
   "source": [
    "prediction.conf_int(alpha=0.05, obs=True)"
   ]
  },
  {
   "cell_type": "markdown",
   "id": "708ca717-630d-4ef1-86d1-b4f78d8b9687",
   "metadata": {},
   "source": [
    "### (a) Comments on output of simple linear regression\n",
    "1. There is a relationship between horsepower and mpg.\n",
    "2. There is a strong relationship as seen by the p-value corresponding to the t-statistic for horsepower.\n",
    "3. The relationship between horsepower and mpg is negative as seen by the $-0.1578$ coefficient for horsepower in the least squares line.\n",
    "4. \n",
    "    - The predicted mpg associated with a horsepower of $98$ is $24.47$  \n",
    "    - The 95% confidence interval is $(23.97, 24.96)$.\n",
    "    - The 95% prediction interval is $(14.81, 34.12)$."
   ]
  },
  {
   "cell_type": "markdown",
   "id": "95b8cadb-232d-4ffc-994b-68a30367b4ad",
   "metadata": {},
   "source": [
    "### (b) Plot of response and predictor along with least squares regression line"
   ]
  },
  {
   "cell_type": "markdown",
   "id": "b165f10a-13fc-4793-b460-d8929dba65cb",
   "metadata": {},
   "source": [
    "**Define function for plotting line**"
   ]
  },
  {
   "cell_type": "code",
   "execution_count": 13,
   "id": "fe813021-2bee-4d48-a768-626cb869580d",
   "metadata": {
    "tags": []
   },
   "outputs": [],
   "source": [
    "def abline(ax, b, m, *args, **kwargs):\n",
    "    # Add a line with slope m and intercept b to ax\n",
    "    xlim = ax.get_xlim()\n",
    "    ylim = [m*xlim[0] + b, m*xlim[1] + b]\n",
    "    ax.plot(xlim, ylim, *args, *kwargs)"
   ]
  },
  {
   "cell_type": "markdown",
   "id": "d1877df7-3297-4d22-9b2b-e599f6d008de",
   "metadata": {
    "tags": []
   },
   "source": [
    "**Scatter plot with line of best fit**"
   ]
  },
  {
   "cell_type": "code",
   "execution_count": 14,
   "id": "60d7e13b-9e47-45ed-99b6-477acb9965d0",
   "metadata": {
    "tags": []
   },
   "outputs": [
    {
     "data": {
      "image/png": "[encoded data removed]",
      "text/plain": [
       "<Figure size 640x480 with 1 Axes>"
      ]
     },
     "metadata": {},
     "output_type": "display_data"
    }
   ],
   "source": [
    "ax = Auto.plot.scatter('horsepower', 'mpg')\n",
    "abline(ax, \n",
    "       results.params[0],\n",
    "       results.params[1],\n",
    "       'r--')"
   ]
  },
  {
   "cell_type": "markdown",
   "id": "796b3fc5-0080-4c06-88e3-dc1080311f43",
   "metadata": {},
   "source": [
    "### (c) Diagnostic plots of the least squares regression fit along with observations"
   ]
  },
  {
   "cell_type": "code",
   "execution_count": 15,
   "id": "b2853fc0-89c6-40e3-8060-43c6b44e37fc",
   "metadata": {
    "tags": []
   },
   "outputs": [
    {
     "data": {
      "text/plain": [
       "0    19.416046\n",
       "1    13.891480\n",
       "2    16.259151\n",
       "3    16.259151\n",
       "4    17.837598\n",
       "dtype: float64"
      ]
     },
     "execution_count": 15,
     "metadata": {},
     "output_type": "execute_result"
    }
   ],
   "source": [
    "results.fittedvalues.head()"
   ]
  },
  {
   "cell_type": "code",
   "execution_count": 16,
   "id": "62d2763a-7d53-448c-b416-1c6bb61043bc",
   "metadata": {
    "tags": []
   },
   "outputs": [
    {
     "data": {
      "text/plain": [
       "0   -1.416046\n",
       "1    1.108520\n",
       "2    1.740849\n",
       "3   -0.259151\n",
       "4   -0.837598\n",
       "dtype: float64"
      ]
     },
     "execution_count": 16,
     "metadata": {},
     "output_type": "execute_result"
    }
   ],
   "source": [
    "results.resid.head()"
   ]
  },
  {
   "cell_type": "code",
   "execution_count": 17,
   "id": "5666c9ed-5417-40be-80d9-b9e4f977cd3a",
   "metadata": {
    "tags": []
   },
   "outputs": [
    {
     "data": {
      "text/plain": [
       "0   -1.416046\n",
       "1    1.108520\n",
       "2    1.740849\n",
       "3   -0.259151\n",
       "4   -0.837598\n",
       "dtype: float64"
      ]
     },
     "execution_count": 17,
     "metadata": {},
     "output_type": "execute_result"
    }
   ],
   "source": [
    "y.head() - results.fittedvalues[:5]"
   ]
  },
  {
   "cell_type": "markdown",
   "id": "abcb7962-5245-4762-8104-ddd5ca9670ae",
   "metadata": {},
   "source": [
    "**Residual Plot**"
   ]
  },
  {
   "cell_type": "code",
   "execution_count": 18,
   "id": "98e474b4-bb3d-4a8f-a2b8-82dd52ee2b74",
   "metadata": {
    "tags": []
   },
   "outputs": [
    {
     "data": {
      "image/png": "[encoded data removed]",
      "text/plain": [
       "<Figure size 800x800 with 1 Axes>"
      ]
     },
     "metadata": {},
     "output_type": "display_data"
    }
   ],
   "source": [
    "fig, ax = plt.subplots(figsize=(8,8))\n",
    "plt.scatter(x=results.fittedvalues, y=results.resid)\n",
    "plt.xlabel('Fitted value')\n",
    "plt.ylabel('Residual')\n",
    "plt.axhline(0, c='k', ls='--')\n",
    "plt.show()"
   ]
  },
  {
   "cell_type": "markdown",
   "id": "fbf7c783-21d2-4450-84a9-a23f31cdad88",
   "metadata": {},
   "source": [
    "The residuals exhibit a clear U-shape, which provides a strong indication of non-linearity in the data (as can be seen in the scatter plot from part **(b)**). *In general*, a strong pattern in the residuals indicates non-linearity in the data."
   ]
  },
  {
   "cell_type": "markdown",
   "id": "dac38a75-3bb9-4b44-91b5-508885e919f7",
   "metadata": {},
   "source": [
    "**Looking for high leverage points**"
   ]
  },
  {
   "cell_type": "code",
   "execution_count": 19,
   "id": "941bc065-507a-4b61-ac01-3768fe45685e",
   "metadata": {
    "tags": []
   },
   "outputs": [
    {
     "data": {
      "text/plain": [
       "115"
      ]
     },
     "execution_count": 19,
     "metadata": {},
     "output_type": "execute_result"
    },
    {
     "data": {
      "image/png": "[encoded data removed]",
      "text/plain": [
       "<Figure size 800x800 with 1 Axes>"
      ]
     },
     "metadata": {},
     "output_type": "display_data"
    }
   ],
   "source": [
    "infl = results.get_influence()\n",
    "fig, ax = plt.subplots(figsize=(8,8))\n",
    "plt.scatter(np.arange(X.shape[0]), infl.hat_matrix_diag)\n",
    "plt.xlabel('Index')\n",
    "plt.ylabel('Leverage')\n",
    "np.argmax(infl.hat_matrix_diag)"
   ]
  },
  {
   "cell_type": "markdown",
   "id": "07d2e204-e4a9-46b1-a551-949d706ced1c",
   "metadata": {},
   "source": [
    "Verifying the average leverage for all the observations is equal to $\\frac{p+1}{n}$. This is always true."
   ]
  },
  {
   "cell_type": "code",
   "execution_count": 20,
   "id": "43c69290-53a6-4ed8-bc5f-d0e06b3e5b5b",
   "metadata": {
    "tags": []
   },
   "outputs": [
    {
     "data": {
      "text/plain": [
       "0.005102040816326529"
      ]
     },
     "execution_count": 20,
     "metadata": {},
     "output_type": "execute_result"
    }
   ],
   "source": [
    "np.average(infl.hat_matrix_diag)"
   ]
  },
  {
   "cell_type": "code",
   "execution_count": 21,
   "id": "25dec9f6-404e-4c91-a43f-1044dd5a1eb1",
   "metadata": {
    "tags": []
   },
   "outputs": [
    {
     "data": {
      "text/plain": [
       "0.00510204081632653"
      ]
     },
     "execution_count": 21,
     "metadata": {},
     "output_type": "execute_result"
    }
   ],
   "source": [
    "2/392"
   ]
  },
  {
   "cell_type": "code",
   "execution_count": 22,
   "id": "0995d7b8-0671-4cd4-8a61-90a28155623e",
   "metadata": {
    "tags": []
   },
   "outputs": [
    {
     "data": {
      "text/plain": [
       "0.02975300179092141"
      ]
     },
     "execution_count": 22,
     "metadata": {},
     "output_type": "execute_result"
    }
   ],
   "source": [
    "infl.hat_matrix_diag[115]\n",
    "np.max(infl.hat_matrix_diag)"
   ]
  },
  {
   "cell_type": "markdown",
   "id": "95df7ec5-9d34-4852-a067-8e519146d0cd",
   "metadata": {},
   "source": [
    "If a given observation has a leverage statistic that greatly exceeds $\\frac{p+1}{n}$, then we may suspect that the corresponding point has high leverage. Since observation 115 along with a few others as seen in the graph are greater than four times the average leverage, we conclude they have high leverage. This means they may have unusual values for horsepower. If conducting further analysis we may opt to remove these from our data set."
   ]
  },
  {
   "cell_type": "markdown",
   "id": "879ff111-45a4-48aa-a400-96e790199903",
   "metadata": {},
   "source": [
    "**Computing studentized residuals**"
   ]
  },
  {
   "cell_type": "code",
   "execution_count": 23,
   "id": "b6c9097a-4f97-491a-a11d-57b96645d31e",
   "metadata": {
    "tags": []
   },
   "outputs": [],
   "source": [
    "stu_res = results.get_influence().get_resid_studentized_external()"
   ]
  },
  {
   "cell_type": "code",
   "execution_count": 24,
   "id": "a18380dc-7681-447d-adb3-2e7be7f44aa3",
   "metadata": {
    "tags": []
   },
   "outputs": [
    {
     "data": {
      "text/plain": [
       "Text(0, 0.5, 'Studentized Residuals')"
      ]
     },
     "execution_count": 24,
     "metadata": {},
     "output_type": "execute_result"
    },
    {
     "data": {
      "image/png": "[encoded data removed]",
      "text/plain": [
       "<Figure size 800x800 with 1 Axes>"
      ]
     },
     "metadata": {},
     "output_type": "display_data"
    }
   ],
   "source": [
    "fig, ax = plt.subplots(figsize=(8,8))\n",
    "plt.scatter(infl.hat_matrix_diag, stu_res)\n",
    "plt.xlabel('Leverage')\n",
    "plt.ylabel('Studentized Residuals')"
   ]
  },
  {
   "cell_type": "markdown",
   "id": "39af28b3-dc06-4c34-a40c-c7ec9e1d3ab2",
   "metadata": {},
   "source": [
    "There are no points that have high leverage *and* a high studentized residual. We consider a studentized residual to be high if its absolute value is greater than 3. There are however two points with high studentized residuals suggesting they may be considered outliers in our data set."
   ]
  },
  {
   "cell_type": "code",
   "execution_count": 25,
   "id": "f9a685d9-986c-4d83-8310-b361ec143b9a",
   "metadata": {
    "tags": []
   },
   "outputs": [
    {
     "data": {
      "text/plain": [
       "[(320, 3.4589085384404576), (327, 3.1142561792533385)]"
      ]
     },
     "execution_count": 25,
     "metadata": {},
     "output_type": "execute_result"
    }
   ],
   "source": [
    "[(x[0], x[1]) for x in enumerate(stu_res) if np.abs(x[1]) > 3]"
   ]
  },
  {
   "cell_type": "code",
   "execution_count": 26,
   "id": "8dd3c5cc-b925-4318-a983-21b472d8db52",
   "metadata": {
    "tags": []
   },
   "outputs": [
    {
     "data": {
      "text/plain": [
       "(65.0, 46.6)"
      ]
     },
     "execution_count": 26,
     "metadata": {},
     "output_type": "execute_result"
    }
   ],
   "source": [
    "(Auto['horsepower'].iloc[320], Auto['mpg'].iloc[320])"
   ]
  },
  {
   "cell_type": "code",
   "execution_count": 27,
   "id": "f6db2629-68ee-4a35-a3fb-e8279f685180",
   "metadata": {
    "tags": []
   },
   "outputs": [
    {
     "data": {
      "text/plain": [
       "(67.0, 44.6)"
      ]
     },
     "execution_count": 27,
     "metadata": {},
     "output_type": "execute_result"
    }
   ],
   "source": [
    "(Auto['horsepower'].iloc[327], Auto['mpg'].iloc[327])"
   ]
  },
  {
   "cell_type": "markdown",
   "id": "f92534ff-c3aa-47b7-a49c-9db9fc630f00",
   "metadata": {},
   "source": [
    "These two observations may be considered as outliers and possibly removed from our model."
   ]
  }
 ],
 "metadata": {
  "kernelspec": {
   "display_name": "Python 3 (ipykernel)",
   "language": "python",
   "name": "python3"
  },
  "language_info": {
   "codemirror_mode": {
    "name": "ipython",
    "version": 3
   },
   "file_extension": ".py",
   "mimetype": "text/x-python",
   "name": "python",
   "nbconvert_exporter": "python",
   "pygments_lexer": "ipython3",
   "version": "3.11.4"
  }
 },
 "nbformat": 4,
 "nbformat_minor": 5
}
