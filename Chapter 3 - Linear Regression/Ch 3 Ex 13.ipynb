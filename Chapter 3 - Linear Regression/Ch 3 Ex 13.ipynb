{
 "cells": [
  {
   "cell_type": "markdown",
   "id": "e3178b2a-c92e-402f-a1fe-4f7760ae404f",
   "metadata": {},
   "source": [
    "# Chapter 3: Exercise 13"
   ]
  },
  {
   "cell_type": "markdown",
   "id": "5970ae8c-b364-4642-b7a2-e2d5326bbe36",
   "metadata": {},
   "source": [
    "**Import packages**"
   ]
  },
  {
   "cell_type": "code",
   "execution_count": 1,
   "id": "ec5b4fbd-2a0c-4103-ba2c-54054ffbc1fd",
   "metadata": {
    "tags": []
   },
   "outputs": [],
   "source": [
    "# import numpy as np\n",
    "# import pandas as pd\n",
    "# import statsmodels.api as sm\n",
    "# import matplotlib.pyplot as plt\n",
    "# from ISLP.models import (ModelSpec as MS, summarize)"
   ]
  }
 ],
 "metadata": {
  "kernelspec": {
   "display_name": "Python 3 (ipykernel)",
   "language": "python",
   "name": "python3"
  },
  "language_info": {
   "codemirror_mode": {
    "name": "ipython",
    "version": 3
   },
   "file_extension": ".py",
   "mimetype": "text/x-python",
   "name": "python",
   "nbconvert_exporter": "python",
   "pygments_lexer": "ipython3",
   "version": "3.11.4"
  }
 },
 "nbformat": 4,
 "nbformat_minor": 5
}
