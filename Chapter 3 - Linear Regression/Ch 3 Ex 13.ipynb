{
 "cells": [
  {
   "cell_type": "markdown",
   "id": "e3178b2a-c92e-402f-a1fe-4f7760ae404f",
   "metadata": {},
   "source": [
    "# Chapter 3: Exercise 13"
   ]
  },
  {
   "cell_type": "markdown",
   "id": "5970ae8c-b364-4642-b7a2-e2d5326bbe36",
   "metadata": {},
   "source": [
    "**Import packages**"
   ]
  },
  {
   "cell_type": "code",
   "execution_count": 80,
   "id": "ec5b4fbd-2a0c-4103-ba2c-54054ffbc1fd",
   "metadata": {
    "tags": []
   },
   "outputs": [],
   "source": [
    "import numpy as np\n",
    "import matplotlib.pyplot as plt\n",
    "import pandas as pd\n",
    "import statsmodels.api as sm\n",
    "from ISLP.models import summarize"
   ]
  },
  {
   "cell_type": "markdown",
   "id": "c11885fc-b09c-4e90-9e4d-cead53a7faae",
   "metadata": {},
   "source": [
    "### (a) Generate a vector x containing n=100 observations from N(0, 1) distribution"
   ]
  },
  {
   "cell_type": "code",
   "execution_count": 20,
   "id": "b53bfdb2-a14e-4b84-89f2-6d95e5280a61",
   "metadata": {
    "tags": []
   },
   "outputs": [],
   "source": [
    "rng = np.random.default_rng(1)\n",
    "x = rng.normal(size=100)"
   ]
  },
  {
   "cell_type": "markdown",
   "id": "bcb5442c-0aa3-48bc-979c-c4fd039db5fb",
   "metadata": {},
   "source": [
    "### (b) Generate a vector eps containing n=100 observations from N(0, 0.25) (mean=0, variance=0.25)"
   ]
  },
  {
   "cell_type": "code",
   "execution_count": 53,
   "id": "f78bb45b-25ad-45c5-99b1-b9ce6c42c9ea",
   "metadata": {
    "tags": []
   },
   "outputs": [],
   "source": [
    "eps = rng.normal(loc=0, scale=np.sqrt(0.25), size=100)"
   ]
  },
  {
   "cell_type": "markdown",
   "id": "65f40f8a-5982-4236-96bb-69c8e40eb243",
   "metadata": {},
   "source": [
    "### (c) Using x and eps generate a vector y according to $Y = -1 + 0.5X + \\epsilon$"
   ]
  },
  {
   "cell_type": "code",
   "execution_count": 58,
   "id": "96dc6729-f1d9-4d63-804a-3bca89d42975",
   "metadata": {
    "tags": []
   },
   "outputs": [],
   "source": [
    "y = -1 + 0.5 * x + eps"
   ]
  },
  {
   "cell_type": "code",
   "execution_count": 59,
   "id": "aba549d1-ecb3-4ef7-8cf1-95934331082c",
   "metadata": {
    "tags": []
   },
   "outputs": [
    {
     "data": {
      "text/plain": [
       "100"
      ]
     },
     "execution_count": 59,
     "metadata": {},
     "output_type": "execute_result"
    }
   ],
   "source": [
    "len(y)"
   ]
  },
  {
   "cell_type": "markdown",
   "id": "887bc1d2-aa5e-4e46-ac24-26e60074c4b3",
   "metadata": {},
   "source": [
    "- **length(y)** = 100\n",
    "- **$\\beta_0$** = -1\n",
    "- **$\\beta_1$** = 0.5"
   ]
  },
  {
   "cell_type": "markdown",
   "id": "b9390d59-5fdd-4007-8b96-12ff04a6523d",
   "metadata": {},
   "source": [
    "### (d) Scatter plot between x and y"
   ]
  },
  {
   "cell_type": "code",
   "execution_count": 68,
   "id": "944c0733-4a60-40e0-a200-d08238e17d9e",
   "metadata": {
    "tags": []
   },
   "outputs": [
    {
     "data": {
      "text/plain": [
       "<matplotlib.collections.PathCollection at 0x13065f13650>"
      ]
     },
     "execution_count": 68,
     "metadata": {},
     "output_type": "execute_result"
    },
    {
     "data": {
      "image/png": "[encoded data removed]",
      "text/plain": [
       "<Figure size 640x480 with 1 Axes>"
      ]
     },
     "metadata": {},
     "output_type": "display_data"
    }
   ],
   "source": [
    "plt.scatter(x, y)"
   ]
  },
  {
   "cell_type": "markdown",
   "id": "fe18a1f0-3706-4ad2-b9f0-366229865e21",
   "metadata": {},
   "source": [
    "There appears to be a positive linear relationship between x and y."
   ]
  },
  {
   "cell_type": "markdown",
   "id": "0de1f529-147a-42e6-8bb2-beb1903bf1bb",
   "metadata": {},
   "source": [
    "### (e) Least squares linear model to predict y using x"
   ]
  },
  {
   "cell_type": "code",
   "execution_count": 78,
   "id": "337dc79f-6ccc-4568-8bcc-0585056b116f",
   "metadata": {
    "tags": []
   },
   "outputs": [],
   "source": [
    "dfx = pd.DataFrame({'intercept': np.ones(len(x)), 'x': x})"
   ]
  },
  {
   "cell_type": "code",
   "execution_count": 79,
   "id": "9f2adf2b-5d2c-4191-aa49-0aa34052801c",
   "metadata": {
    "tags": []
   },
   "outputs": [],
   "source": [
    "model = sm.OLS(y, dfx)\n",
    "results = model.fit()"
   ]
  },
  {
   "cell_type": "code",
   "execution_count": 81,
   "id": "33ba0101-0b99-450a-956e-b6b7eb5e75a9",
   "metadata": {
    "tags": []
   },
   "outputs": [
    {
     "data": {
      "text/html": [
       "<div>\n",
       "<style scoped>\n",
       "    .dataframe tbody tr th:only-of-type {\n",
       "        vertical-align: middle;\n",
       "    }\n",
       "\n",
       "    .dataframe tbody tr th {\n",
       "        vertical-align: top;\n",
       "    }\n",
       "\n",
       "    .dataframe thead th {\n",
       "        text-align: right;\n",
       "    }\n",
       "</style>\n",
       "<table border=\"1\" class=\"dataframe\">\n",
       "  <thead>\n",
       "    <tr style=\"text-align: right;\">\n",
       "      <th></th>\n",
       "      <th>coef</th>\n",
       "      <th>std err</th>\n",
       "      <th>t</th>\n",
       "      <th>P&gt;|t|</th>\n",
       "    </tr>\n",
       "  </thead>\n",
       "  <tbody>\n",
       "    <tr>\n",
       "      <th>intercept</th>\n",
       "      <td>-1.0340</td>\n",
       "      <td>0.046</td>\n",
       "      <td>-22.238</td>\n",
       "      <td>0.0</td>\n",
       "    </tr>\n",
       "    <tr>\n",
       "      <th>x</th>\n",
       "      <td>0.4028</td>\n",
       "      <td>0.054</td>\n",
       "      <td>7.405</td>\n",
       "      <td>0.0</td>\n",
       "    </tr>\n",
       "  </tbody>\n",
       "</table>\n",
       "</div>"
      ],
      "text/plain": [
       "             coef  std err       t  P>|t|\n",
       "intercept -1.0340    0.046 -22.238    0.0\n",
       "x          0.4028    0.054   7.405    0.0"
      ]
     },
     "execution_count": 81,
     "metadata": {},
     "output_type": "execute_result"
    }
   ],
   "source": [
    "summarize(results)"
   ]
  },
  {
   "cell_type": "markdown",
   "id": "d9ce205c-42c0-428b-b494-d56e8ab85117",
   "metadata": {},
   "source": [
    "Our model performs surprisingly well. $-1.0340 = \\hat{\\beta_0} \\approx \\beta_0 = -1$ and $0.4028 = \\hat{\\beta_1} \\approx \\beta_1 = 0.5$"
   ]
  },
  {
   "cell_type": "markdown",
   "id": "70f33bca-e959-413f-94f3-10450ca99e7b",
   "metadata": {
    "tags": []
   },
   "source": [
    "### (f) Plot of least squares line, population regression line, and scatterplot"
   ]
  },
  {
   "cell_type": "code",
   "execution_count": 88,
   "id": "eb7131d0-887e-47b9-ab9f-09caf9231974",
   "metadata": {
    "tags": []
   },
   "outputs": [],
   "source": [
    "beta0 = results.params[0]"
   ]
  },
  {
   "cell_type": "code",
   "execution_count": 89,
   "id": "cb9038c2-a9b6-4b26-9bc9-acf6239a499d",
   "metadata": {
    "tags": []
   },
   "outputs": [],
   "source": [
    "beta1 = results.params[1]"
   ]
  },
  {
   "cell_type": "code",
   "execution_count": 96,
   "id": "a49c6b4e-38f6-46d7-b01b-d68ea16b5034",
   "metadata": {
    "tags": []
   },
   "outputs": [
    {
     "data": {
      "text/plain": [
       "<matplotlib.legend.Legend at 0x13004c6b910>"
      ]
     },
     "execution_count": 96,
     "metadata": {},
     "output_type": "execute_result"
    },
    {
     "data": {
      "image/png": "[encoded data removed]",
      "text/plain": [
       "<Figure size 640x480 with 1 Axes>"
      ]
     },
     "metadata": {},
     "output_type": "display_data"
    }
   ],
   "source": [
    "plt.scatter(x, y)\n",
    "plt.plot([-3,2.5],[beta0 -3*beta1, beta0 + 2.5*beta1], label='least squares line')\n",
    "plt.plot([-3,2.5],[-1 -3*0.5, -1 + 2.5*0.5], label='pop. regression line')\n",
    "plt.legend()"
   ]
  },
  {
   "cell_type": "code",
   "execution_count": null,
   "id": "1213188e-4823-4685-afb4-75b1ad3c335b",
   "metadata": {},
   "outputs": [],
   "source": []
  }
 ],
 "metadata": {
  "kernelspec": {
   "display_name": "Python 3 (ipykernel)",
   "language": "python",
   "name": "python3"
  },
  "language_info": {
   "codemirror_mode": {
    "name": "ipython",
    "version": 3
   },
   "file_extension": ".py",
   "mimetype": "text/x-python",
   "name": "python",
   "nbconvert_exporter": "python",
   "pygments_lexer": "ipython3",
   "version": "3.11.4"
  }
 },
 "nbformat": 4,
 "nbformat_minor": 5
}
