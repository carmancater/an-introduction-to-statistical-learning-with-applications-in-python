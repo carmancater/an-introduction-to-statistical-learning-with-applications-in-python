{
 "cells": [
  {
   "cell_type": "markdown",
   "id": "e3178b2a-c92e-402f-a1fe-4f7760ae404f",
   "metadata": {},
   "source": [
    "# Chapter 3: Exercise 13"
   ]
  },
  {
   "cell_type": "markdown",
   "id": "5970ae8c-b364-4642-b7a2-e2d5326bbe36",
   "metadata": {},
   "source": [
    "**Import packages**"
   ]
  },
  {
   "cell_type": "code",
   "execution_count": 23,
   "id": "ec5b4fbd-2a0c-4103-ba2c-54054ffbc1fd",
   "metadata": {
    "tags": []
   },
   "outputs": [],
   "source": [
    "import numpy as np\n",
    "import pandas as pd\n",
    "import statsmodels.api as sm\n",
    "import matplotlib.pyplot as plt\n",
    "from statsmodels.stats.anova import anova_lm\n",
    "from ISLP.models import (ModelSpec as MS, summarize, poly)"
   ]
  },
  {
   "cell_type": "markdown",
   "id": "c11885fc-b09c-4e90-9e4d-cead53a7faae",
   "metadata": {},
   "source": [
    "### (a) Generate a vector x containing n=100 observations from N(0, 1) distribution"
   ]
  },
  {
   "cell_type": "code",
   "execution_count": 2,
   "id": "b53bfdb2-a14e-4b84-89f2-6d95e5280a61",
   "metadata": {
    "tags": []
   },
   "outputs": [],
   "source": [
    "rng = np.random.default_rng(1)\n",
    "x = rng.normal(size=100)"
   ]
  },
  {
   "cell_type": "markdown",
   "id": "bcb5442c-0aa3-48bc-979c-c4fd039db5fb",
   "metadata": {},
   "source": [
    "### (b) Generate a vector eps containing n=100 observations from N(0, 0.25) (mean=0, variance=0.25)"
   ]
  },
  {
   "cell_type": "code",
   "execution_count": 3,
   "id": "f78bb45b-25ad-45c5-99b1-b9ce6c42c9ea",
   "metadata": {
    "tags": []
   },
   "outputs": [],
   "source": [
    "eps = rng.normal(loc=0, scale=np.sqrt(0.25), size=100)"
   ]
  },
  {
   "cell_type": "markdown",
   "id": "65f40f8a-5982-4236-96bb-69c8e40eb243",
   "metadata": {},
   "source": [
    "### (c) Using x and eps generate a vector y according to $Y = -1 + 0.5X + \\epsilon$"
   ]
  },
  {
   "cell_type": "code",
   "execution_count": 4,
   "id": "96dc6729-f1d9-4d63-804a-3bca89d42975",
   "metadata": {
    "tags": []
   },
   "outputs": [],
   "source": [
    "y = -1 + 0.5 * x + eps"
   ]
  },
  {
   "cell_type": "code",
   "execution_count": 5,
   "id": "aba549d1-ecb3-4ef7-8cf1-95934331082c",
   "metadata": {
    "tags": []
   },
   "outputs": [
    {
     "data": {
      "text/plain": [
       "100"
      ]
     },
     "execution_count": 5,
     "metadata": {},
     "output_type": "execute_result"
    }
   ],
   "source": [
    "len(y)"
   ]
  },
  {
   "cell_type": "markdown",
   "id": "887bc1d2-aa5e-4e46-ac24-26e60074c4b3",
   "metadata": {},
   "source": [
    "- **length(y)** = 100\n",
    "- **$\\beta_0$** = -1\n",
    "- **$\\beta_1$** = 0.5"
   ]
  },
  {
   "cell_type": "markdown",
   "id": "b9390d59-5fdd-4007-8b96-12ff04a6523d",
   "metadata": {},
   "source": [
    "### (d) Scatter plot between x and y"
   ]
  },
  {
   "cell_type": "code",
   "execution_count": 6,
   "id": "944c0733-4a60-40e0-a200-d08238e17d9e",
   "metadata": {
    "tags": []
   },
   "outputs": [
    {
     "data": {
      "text/plain": [
       "<matplotlib.collections.PathCollection at 0x256f2976450>"
      ]
     },
     "execution_count": 6,
     "metadata": {},
     "output_type": "execute_result"
    },
    {
     "data": {
      "image/png": "[encoded data removed]",
      "text/plain": [
       "<Figure size 640x480 with 1 Axes>"
      ]
     },
     "metadata": {},
     "output_type": "display_data"
    }
   ],
   "source": [
    "plt.scatter(x, y)"
   ]
  },
  {
   "cell_type": "markdown",
   "id": "fe18a1f0-3706-4ad2-b9f0-366229865e21",
   "metadata": {},
   "source": [
    "There appears to be a positive linear relationship between x and y."
   ]
  },
  {
   "cell_type": "markdown",
   "id": "0de1f529-147a-42e6-8bb2-beb1903bf1bb",
   "metadata": {},
   "source": [
    "### (e) Least squares linear model to predict y using x"
   ]
  },
  {
   "cell_type": "code",
   "execution_count": 7,
   "id": "337dc79f-6ccc-4568-8bcc-0585056b116f",
   "metadata": {
    "tags": []
   },
   "outputs": [],
   "source": [
    "dfx = pd.DataFrame({'intercept': np.ones(len(x)), 'x': x})"
   ]
  },
  {
   "cell_type": "code",
   "execution_count": 8,
   "id": "9f2adf2b-5d2c-4191-aa49-0aa34052801c",
   "metadata": {
    "tags": []
   },
   "outputs": [],
   "source": [
    "model = sm.OLS(y, dfx)\n",
    "results = model.fit()"
   ]
  },
  {
   "cell_type": "code",
   "execution_count": 9,
   "id": "33ba0101-0b99-450a-956e-b6b7eb5e75a9",
   "metadata": {
    "tags": []
   },
   "outputs": [
    {
     "data": {
      "text/html": [
       "<div>\n",
       "<style scoped>\n",
       "    .dataframe tbody tr th:only-of-type {\n",
       "        vertical-align: middle;\n",
       "    }\n",
       "\n",
       "    .dataframe tbody tr th {\n",
       "        vertical-align: top;\n",
       "    }\n",
       "\n",
       "    .dataframe thead th {\n",
       "        text-align: right;\n",
       "    }\n",
       "</style>\n",
       "<table border=\"1\" class=\"dataframe\">\n",
       "  <thead>\n",
       "    <tr style=\"text-align: right;\">\n",
       "      <th></th>\n",
       "      <th>coef</th>\n",
       "      <th>std err</th>\n",
       "      <th>t</th>\n",
       "      <th>P&gt;|t|</th>\n",
       "    </tr>\n",
       "  </thead>\n",
       "  <tbody>\n",
       "    <tr>\n",
       "      <th>intercept</th>\n",
       "      <td>-1.0380</td>\n",
       "      <td>0.050</td>\n",
       "      <td>-20.647</td>\n",
       "      <td>0.0</td>\n",
       "    </tr>\n",
       "    <tr>\n",
       "      <th>x</th>\n",
       "      <td>0.4843</td>\n",
       "      <td>0.059</td>\n",
       "      <td>8.233</td>\n",
       "      <td>0.0</td>\n",
       "    </tr>\n",
       "  </tbody>\n",
       "</table>\n",
       "</div>"
      ],
      "text/plain": [
       "             coef  std err       t  P>|t|\n",
       "intercept -1.0380    0.050 -20.647    0.0\n",
       "x          0.4843    0.059   8.233    0.0"
      ]
     },
     "execution_count": 9,
     "metadata": {},
     "output_type": "execute_result"
    }
   ],
   "source": [
    "summarize(results)"
   ]
  },
  {
   "cell_type": "markdown",
   "id": "d9ce205c-42c0-428b-b494-d56e8ab85117",
   "metadata": {},
   "source": [
    "Our model performs surprisingly well. $-1.0380 = \\hat{\\beta_0} \\approx \\beta_0 = -1$ and $0.4843 = \\hat{\\beta_1} \\approx \\beta_1 = 0.5$"
   ]
  },
  {
   "cell_type": "markdown",
   "id": "70f33bca-e959-413f-94f3-10450ca99e7b",
   "metadata": {
    "tags": []
   },
   "source": [
    "### (f) Plot of least squares line, population regression line, and scatterplot"
   ]
  },
  {
   "cell_type": "code",
   "execution_count": 10,
   "id": "eb7131d0-887e-47b9-ab9f-09caf9231974",
   "metadata": {
    "tags": []
   },
   "outputs": [],
   "source": [
    "beta0 = results.params[0]"
   ]
  },
  {
   "cell_type": "code",
   "execution_count": 11,
   "id": "cb9038c2-a9b6-4b26-9bc9-acf6239a499d",
   "metadata": {
    "tags": []
   },
   "outputs": [],
   "source": [
    "beta1 = results.params[1]"
   ]
  },
  {
   "cell_type": "code",
   "execution_count": 12,
   "id": "a49c6b4e-38f6-46d7-b01b-d68ea16b5034",
   "metadata": {
    "tags": []
   },
   "outputs": [
    {
     "data": {
      "text/plain": [
       "<matplotlib.legend.Legend at 0x256f4764650>"
      ]
     },
     "execution_count": 12,
     "metadata": {},
     "output_type": "execute_result"
    },
    {
     "data": {
      "image/png": "[encoded data removed]",
      "text/plain": [
       "<Figure size 640x480 with 1 Axes>"
      ]
     },
     "metadata": {},
     "output_type": "display_data"
    }
   ],
   "source": [
    "plt.scatter(x, y)\n",
    "plt.plot([-3,2.5],[beta0 -3*beta1, beta0 + 2.5*beta1], label='least squares line')\n",
    "plt.plot([-3,2.5],[-1 -3*0.5, -1 + 2.5*0.5], label='pop. regression line')\n",
    "plt.legend()"
   ]
  },
  {
   "cell_type": "markdown",
   "id": "beff6c99-099e-406f-bcd6-93057fc53031",
   "metadata": {},
   "source": [
    "### (g) Polynomial regression model that predicts $y$ using $x$ and $x^2$"
   ]
  },
  {
   "cell_type": "code",
   "execution_count": 15,
   "id": "1fb12694-b3bf-4ba3-97b5-aabb011af1a1",
   "metadata": {
    "tags": []
   },
   "outputs": [],
   "source": [
    "df = pd.DataFrame({'x': x, 'y': y})"
   ]
  },
  {
   "cell_type": "code",
   "execution_count": 20,
   "id": "81b05ed7-a447-4c19-8c73-b6e82e821759",
   "metadata": {
    "tags": []
   },
   "outputs": [],
   "source": [
    "X = MS([poly('x', degree=2)]).fit_transform(df)"
   ]
  },
  {
   "cell_type": "code",
   "execution_count": 21,
   "id": "eda1654b-d851-44bf-9e11-308f68242a7b",
   "metadata": {
    "tags": []
   },
   "outputs": [],
   "source": [
    "model2 = sm.OLS(y, X)\n",
    "results2 = model2.fit()"
   ]
  },
  {
   "cell_type": "code",
   "execution_count": 22,
   "id": "7617e856-abdc-4595-aa86-449c63209c49",
   "metadata": {
    "tags": []
   },
   "outputs": [
    {
     "data": {
      "text/html": [
       "<div>\n",
       "<style scoped>\n",
       "    .dataframe tbody tr th:only-of-type {\n",
       "        vertical-align: middle;\n",
       "    }\n",
       "\n",
       "    .dataframe tbody tr th {\n",
       "        vertical-align: top;\n",
       "    }\n",
       "\n",
       "    .dataframe thead th {\n",
       "        text-align: right;\n",
       "    }\n",
       "</style>\n",
       "<table border=\"1\" class=\"dataframe\">\n",
       "  <thead>\n",
       "    <tr style=\"text-align: right;\">\n",
       "      <th></th>\n",
       "      <th>coef</th>\n",
       "      <th>std err</th>\n",
       "      <th>t</th>\n",
       "      <th>P&gt;|t|</th>\n",
       "    </tr>\n",
       "  </thead>\n",
       "  <tbody>\n",
       "    <tr>\n",
       "      <th>intercept</th>\n",
       "      <td>-1.0737</td>\n",
       "      <td>0.050</td>\n",
       "      <td>-21.326</td>\n",
       "      <td>0.000</td>\n",
       "    </tr>\n",
       "    <tr>\n",
       "      <th>poly(x, degree=2)[0]</th>\n",
       "      <td>4.1240</td>\n",
       "      <td>0.503</td>\n",
       "      <td>8.191</td>\n",
       "      <td>0.000</td>\n",
       "    </tr>\n",
       "    <tr>\n",
       "      <th>poly(x, degree=2)[1]</th>\n",
       "      <td>-0.0261</td>\n",
       "      <td>0.503</td>\n",
       "      <td>-0.052</td>\n",
       "      <td>0.959</td>\n",
       "    </tr>\n",
       "  </tbody>\n",
       "</table>\n",
       "</div>"
      ],
      "text/plain": [
       "                        coef  std err       t  P>|t|\n",
       "intercept            -1.0737    0.050 -21.326  0.000\n",
       "poly(x, degree=2)[0]  4.1240    0.503   8.191  0.000\n",
       "poly(x, degree=2)[1] -0.0261    0.503  -0.052  0.959"
      ]
     },
     "execution_count": 22,
     "metadata": {},
     "output_type": "execute_result"
    }
   ],
   "source": [
    "summarize(results2)"
   ]
  },
  {
   "cell_type": "code",
   "execution_count": 24,
   "id": "6b89fe46-00a1-4a8e-81fc-eccc9f98d6f6",
   "metadata": {
    "tags": []
   },
   "outputs": [
    {
     "data": {
      "text/html": [
       "<div>\n",
       "<style scoped>\n",
       "    .dataframe tbody tr th:only-of-type {\n",
       "        vertical-align: middle;\n",
       "    }\n",
       "\n",
       "    .dataframe tbody tr th {\n",
       "        vertical-align: top;\n",
       "    }\n",
       "\n",
       "    .dataframe thead th {\n",
       "        text-align: right;\n",
       "    }\n",
       "</style>\n",
       "<table border=\"1\" class=\"dataframe\">\n",
       "  <thead>\n",
       "    <tr style=\"text-align: right;\">\n",
       "      <th></th>\n",
       "      <th>df_resid</th>\n",
       "      <th>ssr</th>\n",
       "      <th>df_diff</th>\n",
       "      <th>ss_diff</th>\n",
       "      <th>F</th>\n",
       "      <th>Pr(&gt;F)</th>\n",
       "    </tr>\n",
       "  </thead>\n",
       "  <tbody>\n",
       "    <tr>\n",
       "      <th>0</th>\n",
       "      <td>98.0</td>\n",
       "      <td>24.586567</td>\n",
       "      <td>0.0</td>\n",
       "      <td>NaN</td>\n",
       "      <td>NaN</td>\n",
       "      <td>NaN</td>\n",
       "    </tr>\n",
       "    <tr>\n",
       "      <th>1</th>\n",
       "      <td>97.0</td>\n",
       "      <td>24.585886</td>\n",
       "      <td>1.0</td>\n",
       "      <td>0.000681</td>\n",
       "      <td>0.002688</td>\n",
       "      <td>0.958757</td>\n",
       "    </tr>\n",
       "  </tbody>\n",
       "</table>\n",
       "</div>"
      ],
      "text/plain": [
       "   df_resid        ssr  df_diff   ss_diff         F    Pr(>F)\n",
       "0      98.0  24.586567      0.0       NaN       NaN       NaN\n",
       "1      97.0  24.585886      1.0  0.000681  0.002688  0.958757"
      ]
     },
     "execution_count": 24,
     "metadata": {},
     "output_type": "execute_result"
    }
   ],
   "source": [
    "anova_lm(results, results2)"
   ]
  },
  {
   "cell_type": "markdown",
   "id": "d67095ce-8f62-4d37-880a-d375e65ca379",
   "metadata": {},
   "source": [
    "There is no evidence the quadratic term improves the model fit. This is seen by the high p-value associated with the t-statistic as well as the high p-value associated with the F-statistic."
   ]
  }
 ],
 "metadata": {
  "kernelspec": {
   "display_name": "Python 3 (ipykernel)",
   "language": "python",
   "name": "python3"
  },
  "language_info": {
   "codemirror_mode": {
    "name": "ipython",
    "version": 3
   },
   "file_extension": ".py",
   "mimetype": "text/x-python",
   "name": "python",
   "nbconvert_exporter": "python",
   "pygments_lexer": "ipython3",
   "version": "3.11.4"
  }
 },
 "nbformat": 4,
 "nbformat_minor": 5
}
