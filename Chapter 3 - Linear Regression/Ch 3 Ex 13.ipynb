{
 "cells": [
  {
   "cell_type": "markdown",
   "id": "e3178b2a-c92e-402f-a1fe-4f7760ae404f",
   "metadata": {},
   "source": [
    "# Chapter 3: Exercise 13"
   ]
  },
  {
   "cell_type": "markdown",
   "id": "5970ae8c-b364-4642-b7a2-e2d5326bbe36",
   "metadata": {},
   "source": [
    "**Import packages**"
   ]
  },
  {
   "cell_type": "code",
   "execution_count": 2,
   "id": "ec5b4fbd-2a0c-4103-ba2c-54054ffbc1fd",
   "metadata": {
    "tags": []
   },
   "outputs": [],
   "source": [
    "import numpy as np\n",
    "# import pandas as pd\n",
    "# import statsmodels.api as sm\n",
    "# import matplotlib.pyplot as plt\n",
    "# from ISLP.models import (ModelSpec as MS, summarize)"
   ]
  },
  {
   "cell_type": "markdown",
   "id": "c11885fc-b09c-4e90-9e4d-cead53a7faae",
   "metadata": {},
   "source": [
    "### (a) Generate a vector x containing n=100 observations from N(0, 1) distribution"
   ]
  },
  {
   "cell_type": "code",
   "execution_count": 20,
   "id": "b53bfdb2-a14e-4b84-89f2-6d95e5280a61",
   "metadata": {
    "tags": []
   },
   "outputs": [],
   "source": [
    "rng = np.random.default_rng(1)\n",
    "x = rng.normal(size=100)"
   ]
  },
  {
   "cell_type": "markdown",
   "id": "bcb5442c-0aa3-48bc-979c-c4fd039db5fb",
   "metadata": {},
   "source": [
    "### (b) Generate a vector eps containing n=100 observations from N(0, 0.25) (mean=0, variance=0.25)"
   ]
  },
  {
   "cell_type": "code",
   "execution_count": 53,
   "id": "f78bb45b-25ad-45c5-99b1-b9ce6c42c9ea",
   "metadata": {
    "tags": []
   },
   "outputs": [],
   "source": [
    "eps = rng.normal(loc=0, scale=np.sqrt(0.25), size=100)"
   ]
  },
  {
   "cell_type": "markdown",
   "id": "65f40f8a-5982-4236-96bb-69c8e40eb243",
   "metadata": {},
   "source": [
    "### (c) Using x and eps generate a vector y according to $Y = -1 + 0.5X + \\epsilon$"
   ]
  },
  {
   "cell_type": "code",
   "execution_count": 58,
   "id": "96dc6729-f1d9-4d63-804a-3bca89d42975",
   "metadata": {
    "tags": []
   },
   "outputs": [],
   "source": [
    "y = -1 + 0.5 * x + eps"
   ]
  },
  {
   "cell_type": "code",
   "execution_count": 59,
   "id": "aba549d1-ecb3-4ef7-8cf1-95934331082c",
   "metadata": {
    "tags": []
   },
   "outputs": [
    {
     "data": {
      "text/plain": [
       "100"
      ]
     },
     "execution_count": 59,
     "metadata": {},
     "output_type": "execute_result"
    }
   ],
   "source": [
    "len(y)"
   ]
  },
  {
   "cell_type": "markdown",
   "id": "887bc1d2-aa5e-4e46-ac24-26e60074c4b3",
   "metadata": {},
   "source": [
    "- **length(y)** = 100\n",
    "- **$\\beta_0$** = -1\n",
    "- **$\\beta_1$** = 0.5"
   ]
  }
 ],
 "metadata": {
  "kernelspec": {
   "display_name": "Python 3 (ipykernel)",
   "language": "python",
   "name": "python3"
  },
  "language_info": {
   "codemirror_mode": {
    "name": "ipython",
    "version": 3
   },
   "file_extension": ".py",
   "mimetype": "text/x-python",
   "name": "python",
   "nbconvert_exporter": "python",
   "pygments_lexer": "ipython3",
   "version": "3.11.4"
  }
 },
 "nbformat": 4,
 "nbformat_minor": 5
}
