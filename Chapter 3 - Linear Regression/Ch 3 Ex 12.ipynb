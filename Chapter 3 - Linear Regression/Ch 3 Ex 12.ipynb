{
 "cells": [
  {
   "cell_type": "markdown",
   "id": "4e8544c8-aec5-4212-8082-e41ce5f8e150",
   "metadata": {
    "tags": []
   },
   "source": [
    "# Chapter 3: Exercise 12"
   ]
  },
  {
   "cell_type": "markdown",
   "id": "254b550e-e7c9-44e4-a6e5-47e9eb98b469",
   "metadata": {},
   "source": [
    "**Import packages**"
   ]
  },
  {
   "cell_type": "code",
   "execution_count": 25,
   "id": "76780623-98fc-44af-94a5-f4d6ede35164",
   "metadata": {
    "tags": []
   },
   "outputs": [],
   "source": [
    "import random\n",
    "import numpy as np\n",
    "import statsmodels.api as sm\n",
    "from ISLP.models import summarize"
   ]
  },
  {
   "cell_type": "markdown",
   "id": "011d76a7-8ec4-4ecd-adf8-c3c5ad4ae811",
   "metadata": {},
   "source": [
    "### (a) Coefficient estimates for simple linear regression without an intercept. When are they the same?"
   ]
  },
  {
   "cell_type": "markdown",
   "id": "77c4008e-c1fc-4e48-bb2c-665755413860",
   "metadata": {},
   "source": [
    "$$\\hat{\\beta} = \\frac{\\sum\\limits_{i=1}^n x_i y_i}{\\sum\\limits_{i'=1}^n x_{i'}^2}$$"
   ]
  },
  {
   "cell_type": "markdown",
   "id": "99e53e28-87b4-4b1a-a96d-c58d0c1647da",
   "metadata": {},
   "source": [
    "The above is the coefficient estimate for linear regression of Y onto X. When the sum of squares of the terms in X and Y are identical, the coefficient estimate for linear regression of X onto Y is the same as Y onto X."
   ]
  },
  {
   "cell_type": "markdown",
   "id": "862d8c57-67c2-4ea6-aa10-17221fd2f5ae",
   "metadata": {},
   "source": [
    "### (b) Example of n=100 observations with different coefficient estimates"
   ]
  },
  {
   "cell_type": "code",
   "execution_count": 39,
   "id": "4e124c3c-464d-4de1-8657-920c0d3e653a",
   "metadata": {
    "tags": []
   },
   "outputs": [],
   "source": [
    "x = [random.randint(0, 30) for i in range(100)]\n",
    "y = [random.randint(0, 30) for i in range(100)]"
   ]
  },
  {
   "cell_type": "code",
   "execution_count": 40,
   "id": "bf0b85ce-1a2c-49cd-bb81-ba8cf28d9791",
   "metadata": {
    "tags": []
   },
   "outputs": [
    {
     "data": {
      "text/html": [
       "<div>\n",
       "<style scoped>\n",
       "    .dataframe tbody tr th:only-of-type {\n",
       "        vertical-align: middle;\n",
       "    }\n",
       "\n",
       "    .dataframe tbody tr th {\n",
       "        vertical-align: top;\n",
       "    }\n",
       "\n",
       "    .dataframe thead th {\n",
       "        text-align: right;\n",
       "    }\n",
       "</style>\n",
       "<table border=\"1\" class=\"dataframe\">\n",
       "  <thead>\n",
       "    <tr style=\"text-align: right;\">\n",
       "      <th></th>\n",
       "      <th>coef</th>\n",
       "      <th>std err</th>\n",
       "      <th>t</th>\n",
       "      <th>P&gt;|t|</th>\n",
       "    </tr>\n",
       "  </thead>\n",
       "  <tbody>\n",
       "    <tr>\n",
       "      <th>x1</th>\n",
       "      <td>0.7351</td>\n",
       "      <td>0.064</td>\n",
       "      <td>11.571</td>\n",
       "      <td>0.0</td>\n",
       "    </tr>\n",
       "  </tbody>\n",
       "</table>\n",
       "</div>"
      ],
      "text/plain": [
       "      coef  std err       t  P>|t|\n",
       "x1  0.7351    0.064  11.571    0.0"
      ]
     },
     "execution_count": 40,
     "metadata": {},
     "output_type": "execute_result"
    }
   ],
   "source": [
    "summarize(sm.OLS(y, x).fit())"
   ]
  },
  {
   "cell_type": "code",
   "execution_count": 41,
   "id": "1f9cd014-47ce-45fc-b6c5-42e7df349c5c",
   "metadata": {
    "tags": []
   },
   "outputs": [
    {
     "data": {
      "text/html": [
       "<div>\n",
       "<style scoped>\n",
       "    .dataframe tbody tr th:only-of-type {\n",
       "        vertical-align: middle;\n",
       "    }\n",
       "\n",
       "    .dataframe tbody tr th {\n",
       "        vertical-align: top;\n",
       "    }\n",
       "\n",
       "    .dataframe thead th {\n",
       "        text-align: right;\n",
       "    }\n",
       "</style>\n",
       "<table border=\"1\" class=\"dataframe\">\n",
       "  <thead>\n",
       "    <tr style=\"text-align: right;\">\n",
       "      <th></th>\n",
       "      <th>coef</th>\n",
       "      <th>std err</th>\n",
       "      <th>t</th>\n",
       "      <th>P&gt;|t|</th>\n",
       "    </tr>\n",
       "  </thead>\n",
       "  <tbody>\n",
       "    <tr>\n",
       "      <th>x1</th>\n",
       "      <td>0.7821</td>\n",
       "      <td>0.068</td>\n",
       "      <td>11.571</td>\n",
       "      <td>0.0</td>\n",
       "    </tr>\n",
       "  </tbody>\n",
       "</table>\n",
       "</div>"
      ],
      "text/plain": [
       "      coef  std err       t  P>|t|\n",
       "x1  0.7821    0.068  11.571    0.0"
      ]
     },
     "execution_count": 41,
     "metadata": {},
     "output_type": "execute_result"
    }
   ],
   "source": [
    "summarize(sm.OLS(x, y).fit())"
   ]
  },
  {
   "cell_type": "markdown",
   "id": "faf0b777-d1f1-4a70-8611-066565d813ca",
   "metadata": {},
   "source": [
    "### (c) Example of n=100 observations with the same coefficient estimates"
   ]
  },
  {
   "cell_type": "code",
   "execution_count": 81,
   "id": "ce98e206-5e51-46be-abae-e49740975249",
   "metadata": {
    "tags": []
   },
   "outputs": [],
   "source": [
    "x = [random.randint(0, 30) for i in range(99)]\n",
    "y = [random.randint(0, 30) for i in range(99)]"
   ]
  },
  {
   "cell_type": "markdown",
   "id": "038ef912-d76d-40a3-87dc-19e2db70dd8b",
   "metadata": {},
   "source": [
    "**Force sum of squares to be equal in both lists**"
   ]
  },
  {
   "cell_type": "code",
   "execution_count": 84,
   "id": "a26a3316-1d64-4ed8-a9cd-b020f12afb86",
   "metadata": {
    "tags": []
   },
   "outputs": [],
   "source": [
    "if np.sum(np.square(x)) < np.sum(np.square(y)):\n",
    "    y.append(0)\n",
    "    x.append(np.sqrt(np.abs(np.sum(np.square(x)) - np.sum(np.square(y)))))\n",
    "else:\n",
    "    x.append(0)\n",
    "    y.append(np.sqrt(np.abs(np.sum(np.square(x)) - np.sum(np.square(y)))))"
   ]
  },
  {
   "cell_type": "code",
   "execution_count": 85,
   "id": "ca7df1f2-d55f-4b75-8afc-307ea4d6be52",
   "metadata": {
    "tags": []
   },
   "outputs": [
    {
     "data": {
      "text/plain": [
       "28372"
      ]
     },
     "execution_count": 85,
     "metadata": {},
     "output_type": "execute_result"
    }
   ],
   "source": [
    "np.sum(np.square(x))  "
   ]
  },
  {
   "cell_type": "code",
   "execution_count": 86,
   "id": "3d62df95-b1dc-43cd-a31e-1c75a9cc59a5",
   "metadata": {
    "tags": []
   },
   "outputs": [
    {
     "data": {
      "text/plain": [
       "28372.0"
      ]
     },
     "execution_count": 86,
     "metadata": {},
     "output_type": "execute_result"
    }
   ],
   "source": [
    "np.sum(np.square(y))  "
   ]
  },
  {
   "cell_type": "markdown",
   "id": "76492265-624c-4234-aa86-a1a2ef4cfb43",
   "metadata": {},
   "source": [
    "**This gives us equal coefficient estimates**"
   ]
  },
  {
   "cell_type": "code",
   "execution_count": 87,
   "id": "db01fdc5-2714-48a6-82a8-c4c0f800cc9d",
   "metadata": {
    "tags": []
   },
   "outputs": [
    {
     "data": {
      "text/html": [
       "<div>\n",
       "<style scoped>\n",
       "    .dataframe tbody tr th:only-of-type {\n",
       "        vertical-align: middle;\n",
       "    }\n",
       "\n",
       "    .dataframe tbody tr th {\n",
       "        vertical-align: top;\n",
       "    }\n",
       "\n",
       "    .dataframe thead th {\n",
       "        text-align: right;\n",
       "    }\n",
       "</style>\n",
       "<table border=\"1\" class=\"dataframe\">\n",
       "  <thead>\n",
       "    <tr style=\"text-align: right;\">\n",
       "      <th></th>\n",
       "      <th>coef</th>\n",
       "      <th>std err</th>\n",
       "      <th>t</th>\n",
       "      <th>P&gt;|t|</th>\n",
       "    </tr>\n",
       "  </thead>\n",
       "  <tbody>\n",
       "    <tr>\n",
       "      <th>x1</th>\n",
       "      <td>0.7076</td>\n",
       "      <td>0.071</td>\n",
       "      <td>9.965</td>\n",
       "      <td>0.0</td>\n",
       "    </tr>\n",
       "  </tbody>\n",
       "</table>\n",
       "</div>"
      ],
      "text/plain": [
       "      coef  std err      t  P>|t|\n",
       "x1  0.7076    0.071  9.965    0.0"
      ]
     },
     "execution_count": 87,
     "metadata": {},
     "output_type": "execute_result"
    }
   ],
   "source": [
    "summarize(sm.OLS(y, x).fit())"
   ]
  },
  {
   "cell_type": "code",
   "execution_count": 88,
   "id": "4d347c9c-d271-4a20-b3de-5e699965897d",
   "metadata": {
    "tags": []
   },
   "outputs": [
    {
     "data": {
      "text/html": [
       "<div>\n",
       "<style scoped>\n",
       "    .dataframe tbody tr th:only-of-type {\n",
       "        vertical-align: middle;\n",
       "    }\n",
       "\n",
       "    .dataframe tbody tr th {\n",
       "        vertical-align: top;\n",
       "    }\n",
       "\n",
       "    .dataframe thead th {\n",
       "        text-align: right;\n",
       "    }\n",
       "</style>\n",
       "<table border=\"1\" class=\"dataframe\">\n",
       "  <thead>\n",
       "    <tr style=\"text-align: right;\">\n",
       "      <th></th>\n",
       "      <th>coef</th>\n",
       "      <th>std err</th>\n",
       "      <th>t</th>\n",
       "      <th>P&gt;|t|</th>\n",
       "    </tr>\n",
       "  </thead>\n",
       "  <tbody>\n",
       "    <tr>\n",
       "      <th>x1</th>\n",
       "      <td>0.7076</td>\n",
       "      <td>0.071</td>\n",
       "      <td>9.965</td>\n",
       "      <td>0.0</td>\n",
       "    </tr>\n",
       "  </tbody>\n",
       "</table>\n",
       "</div>"
      ],
      "text/plain": [
       "      coef  std err      t  P>|t|\n",
       "x1  0.7076    0.071  9.965    0.0"
      ]
     },
     "execution_count": 88,
     "metadata": {},
     "output_type": "execute_result"
    }
   ],
   "source": [
    "summarize(sm.OLS(x, y).fit())"
   ]
  }
 ],
 "metadata": {
  "kernelspec": {
   "display_name": "Python 3 (ipykernel)",
   "language": "python",
   "name": "python3"
  },
  "language_info": {
   "codemirror_mode": {
    "name": "ipython",
    "version": 3
   },
   "file_extension": ".py",
   "mimetype": "text/x-python",
   "name": "python",
   "nbconvert_exporter": "python",
   "pygments_lexer": "ipython3",
   "version": "3.11.4"
  }
 },
 "nbformat": 4,
 "nbformat_minor": 5
}
