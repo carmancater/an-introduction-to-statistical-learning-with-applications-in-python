{
 "cells": [
  {
   "cell_type": "markdown",
   "id": "01381fd6-c1ee-484e-9dc1-af482fb10c67",
   "metadata": {},
   "source": [
    "# Chapter 3: Exercise 14"
   ]
  },
  {
   "cell_type": "markdown",
   "id": "47bcaeed-bbe5-4ee1-a9b0-a69f972a7c2b",
   "metadata": {
    "tags": []
   },
   "source": [
    "## Exploring Collinearity"
   ]
  },
  {
   "cell_type": "markdown",
   "id": "0c6d3e50-5141-4388-922f-fd90bf5a236d",
   "metadata": {},
   "source": [
    "**Import packages**"
   ]
  },
  {
   "cell_type": "code",
   "execution_count": 1,
   "id": "1cdc9845-41b8-4d0c-84f6-a2afdd8954f4",
   "metadata": {
    "tags": []
   },
   "outputs": [],
   "source": [
    "import numpy as np\n",
    "import pandas as pd\n",
    "import statsmodels.api as sm\n",
    "import matplotlib.pyplot as plt\n",
    "from statsmodels.stats.anova import anova_lm\n",
    "from ISLP.models import (ModelSpec as MS, summarize)"
   ]
  },
  {
   "cell_type": "markdown",
   "id": "d942228a-9ad6-4a82-94a8-dcb5d01ab8e6",
   "metadata": {},
   "source": [
    "### (a) Perform some commands"
   ]
  },
  {
   "cell_type": "code",
   "execution_count": 2,
   "id": "7908ac95-8376-4171-b974-aade7a2c9924",
   "metadata": {
    "tags": []
   },
   "outputs": [],
   "source": [
    "rng = np.random.default_rng (10)\n",
    "x1 = rng.uniform(0, 1, size=100)\n",
    "x2 = 0.5 * x1 + rng.normal(size=100) / 10\n",
    "y = 2 + 2 * x1 + 0.3 * x2 + rng.normal(size=100)"
   ]
  },
  {
   "cell_type": "markdown",
   "id": "4e3a6f06-9ada-480b-b832-afa32c896e49",
   "metadata": {},
   "source": [
    "Form of linear model: $$y = \\beta_0 + \\beta_1 X_1 + \\beta_2 X_2 + \\epsilon$$\n",
    "$$y = 2 + 2 X_1 + 0.3 X_2 + \\epsilon$$"
   ]
  },
  {
   "cell_type": "markdown",
   "id": "f08087aa-d772-446f-9019-60779d3f39d3",
   "metadata": {},
   "source": [
    "Regression Coefficients: \n",
    "- $\\beta_0 = 2$\n",
    "- $\\beta_1 = 2$\n",
    "- $\\beta_2 = 0.3$"
   ]
  },
  {
   "cell_type": "markdown",
   "id": "f1650c3a-0558-4076-9475-d50a04897376",
   "metadata": {},
   "source": [
    "### (b) Correlation and scatterplot between $x1$ and $x2$"
   ]
  },
  {
   "cell_type": "code",
   "execution_count": 3,
   "id": "d190a424-2b34-4601-8dd2-7ae0a9137800",
   "metadata": {
    "tags": []
   },
   "outputs": [],
   "source": [
    "df = pd.DataFrame({'x1': x1, 'x2': x2})"
   ]
  },
  {
   "cell_type": "code",
   "execution_count": 4,
   "id": "c24c5515-f08f-43eb-acef-fad69ff18043",
   "metadata": {
    "tags": []
   },
   "outputs": [],
   "source": [
    "np.corrcoef(x1, x2);"
   ]
  },
  {
   "cell_type": "code",
   "execution_count": 5,
   "id": "8e013409-e5f0-4b29-ab4d-53538c014b00",
   "metadata": {
    "tags": []
   },
   "outputs": [
    {
     "data": {
      "text/html": [
       "<div>\n",
       "<style scoped>\n",
       "    .dataframe tbody tr th:only-of-type {\n",
       "        vertical-align: middle;\n",
       "    }\n",
       "\n",
       "    .dataframe tbody tr th {\n",
       "        vertical-align: top;\n",
       "    }\n",
       "\n",
       "    .dataframe thead th {\n",
       "        text-align: right;\n",
       "    }\n",
       "</style>\n",
       "<table border=\"1\" class=\"dataframe\">\n",
       "  <thead>\n",
       "    <tr style=\"text-align: right;\">\n",
       "      <th></th>\n",
       "      <th>x1</th>\n",
       "      <th>x2</th>\n",
       "    </tr>\n",
       "  </thead>\n",
       "  <tbody>\n",
       "    <tr>\n",
       "      <th>x1</th>\n",
       "      <td>1.000000</td>\n",
       "      <td>0.772324</td>\n",
       "    </tr>\n",
       "    <tr>\n",
       "      <th>x2</th>\n",
       "      <td>0.772324</td>\n",
       "      <td>1.000000</td>\n",
       "    </tr>\n",
       "  </tbody>\n",
       "</table>\n",
       "</div>"
      ],
      "text/plain": [
       "          x1        x2\n",
       "x1  1.000000  0.772324\n",
       "x2  0.772324  1.000000"
      ]
     },
     "execution_count": 5,
     "metadata": {},
     "output_type": "execute_result"
    }
   ],
   "source": [
    "df.corr()"
   ]
  },
  {
   "cell_type": "markdown",
   "id": "2e8ad3c6-b8a5-45b5-9f52-5a43877f7fc1",
   "metadata": {},
   "source": [
    "The correlation between $x1$ and $x2$ is $0.7723245$"
   ]
  },
  {
   "cell_type": "code",
   "execution_count": 6,
   "id": "737de855-0b07-42cc-8a3e-e365c42415ea",
   "metadata": {
    "tags": []
   },
   "outputs": [
    {
     "data": {
      "image/png": "[encoded data removed]",
      "text/plain": [
       "<Figure size 640x480 with 1 Axes>"
      ]
     },
     "metadata": {},
     "output_type": "display_data"
    }
   ],
   "source": [
    "df.plot.scatter('x1', 'x2');"
   ]
  },
  {
   "cell_type": "markdown",
   "id": "5b631f82-0c56-4622-a7af-082adaa17794",
   "metadata": {},
   "source": [
    "### (c) Fit a least squares regression to predict y given x1, x2"
   ]
  },
  {
   "cell_type": "code",
   "execution_count": 7,
   "id": "fb0e6a22-3a96-48e9-80ad-9469d8775619",
   "metadata": {
    "tags": []
   },
   "outputs": [],
   "source": [
    "X = MS(['x1', 'x2']).fit_transform(df)"
   ]
  },
  {
   "cell_type": "code",
   "execution_count": 8,
   "id": "0652c0b5-f479-4109-9375-671e67bd3783",
   "metadata": {
    "tags": []
   },
   "outputs": [
    {
     "data": {
      "text/plain": [
       "79.80938177496542"
      ]
     },
     "execution_count": 8,
     "metadata": {},
     "output_type": "execute_result"
    }
   ],
   "source": [
    "model = sm.OLS(y, X)\n",
    "result = model.fit()\n",
    "result.ssr"
   ]
  },
  {
   "cell_type": "code",
   "execution_count": 9,
   "id": "d8ab50ca-b3c7-4c4d-8920-d50e11e6e43d",
   "metadata": {
    "tags": []
   },
   "outputs": [
    {
     "data": {
      "text/html": [
       "<div>\n",
       "<style scoped>\n",
       "    .dataframe tbody tr th:only-of-type {\n",
       "        vertical-align: middle;\n",
       "    }\n",
       "\n",
       "    .dataframe tbody tr th {\n",
       "        vertical-align: top;\n",
       "    }\n",
       "\n",
       "    .dataframe thead th {\n",
       "        text-align: right;\n",
       "    }\n",
       "</style>\n",
       "<table border=\"1\" class=\"dataframe\">\n",
       "  <thead>\n",
       "    <tr style=\"text-align: right;\">\n",
       "      <th></th>\n",
       "      <th>coef</th>\n",
       "      <th>std err</th>\n",
       "      <th>t</th>\n",
       "      <th>P&gt;|t|</th>\n",
       "    </tr>\n",
       "  </thead>\n",
       "  <tbody>\n",
       "    <tr>\n",
       "      <th>intercept</th>\n",
       "      <td>1.9579</td>\n",
       "      <td>0.190</td>\n",
       "      <td>10.319</td>\n",
       "      <td>0.000</td>\n",
       "    </tr>\n",
       "    <tr>\n",
       "      <th>x1</th>\n",
       "      <td>1.6154</td>\n",
       "      <td>0.527</td>\n",
       "      <td>3.065</td>\n",
       "      <td>0.003</td>\n",
       "    </tr>\n",
       "    <tr>\n",
       "      <th>x2</th>\n",
       "      <td>0.9428</td>\n",
       "      <td>0.831</td>\n",
       "      <td>1.134</td>\n",
       "      <td>0.259</td>\n",
       "    </tr>\n",
       "  </tbody>\n",
       "</table>\n",
       "</div>"
      ],
      "text/plain": [
       "             coef  std err       t  P>|t|\n",
       "intercept  1.9579    0.190  10.319  0.000\n",
       "x1         1.6154    0.527   3.065  0.003\n",
       "x2         0.9428    0.831   1.134  0.259"
      ]
     },
     "execution_count": 9,
     "metadata": {},
     "output_type": "execute_result"
    }
   ],
   "source": [
    "result.summary();\n",
    "summarize(result)"
   ]
  },
  {
   "cell_type": "markdown",
   "id": "9fa46c9c-34f0-4879-93a2-97d200382510",
   "metadata": {},
   "source": [
    "- $\\hat{\\beta_0} = 1.9579$, $\\beta_0 = 2$\n",
    "- $\\hat{\\beta_1} = 1.6154$, $\\beta_1 = 2$\n",
    "- $\\hat{\\beta_2} = 0.9428$, $\\beta_2 = 0.3$\n",
    "\n",
    "The coefficient estimates are okay."
   ]
  },
  {
   "cell_type": "markdown",
   "id": "db74ca75-da1a-4dbe-ae44-394bf1c82098",
   "metadata": {},
   "source": [
    "We can reject $H_0: \\beta_1 = 0$ since $p=0.003$ is small. We **cannot** reject $H_0: \\beta_2 = 0$ since $p=0.259$ is not small."
   ]
  },
  {
   "cell_type": "markdown",
   "id": "812c9990-4295-4203-a77c-038952174aca",
   "metadata": {
    "tags": []
   },
   "source": [
    "### (d) Least squares regression to predict y using only x1"
   ]
  },
  {
   "cell_type": "code",
   "execution_count": 10,
   "id": "34ea2b67-7e1e-4d2a-af7c-5ca39b5d73c3",
   "metadata": {
    "tags": []
   },
   "outputs": [
    {
     "data": {
      "text/html": [
       "<div>\n",
       "<style scoped>\n",
       "    .dataframe tbody tr th:only-of-type {\n",
       "        vertical-align: middle;\n",
       "    }\n",
       "\n",
       "    .dataframe tbody tr th {\n",
       "        vertical-align: top;\n",
       "    }\n",
       "\n",
       "    .dataframe thead th {\n",
       "        text-align: right;\n",
       "    }\n",
       "</style>\n",
       "<table border=\"1\" class=\"dataframe\">\n",
       "  <thead>\n",
       "    <tr style=\"text-align: right;\">\n",
       "      <th></th>\n",
       "      <th>coef</th>\n",
       "      <th>std err</th>\n",
       "      <th>t</th>\n",
       "      <th>P&gt;|t|</th>\n",
       "    </tr>\n",
       "  </thead>\n",
       "  <tbody>\n",
       "    <tr>\n",
       "      <th>intercept</th>\n",
       "      <td>1.9371</td>\n",
       "      <td>0.189</td>\n",
       "      <td>10.242</td>\n",
       "      <td>0.0</td>\n",
       "    </tr>\n",
       "    <tr>\n",
       "      <th>x1</th>\n",
       "      <td>2.0771</td>\n",
       "      <td>0.335</td>\n",
       "      <td>6.196</td>\n",
       "      <td>0.0</td>\n",
       "    </tr>\n",
       "  </tbody>\n",
       "</table>\n",
       "</div>"
      ],
      "text/plain": [
       "             coef  std err       t  P>|t|\n",
       "intercept  1.9371    0.189  10.242    0.0\n",
       "x1         2.0771    0.335   6.196    0.0"
      ]
     },
     "execution_count": 10,
     "metadata": {},
     "output_type": "execute_result"
    }
   ],
   "source": [
    "X = MS(['x1']).fit_transform(df)\n",
    "model2 = sm.OLS(y, X)\n",
    "result2 = model2.fit()\n",
    "summarize(result2)"
   ]
  },
  {
   "cell_type": "code",
   "execution_count": 11,
   "id": "1c789b04-c6e8-41a4-b0b0-6fdc6b7877f1",
   "metadata": {
    "tags": []
   },
   "outputs": [
    {
     "data": {
      "text/plain": [
       "80.86820066735713"
      ]
     },
     "execution_count": 11,
     "metadata": {},
     "output_type": "execute_result"
    }
   ],
   "source": [
    "result2.ssr"
   ]
  },
  {
   "cell_type": "markdown",
   "id": "df4207de-953c-4514-9237-c5cb04f7d2a5",
   "metadata": {},
   "source": [
    "Sum of squared residuals (SSR) is only slightly worse than previous model using x1 and x2 as predictors. With p value small we can reject $H_0: \\beta_1 = 0$ concluding x1 is significant as a predictor."
   ]
  },
  {
   "cell_type": "markdown",
   "id": "eda041d4-0c95-4dad-9793-8909e642279a",
   "metadata": {
    "tags": []
   },
   "source": [
    "### (e) Least squares regression to predict y using only x2"
   ]
  },
  {
   "cell_type": "code",
   "execution_count": 12,
   "id": "7b820403-910f-4dbc-8c1e-36ac32e65389",
   "metadata": {
    "tags": []
   },
   "outputs": [
    {
     "data": {
      "text/html": [
       "<div>\n",
       "<style scoped>\n",
       "    .dataframe tbody tr th:only-of-type {\n",
       "        vertical-align: middle;\n",
       "    }\n",
       "\n",
       "    .dataframe tbody tr th {\n",
       "        vertical-align: top;\n",
       "    }\n",
       "\n",
       "    .dataframe thead th {\n",
       "        text-align: right;\n",
       "    }\n",
       "</style>\n",
       "<table border=\"1\" class=\"dataframe\">\n",
       "  <thead>\n",
       "    <tr style=\"text-align: right;\">\n",
       "      <th></th>\n",
       "      <th>coef</th>\n",
       "      <th>std err</th>\n",
       "      <th>t</th>\n",
       "      <th>P&gt;|t|</th>\n",
       "    </tr>\n",
       "  </thead>\n",
       "  <tbody>\n",
       "    <tr>\n",
       "      <th>intercept</th>\n",
       "      <td>2.3239</td>\n",
       "      <td>0.154</td>\n",
       "      <td>15.124</td>\n",
       "      <td>0.0</td>\n",
       "    </tr>\n",
       "    <tr>\n",
       "      <th>x2</th>\n",
       "      <td>2.9103</td>\n",
       "      <td>0.550</td>\n",
       "      <td>5.291</td>\n",
       "      <td>0.0</td>\n",
       "    </tr>\n",
       "  </tbody>\n",
       "</table>\n",
       "</div>"
      ],
      "text/plain": [
       "             coef  std err       t  P>|t|\n",
       "intercept  2.3239    0.154  15.124    0.0\n",
       "x2         2.9103    0.550   5.291    0.0"
      ]
     },
     "execution_count": 12,
     "metadata": {},
     "output_type": "execute_result"
    }
   ],
   "source": [
    "X = MS(['x2']).fit_transform(df)\n",
    "model3 = sm.OLS(y, X)\n",
    "result3 = model3.fit()\n",
    "summarize(result3)"
   ]
  },
  {
   "cell_type": "code",
   "execution_count": 13,
   "id": "3f223df4-3abf-4968-b07f-5bafd7431234",
   "metadata": {
    "tags": []
   },
   "outputs": [
    {
     "data": {
      "text/plain": [
       "87.54071521302768"
      ]
     },
     "execution_count": 13,
     "metadata": {},
     "output_type": "execute_result"
    }
   ],
   "source": [
    "result3.ssr"
   ]
  },
  {
   "cell_type": "markdown",
   "id": "37a1e973-9aaa-42aa-9154-74c7a6225236",
   "metadata": {},
   "source": [
    "Sum of squared residuals (SSR) is worse than previous two models. With p value small we can reject $H_0: \\beta_1 = 0$ concluding x2 is significant as a predictor."
   ]
  },
  {
   "cell_type": "markdown",
   "id": "ab57812a-b762-44e8-af8a-0843c2927d79",
   "metadata": {},
   "source": [
    "### (f) Commentary on above results"
   ]
  },
  {
   "cell_type": "markdown",
   "id": "0a5bbc02-ca87-4ed7-a6a7-0f634b84bffe",
   "metadata": {},
   "source": [
    "When using x1 and x2 as predictors of y we saw x1 was statistically significant while x2 was not. However, fitting models with x1 or x2 alone we see each predictor is significant. These are not contradictory results. What we see is in the precense of x1, x2 is not significant in predicting y. This is because of collinearity that exists in our data. x1 and x2 have a strong linear relationship with Pearson product-moment correlation of 0.772324"
   ]
  },
  {
   "cell_type": "code",
   "execution_count": 14,
   "id": "9dbba290-816b-4ecf-9e9f-c5e986e211e3",
   "metadata": {
    "tags": []
   },
   "outputs": [
    {
     "data": {
      "text/html": [
       "<div>\n",
       "<style scoped>\n",
       "    .dataframe tbody tr th:only-of-type {\n",
       "        vertical-align: middle;\n",
       "    }\n",
       "\n",
       "    .dataframe tbody tr th {\n",
       "        vertical-align: top;\n",
       "    }\n",
       "\n",
       "    .dataframe thead th {\n",
       "        text-align: right;\n",
       "    }\n",
       "</style>\n",
       "<table border=\"1\" class=\"dataframe\">\n",
       "  <thead>\n",
       "    <tr style=\"text-align: right;\">\n",
       "      <th></th>\n",
       "      <th>df_resid</th>\n",
       "      <th>ssr</th>\n",
       "      <th>df_diff</th>\n",
       "      <th>ss_diff</th>\n",
       "      <th>F</th>\n",
       "      <th>Pr(&gt;F)</th>\n",
       "    </tr>\n",
       "  </thead>\n",
       "  <tbody>\n",
       "    <tr>\n",
       "      <th>0</th>\n",
       "      <td>98.0</td>\n",
       "      <td>80.868201</td>\n",
       "      <td>0.0</td>\n",
       "      <td>NaN</td>\n",
       "      <td>NaN</td>\n",
       "      <td>NaN</td>\n",
       "    </tr>\n",
       "    <tr>\n",
       "      <th>1</th>\n",
       "      <td>97.0</td>\n",
       "      <td>79.809382</td>\n",
       "      <td>1.0</td>\n",
       "      <td>1.058819</td>\n",
       "      <td>1.286884</td>\n",
       "      <td>0.259419</td>\n",
       "    </tr>\n",
       "  </tbody>\n",
       "</table>\n",
       "</div>"
      ],
      "text/plain": [
       "   df_resid        ssr  df_diff   ss_diff         F    Pr(>F)\n",
       "0      98.0  80.868201      0.0       NaN       NaN       NaN\n",
       "1      97.0  79.809382      1.0  1.058819  1.286884  0.259419"
      ]
     },
     "execution_count": 14,
     "metadata": {},
     "output_type": "execute_result"
    }
   ],
   "source": [
    "anova_lm(result2, result)"
   ]
  },
  {
   "cell_type": "markdown",
   "id": "20ae109c-47f1-4e72-8ad8-f4ea0cbc8d90",
   "metadata": {},
   "source": [
    "We see in the anova table adding x2 to our model does not result in a better fit. Again, this is due to the collinearity that exists between x1 and x2."
   ]
  },
  {
   "cell_type": "markdown",
   "id": "f39ed8f4-7a95-47d1-84b7-93456629fa56",
   "metadata": {},
   "source": [
    "### (g) Adding an extra point to the data and re-running models"
   ]
  },
  {
   "cell_type": "code",
   "execution_count": 15,
   "id": "fa7727b7-b046-4044-880f-ca89273d1c2c",
   "metadata": {
    "tags": []
   },
   "outputs": [],
   "source": [
    "x1 = np.concatenate([x1, [0.1]])\n",
    "x2 = np.concatenate([x2, [0.8]])\n",
    "y = np.concatenate([y, [6]])"
   ]
  },
  {
   "cell_type": "code",
   "execution_count": 16,
   "id": "3733ac25-f03a-46b2-b892-1128484c1f76",
   "metadata": {
    "tags": []
   },
   "outputs": [
    {
     "data": {
      "image/png": "[encoded data removed]",
      "text/plain": [
       "<Figure size 640x480 with 1 Axes>"
      ]
     },
     "metadata": {},
     "output_type": "display_data"
    }
   ],
   "source": [
    "plt.hist(x1, bins=15);"
   ]
  },
  {
   "cell_type": "markdown",
   "id": "103fed0d-8ee1-4a93-b001-c8342ba5830e",
   "metadata": {},
   "source": [
    "The added x1 value of 0.1 fits in with the rest of the data in the x1 array."
   ]
  },
  {
   "cell_type": "code",
   "execution_count": 17,
   "id": "95b0eba3-3615-4d41-88f7-50d28c8fd326",
   "metadata": {
    "tags": []
   },
   "outputs": [
    {
     "data": {
      "image/png": "[encoded data removed]",
      "text/plain": [
       "<Figure size 640x480 with 1 Axes>"
      ]
     },
     "metadata": {},
     "output_type": "display_data"
    }
   ],
   "source": [
    "plt.hist(x2, bins=15);"
   ]
  },
  {
   "cell_type": "markdown",
   "id": "941069ee-ec74-40d2-9d34-ec89cb33cff2",
   "metadata": {},
   "source": [
    "The added x2 value of 0.8 does not fit in with the rest of the data in the x2 array."
   ]
  },
  {
   "cell_type": "code",
   "execution_count": 18,
   "id": "e88470de-f481-4893-865c-d433185b708e",
   "metadata": {
    "tags": []
   },
   "outputs": [
    {
     "data": {
      "image/png": "[encoded data removed]",
      "text/plain": [
       "<Figure size 640x480 with 1 Axes>"
      ]
     },
     "metadata": {},
     "output_type": "display_data"
    }
   ],
   "source": [
    "plt.hist(y, bins=15);"
   ]
  },
  {
   "cell_type": "markdown",
   "id": "87769a2b-9689-4157-9e56-db13152dd94c",
   "metadata": {},
   "source": [
    "The added y value of 6 does not fit in with the rest of the data in the y array."
   ]
  },
  {
   "cell_type": "markdown",
   "id": "b466b44d-cdaa-4acb-a086-dd42ca5d1755",
   "metadata": {},
   "source": [
    "Form of linear model:\n",
    "$$y = 2 + 2 X_1 + 0.3 X_2 + \\epsilon$$"
   ]
  },
  {
   "cell_type": "code",
   "execution_count": 19,
   "id": "e9af0661-36c4-4b41-a6d1-dc5a9c08f37b",
   "metadata": {
    "tags": []
   },
   "outputs": [
    {
     "data": {
      "text/plain": [
       "2.4400000000000004"
      ]
     },
     "execution_count": 19,
     "metadata": {},
     "output_type": "execute_result"
    }
   ],
   "source": [
    "2 + 2 * 0.1 + 0.3 * 0.8"
   ]
  },
  {
   "cell_type": "markdown",
   "id": "4d498234-cc67-446b-ae5b-ad578e8fbe46",
   "metadata": {},
   "source": [
    "The added y value of 6 also does not fit with the regression equation used to generate the y array."
   ]
  },
  {
   "cell_type": "code",
   "execution_count": 20,
   "id": "30623015-8af2-431c-8171-bae4fb23731a",
   "metadata": {
    "tags": []
   },
   "outputs": [],
   "source": [
    "df = pd.DataFrame({'x1': x1, 'x2': x2})"
   ]
  },
  {
   "cell_type": "markdown",
   "id": "1b6f5bb6-c76b-465b-88b7-a40ae4d06768",
   "metadata": {},
   "source": [
    "#### Least squares regression to predict y given x1, x2"
   ]
  },
  {
   "cell_type": "code",
   "execution_count": 21,
   "id": "a04ab70f-1837-4239-9222-5aff059e1b59",
   "metadata": {
    "tags": []
   },
   "outputs": [],
   "source": [
    "X = MS(['x1', 'x2']).fit_transform(df)"
   ]
  },
  {
   "cell_type": "code",
   "execution_count": 22,
   "id": "001b1ab1-fcbb-417f-aeac-701726077870",
   "metadata": {
    "tags": []
   },
   "outputs": [],
   "source": [
    "modelNew = sm.OLS(y, X)\n",
    "resultNew = modelNew.fit()"
   ]
  },
  {
   "cell_type": "code",
   "execution_count": 23,
   "id": "ef2208ee-ead4-458c-b68e-1450e935d86b",
   "metadata": {
    "tags": []
   },
   "outputs": [
    {
     "data": {
      "text/html": [
       "<div>\n",
       "<style scoped>\n",
       "    .dataframe tbody tr th:only-of-type {\n",
       "        vertical-align: middle;\n",
       "    }\n",
       "\n",
       "    .dataframe tbody tr th {\n",
       "        vertical-align: top;\n",
       "    }\n",
       "\n",
       "    .dataframe thead th {\n",
       "        text-align: right;\n",
       "    }\n",
       "</style>\n",
       "<table border=\"1\" class=\"dataframe\">\n",
       "  <thead>\n",
       "    <tr style=\"text-align: right;\">\n",
       "      <th></th>\n",
       "      <th>coef</th>\n",
       "      <th>std err</th>\n",
       "      <th>t</th>\n",
       "      <th>P&gt;|t|</th>\n",
       "    </tr>\n",
       "  </thead>\n",
       "  <tbody>\n",
       "    <tr>\n",
       "      <th>intercept</th>\n",
       "      <td>2.0618</td>\n",
       "      <td>0.192</td>\n",
       "      <td>10.720</td>\n",
       "      <td>0.000</td>\n",
       "    </tr>\n",
       "    <tr>\n",
       "      <th>x1</th>\n",
       "      <td>0.8575</td>\n",
       "      <td>0.466</td>\n",
       "      <td>1.838</td>\n",
       "      <td>0.069</td>\n",
       "    </tr>\n",
       "    <tr>\n",
       "      <th>x2</th>\n",
       "      <td>2.2663</td>\n",
       "      <td>0.705</td>\n",
       "      <td>3.216</td>\n",
       "      <td>0.002</td>\n",
       "    </tr>\n",
       "  </tbody>\n",
       "</table>\n",
       "</div>"
      ],
      "text/plain": [
       "             coef  std err       t  P>|t|\n",
       "intercept  2.0618    0.192  10.720  0.000\n",
       "x1         0.8575    0.466   1.838  0.069\n",
       "x2         2.2663    0.705   3.216  0.002"
      ]
     },
     "execution_count": 23,
     "metadata": {},
     "output_type": "execute_result"
    }
   ],
   "source": [
    "resultNew.summary();\n",
    "summarize(resultNew)"
   ]
  },
  {
   "cell_type": "code",
   "execution_count": 24,
   "id": "6f3769e2-d6f6-407e-9081-d8d86257d794",
   "metadata": {
    "tags": []
   },
   "outputs": [
    {
     "data": {
      "text/html": [
       "<div>\n",
       "<style scoped>\n",
       "    .dataframe tbody tr th:only-of-type {\n",
       "        vertical-align: middle;\n",
       "    }\n",
       "\n",
       "    .dataframe tbody tr th {\n",
       "        vertical-align: top;\n",
       "    }\n",
       "\n",
       "    .dataframe thead th {\n",
       "        text-align: right;\n",
       "    }\n",
       "</style>\n",
       "<table border=\"1\" class=\"dataframe\">\n",
       "  <thead>\n",
       "    <tr style=\"text-align: right;\">\n",
       "      <th></th>\n",
       "      <th>coef</th>\n",
       "      <th>std err</th>\n",
       "      <th>t</th>\n",
       "      <th>P&gt;|t|</th>\n",
       "    </tr>\n",
       "  </thead>\n",
       "  <tbody>\n",
       "    <tr>\n",
       "      <th>intercept</th>\n",
       "      <td>1.9579</td>\n",
       "      <td>0.190</td>\n",
       "      <td>10.319</td>\n",
       "      <td>0.000</td>\n",
       "    </tr>\n",
       "    <tr>\n",
       "      <th>x1</th>\n",
       "      <td>1.6154</td>\n",
       "      <td>0.527</td>\n",
       "      <td>3.065</td>\n",
       "      <td>0.003</td>\n",
       "    </tr>\n",
       "    <tr>\n",
       "      <th>x2</th>\n",
       "      <td>0.9428</td>\n",
       "      <td>0.831</td>\n",
       "      <td>1.134</td>\n",
       "      <td>0.259</td>\n",
       "    </tr>\n",
       "  </tbody>\n",
       "</table>\n",
       "</div>"
      ],
      "text/plain": [
       "             coef  std err       t  P>|t|\n",
       "intercept  1.9579    0.190  10.319  0.000\n",
       "x1         1.6154    0.527   3.065  0.003\n",
       "x2         0.9428    0.831   1.134  0.259"
      ]
     },
     "execution_count": 24,
     "metadata": {},
     "output_type": "execute_result"
    }
   ],
   "source": [
    "summarize(result)"
   ]
  },
  {
   "cell_type": "markdown",
   "id": "70946fee-d42a-4700-b123-c63b0a93bb67",
   "metadata": {},
   "source": [
    "In the new model with the added point our coefficient estimates are further off from the population coefficients. In the new model we see x2 is statistically significant while x1 is not. This is the reverse of what we had before adding the point."
   ]
  },
  {
   "cell_type": "code",
   "execution_count": 26,
   "id": "e53d6369-4ea8-4005-9893-3e25243305e0",
   "metadata": {
    "tags": []
   },
   "outputs": [],
   "source": [
    "infl = resultNew.get_influence()\n",
    "stu_res = infl.get_resid_studentized_external()\n",
    "leverage = infl.hat_matrix_diag"
   ]
  },
  {
   "cell_type": "code",
   "execution_count": 56,
   "id": "ff98efa5-5ad6-4c3e-a5cd-048cf6997c5f",
   "metadata": {
    "tags": []
   },
   "outputs": [
    {
     "data": {
      "text/plain": [
       "array([2.69255745])"
      ]
     },
     "execution_count": 56,
     "metadata": {},
     "output_type": "execute_result"
    }
   ],
   "source": [
    "stu_res[np.abs(stu_res) > 2.6]"
   ]
  },
  {
   "cell_type": "code",
   "execution_count": 58,
   "id": "eff10a28-08cb-4e6d-9047-32c57c12ed4e",
   "metadata": {
    "tags": []
   },
   "outputs": [
    {
     "data": {
      "text/plain": [
       "(array([100], dtype=int64),)"
      ]
     },
     "execution_count": 58,
     "metadata": {},
     "output_type": "execute_result"
    }
   ],
   "source": [
    "np.nonzero(np.abs(stu_res) > 2.6)"
   ]
  },
  {
   "cell_type": "markdown",
   "id": "850d82a3-1d0a-4e02-97a1-e033060b9580",
   "metadata": {},
   "source": [
    "There are no values with studentized residuals greater than 3 in absolute value. Thus no evidence of outliers. However our added observation does come close."
   ]
  },
  {
   "cell_type": "code",
   "execution_count": 48,
   "id": "503a1265-475b-441d-aa61-1d9620db22bb",
   "metadata": {
    "tags": []
   },
   "outputs": [
    {
     "data": {
      "text/plain": [
       "array([0.34767162])"
      ]
     },
     "execution_count": 48,
     "metadata": {},
     "output_type": "execute_result"
    }
   ],
   "source": [
    "leverage[leverage > np.average(leverage)*4]"
   ]
  },
  {
   "cell_type": "code",
   "execution_count": 49,
   "id": "cd436245-db39-43f7-9214-5974741e7fb2",
   "metadata": {
    "tags": []
   },
   "outputs": [
    {
     "data": {
      "text/plain": [
       "(array([100], dtype=int64),)"
      ]
     },
     "execution_count": 49,
     "metadata": {},
     "output_type": "execute_result"
    }
   ],
   "source": [
    "np.nonzero(leverage > np.average(leverage)*4)"
   ]
  },
  {
   "cell_type": "markdown",
   "id": "c4ec1d90-221e-41a0-9217-0a7147d5ddcc",
   "metadata": {},
   "source": [
    "Our added observation is a high leverage point. It has greater than four times the average leverage."
   ]
  },
  {
   "cell_type": "markdown",
   "id": "3ff02871-7ae6-48e4-851c-9241c45fd971",
   "metadata": {},
   "source": [
    "#### Least squares regression to predict y given x1"
   ]
  },
  {
   "cell_type": "code",
   "execution_count": 59,
   "id": "e212ea65-ffcb-43ef-bde7-80b9635ded93",
   "metadata": {
    "tags": []
   },
   "outputs": [],
   "source": [
    "X = MS(['x1']).fit_transform(df)"
   ]
  },
  {
   "cell_type": "code",
   "execution_count": 60,
   "id": "7875850b-2c8b-4828-ad4f-890ae5eef829",
   "metadata": {
    "tags": []
   },
   "outputs": [],
   "source": [
    "model2New = sm.OLS(y, X)\n",
    "result2New = model2New.fit()"
   ]
  },
  {
   "cell_type": "code",
   "execution_count": 61,
   "id": "01a2de3e-4865-4b09-bfbe-1916535c89fc",
   "metadata": {
    "tags": []
   },
   "outputs": [
    {
     "data": {
      "text/html": [
       "<div>\n",
       "<style scoped>\n",
       "    .dataframe tbody tr th:only-of-type {\n",
       "        vertical-align: middle;\n",
       "    }\n",
       "\n",
       "    .dataframe tbody tr th {\n",
       "        vertical-align: top;\n",
       "    }\n",
       "\n",
       "    .dataframe thead th {\n",
       "        text-align: right;\n",
       "    }\n",
       "</style>\n",
       "<table border=\"1\" class=\"dataframe\">\n",
       "  <thead>\n",
       "    <tr style=\"text-align: right;\">\n",
       "      <th></th>\n",
       "      <th>coef</th>\n",
       "      <th>std err</th>\n",
       "      <th>t</th>\n",
       "      <th>P&gt;|t|</th>\n",
       "    </tr>\n",
       "  </thead>\n",
       "  <tbody>\n",
       "    <tr>\n",
       "      <th>intercept</th>\n",
       "      <td>2.0739</td>\n",
       "      <td>0.201</td>\n",
       "      <td>10.310</td>\n",
       "      <td>0.0</td>\n",
       "    </tr>\n",
       "    <tr>\n",
       "      <th>x1</th>\n",
       "      <td>1.8760</td>\n",
       "      <td>0.358</td>\n",
       "      <td>5.236</td>\n",
       "      <td>0.0</td>\n",
       "    </tr>\n",
       "  </tbody>\n",
       "</table>\n",
       "</div>"
      ],
      "text/plain": [
       "             coef  std err       t  P>|t|\n",
       "intercept  2.0739    0.201  10.310    0.0\n",
       "x1         1.8760    0.358   5.236    0.0"
      ]
     },
     "execution_count": 61,
     "metadata": {},
     "output_type": "execute_result"
    }
   ],
   "source": [
    "result2New.summary();\n",
    "summarize(result2New)"
   ]
  },
  {
   "cell_type": "code",
   "execution_count": 62,
   "id": "16e4b370-0d28-4be1-9961-344d7aa2b9bf",
   "metadata": {
    "tags": []
   },
   "outputs": [
    {
     "data": {
      "text/html": [
       "<div>\n",
       "<style scoped>\n",
       "    .dataframe tbody tr th:only-of-type {\n",
       "        vertical-align: middle;\n",
       "    }\n",
       "\n",
       "    .dataframe tbody tr th {\n",
       "        vertical-align: top;\n",
       "    }\n",
       "\n",
       "    .dataframe thead th {\n",
       "        text-align: right;\n",
       "    }\n",
       "</style>\n",
       "<table border=\"1\" class=\"dataframe\">\n",
       "  <thead>\n",
       "    <tr style=\"text-align: right;\">\n",
       "      <th></th>\n",
       "      <th>coef</th>\n",
       "      <th>std err</th>\n",
       "      <th>t</th>\n",
       "      <th>P&gt;|t|</th>\n",
       "    </tr>\n",
       "  </thead>\n",
       "  <tbody>\n",
       "    <tr>\n",
       "      <th>intercept</th>\n",
       "      <td>1.9371</td>\n",
       "      <td>0.189</td>\n",
       "      <td>10.242</td>\n",
       "      <td>0.0</td>\n",
       "    </tr>\n",
       "    <tr>\n",
       "      <th>x1</th>\n",
       "      <td>2.0771</td>\n",
       "      <td>0.335</td>\n",
       "      <td>6.196</td>\n",
       "      <td>0.0</td>\n",
       "    </tr>\n",
       "  </tbody>\n",
       "</table>\n",
       "</div>"
      ],
      "text/plain": [
       "             coef  std err       t  P>|t|\n",
       "intercept  1.9371    0.189  10.242    0.0\n",
       "x1         2.0771    0.335   6.196    0.0"
      ]
     },
     "execution_count": 62,
     "metadata": {},
     "output_type": "execute_result"
    }
   ],
   "source": [
    "summarize(result2)"
   ]
  },
  {
   "cell_type": "markdown",
   "id": "d0c5a771-fd9a-4b55-a801-d6641951cc59",
   "metadata": {},
   "source": [
    "We see similar results in our new model with the addition of the extra observation. This may be due to our note above about the added x1 value fitting in well with the rest of the x1 array."
   ]
  },
  {
   "cell_type": "code",
   "execution_count": 63,
   "id": "a2cf6df0-b93f-4782-91a4-7c6ce5df6532",
   "metadata": {
    "tags": []
   },
   "outputs": [],
   "source": [
    "infl = result2New.get_influence()\n",
    "stu_res = infl.get_resid_studentized_external()\n",
    "leverage = infl.hat_matrix_diag"
   ]
  },
  {
   "cell_type": "code",
   "execution_count": 65,
   "id": "7ae5bb87-2496-4dfa-8c37-5c2a7a1a0e18",
   "metadata": {
    "tags": []
   },
   "outputs": [
    {
     "data": {
      "text/plain": [
       "array([3.86976729])"
      ]
     },
     "execution_count": 65,
     "metadata": {},
     "output_type": "execute_result"
    }
   ],
   "source": [
    "stu_res[np.abs(stu_res) > 3]"
   ]
  },
  {
   "cell_type": "code",
   "execution_count": 66,
   "id": "743a20e7-a7b9-44ce-a1fb-bb2f48a2ab30",
   "metadata": {
    "tags": []
   },
   "outputs": [
    {
     "data": {
      "text/plain": [
       "(array([100], dtype=int64),)"
      ]
     },
     "execution_count": 66,
     "metadata": {},
     "output_type": "execute_result"
    }
   ],
   "source": [
    "np.nonzero(np.abs(stu_res) > 3)"
   ]
  },
  {
   "cell_type": "markdown",
   "id": "bcebcc93-6da3-4d1a-a851-fa928fde3d35",
   "metadata": {},
   "source": [
    "Our new observation has studentized residual greater than 3 in absolute value. This is enough to deem it an outlier."
   ]
  },
  {
   "cell_type": "code",
   "execution_count": 71,
   "id": "82c8108d-3c2a-420b-b4ce-ab8be9551d5a",
   "metadata": {
    "tags": []
   },
   "outputs": [
    {
     "data": {
      "text/plain": [
       "array([], dtype=float64)"
      ]
     },
     "execution_count": 71,
     "metadata": {},
     "output_type": "execute_result"
    }
   ],
   "source": [
    "leverage[leverage > np.average(leverage)*4]"
   ]
  },
  {
   "cell_type": "code",
   "execution_count": 72,
   "id": "1ee0339f-4c6a-472c-baac-b151563b62c8",
   "metadata": {
    "tags": []
   },
   "outputs": [
    {
     "data": {
      "text/plain": [
       "(array([], dtype=int64),)"
      ]
     },
     "execution_count": 72,
     "metadata": {},
     "output_type": "execute_result"
    }
   ],
   "source": [
    "np.nonzero(leverage > np.average(leverage)*4)"
   ]
  },
  {
   "cell_type": "markdown",
   "id": "0c117a7b-dd17-4e8a-bdfc-a34e00a87ec3",
   "metadata": {},
   "source": [
    "Our added observation is not a high leverage point. Again this may be due to the new x1 value fitting in well with the rest of the x1 array."
   ]
  },
  {
   "cell_type": "markdown",
   "id": "4092abad-8f52-4f4e-847b-a589cfac0296",
   "metadata": {},
   "source": [
    "#### Least squares regression to predict y given x2"
   ]
  },
  {
   "cell_type": "code",
   "execution_count": 73,
   "id": "0bc7b68e-bd36-4df0-8a6d-6d08c0c326ab",
   "metadata": {
    "tags": []
   },
   "outputs": [],
   "source": [
    "X = MS(['x2']).fit_transform(df)"
   ]
  },
  {
   "cell_type": "code",
   "execution_count": 74,
   "id": "575a8a0b-c481-4e99-ae0e-7e34f584ed8c",
   "metadata": {
    "tags": []
   },
   "outputs": [],
   "source": [
    "model3New = sm.OLS(y, X)\n",
    "result3New = model3New.fit()"
   ]
  },
  {
   "cell_type": "code",
   "execution_count": 75,
   "id": "6df6323f-ce05-4898-a2c2-b1698daa1a03",
   "metadata": {
    "tags": []
   },
   "outputs": [
    {
     "data": {
      "text/html": [
       "<div>\n",
       "<style scoped>\n",
       "    .dataframe tbody tr th:only-of-type {\n",
       "        vertical-align: middle;\n",
       "    }\n",
       "\n",
       "    .dataframe tbody tr th {\n",
       "        vertical-align: top;\n",
       "    }\n",
       "\n",
       "    .dataframe thead th {\n",
       "        text-align: right;\n",
       "    }\n",
       "</style>\n",
       "<table border=\"1\" class=\"dataframe\">\n",
       "  <thead>\n",
       "    <tr style=\"text-align: right;\">\n",
       "      <th></th>\n",
       "      <th>coef</th>\n",
       "      <th>std err</th>\n",
       "      <th>t</th>\n",
       "      <th>P&gt;|t|</th>\n",
       "    </tr>\n",
       "  </thead>\n",
       "  <tbody>\n",
       "    <tr>\n",
       "      <th>intercept</th>\n",
       "      <td>2.2840</td>\n",
       "      <td>0.151</td>\n",
       "      <td>15.088</td>\n",
       "      <td>0.0</td>\n",
       "    </tr>\n",
       "    <tr>\n",
       "      <th>x2</th>\n",
       "      <td>3.1458</td>\n",
       "      <td>0.524</td>\n",
       "      <td>6.008</td>\n",
       "      <td>0.0</td>\n",
       "    </tr>\n",
       "  </tbody>\n",
       "</table>\n",
       "</div>"
      ],
      "text/plain": [
       "             coef  std err       t  P>|t|\n",
       "intercept  2.2840    0.151  15.088    0.0\n",
       "x2         3.1458    0.524   6.008    0.0"
      ]
     },
     "execution_count": 75,
     "metadata": {},
     "output_type": "execute_result"
    }
   ],
   "source": [
    "result3New.summary();\n",
    "summarize(result3New)"
   ]
  },
  {
   "cell_type": "code",
   "execution_count": 76,
   "id": "249fc8a2-b835-4c6d-8f83-f326cee2c02f",
   "metadata": {
    "tags": []
   },
   "outputs": [
    {
     "data": {
      "text/html": [
       "<div>\n",
       "<style scoped>\n",
       "    .dataframe tbody tr th:only-of-type {\n",
       "        vertical-align: middle;\n",
       "    }\n",
       "\n",
       "    .dataframe tbody tr th {\n",
       "        vertical-align: top;\n",
       "    }\n",
       "\n",
       "    .dataframe thead th {\n",
       "        text-align: right;\n",
       "    }\n",
       "</style>\n",
       "<table border=\"1\" class=\"dataframe\">\n",
       "  <thead>\n",
       "    <tr style=\"text-align: right;\">\n",
       "      <th></th>\n",
       "      <th>coef</th>\n",
       "      <th>std err</th>\n",
       "      <th>t</th>\n",
       "      <th>P&gt;|t|</th>\n",
       "    </tr>\n",
       "  </thead>\n",
       "  <tbody>\n",
       "    <tr>\n",
       "      <th>intercept</th>\n",
       "      <td>2.3239</td>\n",
       "      <td>0.154</td>\n",
       "      <td>15.124</td>\n",
       "      <td>0.0</td>\n",
       "    </tr>\n",
       "    <tr>\n",
       "      <th>x2</th>\n",
       "      <td>2.9103</td>\n",
       "      <td>0.550</td>\n",
       "      <td>5.291</td>\n",
       "      <td>0.0</td>\n",
       "    </tr>\n",
       "  </tbody>\n",
       "</table>\n",
       "</div>"
      ],
      "text/plain": [
       "             coef  std err       t  P>|t|\n",
       "intercept  2.3239    0.154  15.124    0.0\n",
       "x2         2.9103    0.550   5.291    0.0"
      ]
     },
     "execution_count": 76,
     "metadata": {},
     "output_type": "execute_result"
    }
   ],
   "source": [
    "summarize(result3)"
   ]
  },
  {
   "cell_type": "markdown",
   "id": "1f18c394-e137-43bd-ba8c-682cfb9295f0",
   "metadata": {},
   "source": [
    "We see similar results in our new model with the addition of the extra observation. "
   ]
  },
  {
   "cell_type": "code",
   "execution_count": 83,
   "id": "82e1f9ae-efcb-47cf-91a7-b8fe28c97c40",
   "metadata": {
    "tags": []
   },
   "outputs": [],
   "source": [
    "infl = result3New.get_influence()\n",
    "stu_res = infl.get_resid_studentized_external()\n",
    "leverage = infl.hat_matrix_diag"
   ]
  },
  {
   "cell_type": "code",
   "execution_count": 84,
   "id": "e77aa558-c010-47ac-a490-e87252bd4399",
   "metadata": {
    "tags": []
   },
   "outputs": [
    {
     "data": {
      "text/plain": [
       "array([], dtype=float64)"
      ]
     },
     "execution_count": 84,
     "metadata": {},
     "output_type": "execute_result"
    }
   ],
   "source": [
    "stu_res[np.abs(stu_res) > 3]"
   ]
  },
  {
   "cell_type": "code",
   "execution_count": 85,
   "id": "a848c6b7-56b5-430f-acd2-29c7d1e55693",
   "metadata": {
    "tags": []
   },
   "outputs": [
    {
     "data": {
      "text/plain": [
       "(array([], dtype=int64),)"
      ]
     },
     "execution_count": 85,
     "metadata": {},
     "output_type": "execute_result"
    }
   ],
   "source": [
    "np.nonzero(np.abs(stu_res) > 3)"
   ]
  },
  {
   "cell_type": "markdown",
   "id": "e5322996-78e1-4c4c-96a3-af8c2eea72f6",
   "metadata": {},
   "source": [
    "Our new observation does not have studentized residual greater than 3 in absolute value. Thus it is not an outlier in this model."
   ]
  },
  {
   "cell_type": "code",
   "execution_count": 86,
   "id": "ab2477c4-7654-4fa9-81d9-5f74a6dd8eb9",
   "metadata": {
    "tags": []
   },
   "outputs": [
    {
     "data": {
      "text/plain": [
       "array([0.11020664])"
      ]
     },
     "execution_count": 86,
     "metadata": {},
     "output_type": "execute_result"
    }
   ],
   "source": [
    "leverage[leverage > np.average(leverage)*4]"
   ]
  },
  {
   "cell_type": "code",
   "execution_count": 87,
   "id": "fa73aa0c-a28d-43d9-8c1c-af2b354bd1de",
   "metadata": {
    "tags": []
   },
   "outputs": [
    {
     "data": {
      "text/plain": [
       "(array([100], dtype=int64),)"
      ]
     },
     "execution_count": 87,
     "metadata": {},
     "output_type": "execute_result"
    }
   ],
   "source": [
    "np.nonzero(leverage > np.average(leverage)*4)"
   ]
  },
  {
   "cell_type": "markdown",
   "id": "df8c6fc4-80d4-49fe-a0bb-2f69d31e54c2",
   "metadata": {},
   "source": [
    "Our added observation has leverage greater than four times the average leverage. Thus it is a high leverage point."
   ]
  }
 ],
 "metadata": {
  "kernelspec": {
   "display_name": "Python 3 (ipykernel)",
   "language": "python",
   "name": "python3"
  },
  "language_info": {
   "codemirror_mode": {
    "name": "ipython",
    "version": 3
   },
   "file_extension": ".py",
   "mimetype": "text/x-python",
   "name": "python",
   "nbconvert_exporter": "python",
   "pygments_lexer": "ipython3",
   "version": "3.11.4"
  }
 },
 "nbformat": 4,
 "nbformat_minor": 5
}
