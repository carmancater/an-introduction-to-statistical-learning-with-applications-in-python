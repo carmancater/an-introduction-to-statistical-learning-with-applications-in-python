{
 "cells": [
  {
   "cell_type": "markdown",
   "id": "01381fd6-c1ee-484e-9dc1-af482fb10c67",
   "metadata": {},
   "source": [
    "# Chapter 3: Exercise 14"
   ]
  },
  {
   "cell_type": "markdown",
   "id": "0c6d3e50-5141-4388-922f-fd90bf5a236d",
   "metadata": {},
   "source": [
    "**Import packages**"
   ]
  },
  {
   "cell_type": "code",
   "execution_count": 1,
   "id": "1cdc9845-41b8-4d0c-84f6-a2afdd8954f4",
   "metadata": {
    "tags": []
   },
   "outputs": [],
   "source": [
    "# import numpy as np\n",
    "# import pandas as pd\n",
    "# import statsmodels.api as sm\n",
    "# import matplotlib.pyplot as plt\n",
    "# from statsmodels.stats.anova import anova_lm\n",
    "# from ISLP.models import (ModelSpec as MS, summarize, poly)"
   ]
  }
 ],
 "metadata": {
  "kernelspec": {
   "display_name": "Python 3 (ipykernel)",
   "language": "python",
   "name": "python3"
  },
  "language_info": {
   "codemirror_mode": {
    "name": "ipython",
    "version": 3
   },
   "file_extension": ".py",
   "mimetype": "text/x-python",
   "name": "python",
   "nbconvert_exporter": "python",
   "pygments_lexer": "ipython3",
   "version": "3.11.4"
  }
 },
 "nbformat": 4,
 "nbformat_minor": 5
}
