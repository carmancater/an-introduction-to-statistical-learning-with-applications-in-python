{
 "cells": [
  {
   "cell_type": "markdown",
   "id": "01381fd6-c1ee-484e-9dc1-af482fb10c67",
   "metadata": {},
   "source": [
    "# Chapter 3: Exercise 14"
   ]
  },
  {
   "cell_type": "markdown",
   "id": "47bcaeed-bbe5-4ee1-a9b0-a69f972a7c2b",
   "metadata": {
    "tags": []
   },
   "source": [
    "## Exploring Collinearity"
   ]
  },
  {
   "cell_type": "markdown",
   "id": "0c6d3e50-5141-4388-922f-fd90bf5a236d",
   "metadata": {},
   "source": [
    "**Import packages**"
   ]
  },
  {
   "cell_type": "code",
   "execution_count": 1,
   "id": "1cdc9845-41b8-4d0c-84f6-a2afdd8954f4",
   "metadata": {
    "tags": []
   },
   "outputs": [],
   "source": [
    "import numpy as np\n",
    "import pandas as pd\n",
    "# import matplotlib.pyplot as plt\n",
    "import statsmodels.api as sm\n",
    "# from statsmodels.stats.anova import anova_lm\n",
    "from ISLP.models import (ModelSpec as MS, summarize)"
   ]
  },
  {
   "cell_type": "markdown",
   "id": "d942228a-9ad6-4a82-94a8-dcb5d01ab8e6",
   "metadata": {},
   "source": [
    "### (a) Perform some commands"
   ]
  },
  {
   "cell_type": "code",
   "execution_count": 2,
   "id": "7908ac95-8376-4171-b974-aade7a2c9924",
   "metadata": {
    "tags": []
   },
   "outputs": [],
   "source": [
    "rng = np.random.default_rng (10)\n",
    "x1 = rng.uniform(0, 1, size=100)\n",
    "x2 = 0.5 * x1 + rng.normal(size=100) / 10\n",
    "y = 2 + 2 * x1 + 0.3 * x2 + rng.normal(size=100)"
   ]
  },
  {
   "cell_type": "markdown",
   "id": "4e3a6f06-9ada-480b-b832-afa32c896e49",
   "metadata": {},
   "source": [
    "Form of linear model: $$y = \\beta_0 + \\beta_1 X_1 + \\beta_2 X_2 + \\epsilon$$\n",
    "$$y = 2 + 2 X_1 + 0.3 X_2 + \\epsilon$$"
   ]
  },
  {
   "cell_type": "markdown",
   "id": "f08087aa-d772-446f-9019-60779d3f39d3",
   "metadata": {},
   "source": [
    "Regression Coefficients: \n",
    "- $\\beta_0 = 2$\n",
    "- $\\beta_1 = 2$\n",
    "- $\\beta_2 = 0.3$"
   ]
  },
  {
   "cell_type": "markdown",
   "id": "f1650c3a-0558-4076-9475-d50a04897376",
   "metadata": {},
   "source": [
    "### (b) Correlation and scatterplot between $x1$ and $x2$"
   ]
  },
  {
   "cell_type": "code",
   "execution_count": 3,
   "id": "d190a424-2b34-4601-8dd2-7ae0a9137800",
   "metadata": {
    "tags": []
   },
   "outputs": [],
   "source": [
    "df = pd.DataFrame({'x1': x1, 'x2': x2})"
   ]
  },
  {
   "cell_type": "code",
   "execution_count": 4,
   "id": "c24c5515-f08f-43eb-acef-fad69ff18043",
   "metadata": {
    "tags": []
   },
   "outputs": [],
   "source": [
    "np.corrcoef(x1, x2);"
   ]
  },
  {
   "cell_type": "code",
   "execution_count": 5,
   "id": "8e013409-e5f0-4b29-ab4d-53538c014b00",
   "metadata": {
    "tags": []
   },
   "outputs": [
    {
     "data": {
      "text/html": [
       "<div>\n",
       "<style scoped>\n",
       "    .dataframe tbody tr th:only-of-type {\n",
       "        vertical-align: middle;\n",
       "    }\n",
       "\n",
       "    .dataframe tbody tr th {\n",
       "        vertical-align: top;\n",
       "    }\n",
       "\n",
       "    .dataframe thead th {\n",
       "        text-align: right;\n",
       "    }\n",
       "</style>\n",
       "<table border=\"1\" class=\"dataframe\">\n",
       "  <thead>\n",
       "    <tr style=\"text-align: right;\">\n",
       "      <th></th>\n",
       "      <th>x1</th>\n",
       "      <th>x2</th>\n",
       "    </tr>\n",
       "  </thead>\n",
       "  <tbody>\n",
       "    <tr>\n",
       "      <th>x1</th>\n",
       "      <td>1.000000</td>\n",
       "      <td>0.772324</td>\n",
       "    </tr>\n",
       "    <tr>\n",
       "      <th>x2</th>\n",
       "      <td>0.772324</td>\n",
       "      <td>1.000000</td>\n",
       "    </tr>\n",
       "  </tbody>\n",
       "</table>\n",
       "</div>"
      ],
      "text/plain": [
       "          x1        x2\n",
       "x1  1.000000  0.772324\n",
       "x2  0.772324  1.000000"
      ]
     },
     "execution_count": 5,
     "metadata": {},
     "output_type": "execute_result"
    }
   ],
   "source": [
    "df.corr()"
   ]
  },
  {
   "cell_type": "markdown",
   "id": "2e8ad3c6-b8a5-45b5-9f52-5a43877f7fc1",
   "metadata": {},
   "source": [
    "The correlation between $x1$ and $x2$ is $0.7723245$"
   ]
  },
  {
   "cell_type": "code",
   "execution_count": 6,
   "id": "737de855-0b07-42cc-8a3e-e365c42415ea",
   "metadata": {
    "tags": []
   },
   "outputs": [
    {
     "data": {
      "image/png": "[encoded data removed]",
      "text/plain": [
       "<Figure size 640x480 with 1 Axes>"
      ]
     },
     "metadata": {},
     "output_type": "display_data"
    }
   ],
   "source": [
    "df.plot.scatter('x1', 'x2');"
   ]
  },
  {
   "cell_type": "markdown",
   "id": "5b631f82-0c56-4622-a7af-082adaa17794",
   "metadata": {},
   "source": [
    "### (c) Fit a least squares regression to predict y given x1, x2"
   ]
  },
  {
   "cell_type": "code",
   "execution_count": 7,
   "id": "fb0e6a22-3a96-48e9-80ad-9469d8775619",
   "metadata": {
    "tags": []
   },
   "outputs": [],
   "source": [
    "X = MS(['x1', 'x2']).fit_transform(df)"
   ]
  },
  {
   "cell_type": "code",
   "execution_count": 8,
   "id": "0652c0b5-f479-4109-9375-671e67bd3783",
   "metadata": {
    "tags": []
   },
   "outputs": [],
   "source": [
    "model = sm.OLS(y, X)\n",
    "result = model.fit()"
   ]
  },
  {
   "cell_type": "code",
   "execution_count": 9,
   "id": "d8ab50ca-b3c7-4c4d-8920-d50e11e6e43d",
   "metadata": {
    "tags": []
   },
   "outputs": [
    {
     "data": {
      "text/html": [
       "<div>\n",
       "<style scoped>\n",
       "    .dataframe tbody tr th:only-of-type {\n",
       "        vertical-align: middle;\n",
       "    }\n",
       "\n",
       "    .dataframe tbody tr th {\n",
       "        vertical-align: top;\n",
       "    }\n",
       "\n",
       "    .dataframe thead th {\n",
       "        text-align: right;\n",
       "    }\n",
       "</style>\n",
       "<table border=\"1\" class=\"dataframe\">\n",
       "  <thead>\n",
       "    <tr style=\"text-align: right;\">\n",
       "      <th></th>\n",
       "      <th>coef</th>\n",
       "      <th>std err</th>\n",
       "      <th>t</th>\n",
       "      <th>P&gt;|t|</th>\n",
       "    </tr>\n",
       "  </thead>\n",
       "  <tbody>\n",
       "    <tr>\n",
       "      <th>intercept</th>\n",
       "      <td>1.9579</td>\n",
       "      <td>0.190</td>\n",
       "      <td>10.319</td>\n",
       "      <td>0.000</td>\n",
       "    </tr>\n",
       "    <tr>\n",
       "      <th>x1</th>\n",
       "      <td>1.6154</td>\n",
       "      <td>0.527</td>\n",
       "      <td>3.065</td>\n",
       "      <td>0.003</td>\n",
       "    </tr>\n",
       "    <tr>\n",
       "      <th>x2</th>\n",
       "      <td>0.9428</td>\n",
       "      <td>0.831</td>\n",
       "      <td>1.134</td>\n",
       "      <td>0.259</td>\n",
       "    </tr>\n",
       "  </tbody>\n",
       "</table>\n",
       "</div>"
      ],
      "text/plain": [
       "             coef  std err       t  P>|t|\n",
       "intercept  1.9579    0.190  10.319  0.000\n",
       "x1         1.6154    0.527   3.065  0.003\n",
       "x2         0.9428    0.831   1.134  0.259"
      ]
     },
     "execution_count": 9,
     "metadata": {},
     "output_type": "execute_result"
    }
   ],
   "source": [
    "result.summary();\n",
    "summarize(result)"
   ]
  },
  {
   "cell_type": "markdown",
   "id": "9fa46c9c-34f0-4879-93a2-97d200382510",
   "metadata": {},
   "source": [
    "- $\\hat{\\beta_0} = 1.9579$, $\\beta_0 = 2$\n",
    "- $\\hat{\\beta_1} = 1.6154$, $\\beta_1 = 2$\n",
    "- $\\hat{\\beta_2} = 0.9428$, $\\beta_2 = 0.3$\n",
    "\n",
    "The coefficient estimates are okay."
   ]
  },
  {
   "cell_type": "markdown",
   "id": "db74ca75-da1a-4dbe-ae44-394bf1c82098",
   "metadata": {},
   "source": [
    "We can reject $H_0: \\beta_1 = 0$ since $p=0.003$ is small. We **cannot** reject $H_0: \\beta_2 = 0$ since $p=0.259$ is not small."
   ]
  }
 ],
 "metadata": {
  "kernelspec": {
   "display_name": "Python 3 (ipykernel)",
   "language": "python",
   "name": "python3"
  },
  "language_info": {
   "codemirror_mode": {
    "name": "ipython",
    "version": 3
   },
   "file_extension": ".py",
   "mimetype": "text/x-python",
   "name": "python",
   "nbconvert_exporter": "python",
   "pygments_lexer": "ipython3",
   "version": "3.11.4"
  }
 },
 "nbformat": 4,
 "nbformat_minor": 5
}
