{
 "cells": [
  {
   "cell_type": "markdown",
   "id": "e3178b2a-c92e-402f-a1fe-4f7760ae404f",
   "metadata": {},
   "source": [
    "# Chapter 3: Exercise 13"
   ]
  },
  {
   "cell_type": "markdown",
   "id": "5970ae8c-b364-4642-b7a2-e2d5326bbe36",
   "metadata": {},
   "source": [
    "**Import packages**"
   ]
  },
  {
   "cell_type": "code",
   "execution_count": 1,
   "id": "ec5b4fbd-2a0c-4103-ba2c-54054ffbc1fd",
   "metadata": {
    "tags": []
   },
   "outputs": [],
   "source": [
    "import numpy as np\n",
    "import pandas as pd\n",
    "import statsmodels.api as sm\n",
    "import matplotlib.pyplot as plt\n",
    "from statsmodels.stats.anova import anova_lm\n",
    "from ISLP.models import (ModelSpec as MS, summarize, poly)"
   ]
  },
  {
   "cell_type": "markdown",
   "id": "c11885fc-b09c-4e90-9e4d-cead53a7faae",
   "metadata": {},
   "source": [
    "### (a) Generate a vector x containing n=100 observations from N(0, 1) distribution"
   ]
  },
  {
   "cell_type": "code",
   "execution_count": 2,
   "id": "b53bfdb2-a14e-4b84-89f2-6d95e5280a61",
   "metadata": {
    "tags": []
   },
   "outputs": [],
   "source": [
    "rng = np.random.default_rng(1)\n",
    "x = rng.normal(size=100)"
   ]
  },
  {
   "cell_type": "markdown",
   "id": "bcb5442c-0aa3-48bc-979c-c4fd039db5fb",
   "metadata": {},
   "source": [
    "### (b) Generate a vector eps containing n=100 observations from N(0, 0.25) (mean=0, variance=0.25)"
   ]
  },
  {
   "cell_type": "code",
   "execution_count": 3,
   "id": "f78bb45b-25ad-45c5-99b1-b9ce6c42c9ea",
   "metadata": {
    "tags": []
   },
   "outputs": [],
   "source": [
    "eps = rng.normal(loc=0, scale=np.sqrt(0.25), size=100)"
   ]
  },
  {
   "cell_type": "markdown",
   "id": "65f40f8a-5982-4236-96bb-69c8e40eb243",
   "metadata": {
    "tags": []
   },
   "source": [
    "### (c) Using x and eps generate a vector y according to $Y = -1 + 0.5X + \\epsilon$"
   ]
  },
  {
   "cell_type": "code",
   "execution_count": 4,
   "id": "96dc6729-f1d9-4d63-804a-3bca89d42975",
   "metadata": {
    "tags": []
   },
   "outputs": [],
   "source": [
    "y = -1 + 0.5 * x + eps"
   ]
  },
  {
   "cell_type": "code",
   "execution_count": 5,
   "id": "aba549d1-ecb3-4ef7-8cf1-95934331082c",
   "metadata": {
    "tags": []
   },
   "outputs": [
    {
     "data": {
      "text/plain": [
       "100"
      ]
     },
     "execution_count": 5,
     "metadata": {},
     "output_type": "execute_result"
    }
   ],
   "source": [
    "len(y)"
   ]
  },
  {
   "cell_type": "markdown",
   "id": "887bc1d2-aa5e-4e46-ac24-26e60074c4b3",
   "metadata": {},
   "source": [
    "- **length(y)** = 100\n",
    "- **$\\beta_0$** = -1\n",
    "- **$\\beta_1$** = 0.5"
   ]
  },
  {
   "cell_type": "markdown",
   "id": "b9390d59-5fdd-4007-8b96-12ff04a6523d",
   "metadata": {},
   "source": [
    "### (d) Scatter plot between x and y"
   ]
  },
  {
   "cell_type": "code",
   "execution_count": 6,
   "id": "944c0733-4a60-40e0-a200-d08238e17d9e",
   "metadata": {
    "tags": []
   },
   "outputs": [
    {
     "data": {
      "text/plain": [
       "<matplotlib.collections.PathCollection at 0x238a7333cd0>"
      ]
     },
     "execution_count": 6,
     "metadata": {},
     "output_type": "execute_result"
    },
    {
     "data": {
      "image/png": "[encoded data removed]",
      "text/plain": [
       "<Figure size 640x480 with 1 Axes>"
      ]
     },
     "metadata": {},
     "output_type": "display_data"
    }
   ],
   "source": [
    "plt.scatter(x, y)"
   ]
  },
  {
   "cell_type": "markdown",
   "id": "fe18a1f0-3706-4ad2-b9f0-366229865e21",
   "metadata": {},
   "source": [
    "There appears to be a positive linear relationship between x and y."
   ]
  },
  {
   "cell_type": "markdown",
   "id": "0de1f529-147a-42e6-8bb2-beb1903bf1bb",
   "metadata": {},
   "source": [
    "### (e) Least squares linear model to predict y using x"
   ]
  },
  {
   "cell_type": "code",
   "execution_count": 7,
   "id": "337dc79f-6ccc-4568-8bcc-0585056b116f",
   "metadata": {
    "tags": []
   },
   "outputs": [],
   "source": [
    "dfx = pd.DataFrame({'intercept': np.ones(len(x)), 'x': x})"
   ]
  },
  {
   "cell_type": "code",
   "execution_count": 8,
   "id": "9f2adf2b-5d2c-4191-aa49-0aa34052801c",
   "metadata": {
    "tags": []
   },
   "outputs": [],
   "source": [
    "model = sm.OLS(y, dfx)\n",
    "results = model.fit()"
   ]
  },
  {
   "cell_type": "code",
   "execution_count": 9,
   "id": "33ba0101-0b99-450a-956e-b6b7eb5e75a9",
   "metadata": {
    "tags": []
   },
   "outputs": [
    {
     "data": {
      "text/html": [
       "<div>\n",
       "<style scoped>\n",
       "    .dataframe tbody tr th:only-of-type {\n",
       "        vertical-align: middle;\n",
       "    }\n",
       "\n",
       "    .dataframe tbody tr th {\n",
       "        vertical-align: top;\n",
       "    }\n",
       "\n",
       "    .dataframe thead th {\n",
       "        text-align: right;\n",
       "    }\n",
       "</style>\n",
       "<table border=\"1\" class=\"dataframe\">\n",
       "  <thead>\n",
       "    <tr style=\"text-align: right;\">\n",
       "      <th></th>\n",
       "      <th>coef</th>\n",
       "      <th>std err</th>\n",
       "      <th>t</th>\n",
       "      <th>P&gt;|t|</th>\n",
       "    </tr>\n",
       "  </thead>\n",
       "  <tbody>\n",
       "    <tr>\n",
       "      <th>intercept</th>\n",
       "      <td>-1.0380</td>\n",
       "      <td>0.050</td>\n",
       "      <td>-20.647</td>\n",
       "      <td>0.0</td>\n",
       "    </tr>\n",
       "    <tr>\n",
       "      <th>x</th>\n",
       "      <td>0.4843</td>\n",
       "      <td>0.059</td>\n",
       "      <td>8.233</td>\n",
       "      <td>0.0</td>\n",
       "    </tr>\n",
       "  </tbody>\n",
       "</table>\n",
       "</div>"
      ],
      "text/plain": [
       "             coef  std err       t  P>|t|\n",
       "intercept -1.0380    0.050 -20.647    0.0\n",
       "x          0.4843    0.059   8.233    0.0"
      ]
     },
     "execution_count": 9,
     "metadata": {},
     "output_type": "execute_result"
    }
   ],
   "source": [
    "summarize(results)"
   ]
  },
  {
   "cell_type": "markdown",
   "id": "d9ce205c-42c0-428b-b494-d56e8ab85117",
   "metadata": {},
   "source": [
    "Our model performs surprisingly well. $-1.0380 = \\hat{\\beta_0} \\approx \\beta_0 = -1$ and $0.4843 = \\hat{\\beta_1} \\approx \\beta_1 = 0.5$"
   ]
  },
  {
   "cell_type": "markdown",
   "id": "70f33bca-e959-413f-94f3-10450ca99e7b",
   "metadata": {
    "tags": []
   },
   "source": [
    "### (f) Plot of least squares line, population regression line, and scatterplot"
   ]
  },
  {
   "cell_type": "code",
   "execution_count": 10,
   "id": "eb7131d0-887e-47b9-ab9f-09caf9231974",
   "metadata": {
    "tags": []
   },
   "outputs": [],
   "source": [
    "beta0 = results.params[0]"
   ]
  },
  {
   "cell_type": "code",
   "execution_count": 11,
   "id": "cb9038c2-a9b6-4b26-9bc9-acf6239a499d",
   "metadata": {
    "tags": []
   },
   "outputs": [],
   "source": [
    "beta1 = results.params[1]"
   ]
  },
  {
   "cell_type": "code",
   "execution_count": 12,
   "id": "a49c6b4e-38f6-46d7-b01b-d68ea16b5034",
   "metadata": {
    "tags": []
   },
   "outputs": [
    {
     "data": {
      "text/plain": [
       "<matplotlib.legend.Legend at 0x238a909ced0>"
      ]
     },
     "execution_count": 12,
     "metadata": {},
     "output_type": "execute_result"
    },
    {
     "data": {
      "image/png": "[encoded data removed]",
      "text/plain": [
       "<Figure size 640x480 with 1 Axes>"
      ]
     },
     "metadata": {},
     "output_type": "display_data"
    }
   ],
   "source": [
    "plt.scatter(x, y)\n",
    "plt.plot([-3,2.5],[beta0 -3*beta1, beta0 + 2.5*beta1], label='least squares line')\n",
    "plt.plot([-3,2.5],[-1 -3*0.5, -1 + 2.5*0.5], label='pop. regression line')\n",
    "plt.legend()"
   ]
  },
  {
   "cell_type": "markdown",
   "id": "beff6c99-099e-406f-bcd6-93057fc53031",
   "metadata": {},
   "source": [
    "### (g) Polynomial regression model that predicts $y$ using $x$ and $x^2$"
   ]
  },
  {
   "cell_type": "code",
   "execution_count": 13,
   "id": "1fb12694-b3bf-4ba3-97b5-aabb011af1a1",
   "metadata": {
    "tags": []
   },
   "outputs": [],
   "source": [
    "df = pd.DataFrame({'x': x, 'y': y})"
   ]
  },
  {
   "cell_type": "code",
   "execution_count": 14,
   "id": "81b05ed7-a447-4c19-8c73-b6e82e821759",
   "metadata": {
    "tags": []
   },
   "outputs": [],
   "source": [
    "X = MS([poly('x', degree=2)]).fit_transform(df)"
   ]
  },
  {
   "cell_type": "code",
   "execution_count": 15,
   "id": "eda1654b-d851-44bf-9e11-308f68242a7b",
   "metadata": {
    "tags": []
   },
   "outputs": [],
   "source": [
    "model2 = sm.OLS(y, X)\n",
    "results2 = model2.fit()"
   ]
  },
  {
   "cell_type": "code",
   "execution_count": 16,
   "id": "7617e856-abdc-4595-aa86-449c63209c49",
   "metadata": {
    "tags": []
   },
   "outputs": [
    {
     "data": {
      "text/html": [
       "<div>\n",
       "<style scoped>\n",
       "    .dataframe tbody tr th:only-of-type {\n",
       "        vertical-align: middle;\n",
       "    }\n",
       "\n",
       "    .dataframe tbody tr th {\n",
       "        vertical-align: top;\n",
       "    }\n",
       "\n",
       "    .dataframe thead th {\n",
       "        text-align: right;\n",
       "    }\n",
       "</style>\n",
       "<table border=\"1\" class=\"dataframe\">\n",
       "  <thead>\n",
       "    <tr style=\"text-align: right;\">\n",
       "      <th></th>\n",
       "      <th>coef</th>\n",
       "      <th>std err</th>\n",
       "      <th>t</th>\n",
       "      <th>P&gt;|t|</th>\n",
       "    </tr>\n",
       "  </thead>\n",
       "  <tbody>\n",
       "    <tr>\n",
       "      <th>intercept</th>\n",
       "      <td>-1.0737</td>\n",
       "      <td>0.050</td>\n",
       "      <td>-21.326</td>\n",
       "      <td>0.000</td>\n",
       "    </tr>\n",
       "    <tr>\n",
       "      <th>poly(x, degree=2)[0]</th>\n",
       "      <td>4.1240</td>\n",
       "      <td>0.503</td>\n",
       "      <td>8.191</td>\n",
       "      <td>0.000</td>\n",
       "    </tr>\n",
       "    <tr>\n",
       "      <th>poly(x, degree=2)[1]</th>\n",
       "      <td>-0.0261</td>\n",
       "      <td>0.503</td>\n",
       "      <td>-0.052</td>\n",
       "      <td>0.959</td>\n",
       "    </tr>\n",
       "  </tbody>\n",
       "</table>\n",
       "</div>"
      ],
      "text/plain": [
       "                        coef  std err       t  P>|t|\n",
       "intercept            -1.0737    0.050 -21.326  0.000\n",
       "poly(x, degree=2)[0]  4.1240    0.503   8.191  0.000\n",
       "poly(x, degree=2)[1] -0.0261    0.503  -0.052  0.959"
      ]
     },
     "execution_count": 16,
     "metadata": {},
     "output_type": "execute_result"
    }
   ],
   "source": [
    "summarize(results2)"
   ]
  },
  {
   "cell_type": "code",
   "execution_count": 17,
   "id": "6b89fe46-00a1-4a8e-81fc-eccc9f98d6f6",
   "metadata": {
    "tags": []
   },
   "outputs": [
    {
     "data": {
      "text/html": [
       "<div>\n",
       "<style scoped>\n",
       "    .dataframe tbody tr th:only-of-type {\n",
       "        vertical-align: middle;\n",
       "    }\n",
       "\n",
       "    .dataframe tbody tr th {\n",
       "        vertical-align: top;\n",
       "    }\n",
       "\n",
       "    .dataframe thead th {\n",
       "        text-align: right;\n",
       "    }\n",
       "</style>\n",
       "<table border=\"1\" class=\"dataframe\">\n",
       "  <thead>\n",
       "    <tr style=\"text-align: right;\">\n",
       "      <th></th>\n",
       "      <th>df_resid</th>\n",
       "      <th>ssr</th>\n",
       "      <th>df_diff</th>\n",
       "      <th>ss_diff</th>\n",
       "      <th>F</th>\n",
       "      <th>Pr(&gt;F)</th>\n",
       "    </tr>\n",
       "  </thead>\n",
       "  <tbody>\n",
       "    <tr>\n",
       "      <th>0</th>\n",
       "      <td>98.0</td>\n",
       "      <td>24.586567</td>\n",
       "      <td>0.0</td>\n",
       "      <td>NaN</td>\n",
       "      <td>NaN</td>\n",
       "      <td>NaN</td>\n",
       "    </tr>\n",
       "    <tr>\n",
       "      <th>1</th>\n",
       "      <td>97.0</td>\n",
       "      <td>24.585886</td>\n",
       "      <td>1.0</td>\n",
       "      <td>0.000681</td>\n",
       "      <td>0.002688</td>\n",
       "      <td>0.958757</td>\n",
       "    </tr>\n",
       "  </tbody>\n",
       "</table>\n",
       "</div>"
      ],
      "text/plain": [
       "   df_resid        ssr  df_diff   ss_diff         F    Pr(>F)\n",
       "0      98.0  24.586567      0.0       NaN       NaN       NaN\n",
       "1      97.0  24.585886      1.0  0.000681  0.002688  0.958757"
      ]
     },
     "execution_count": 17,
     "metadata": {},
     "output_type": "execute_result"
    }
   ],
   "source": [
    "anova_lm(results, results2)"
   ]
  },
  {
   "cell_type": "markdown",
   "id": "d67095ce-8f62-4d37-880a-d375e65ca379",
   "metadata": {},
   "source": [
    "There is no evidence the quadratic term improves the model fit. This is seen by the high p-value associated with the t-statistic as well as the high p-value associated with the F-statistic."
   ]
  },
  {
   "cell_type": "markdown",
   "id": "34581358-7a43-4814-ba80-98bff688ad8a",
   "metadata": {},
   "source": [
    "### (h) Repeat with less noise in the data (decrease variance in eps). Describe results."
   ]
  },
  {
   "cell_type": "code",
   "execution_count": 18,
   "id": "52c442b8-6147-491a-a61b-cdf89592296c",
   "metadata": {
    "tags": []
   },
   "outputs": [],
   "source": [
    "eps = rng.normal(loc=0, scale=np.sqrt(0.125), size=100)"
   ]
  },
  {
   "cell_type": "code",
   "execution_count": 19,
   "id": "e561f3b6-4672-44e9-997a-606ae79f8597",
   "metadata": {
    "tags": []
   },
   "outputs": [],
   "source": [
    "y = -1 + 0.5 * x + eps"
   ]
  },
  {
   "cell_type": "code",
   "execution_count": 20,
   "id": "486ebcc5-5789-40e8-a0f9-eb1d12ba7364",
   "metadata": {
    "tags": []
   },
   "outputs": [
    {
     "data": {
      "text/plain": [
       "<matplotlib.collections.PathCollection at 0x238a9292510>"
      ]
     },
     "execution_count": 20,
     "metadata": {},
     "output_type": "execute_result"
    },
    {
     "data": {
      "image/png": "[encoded data removed]",
      "text/plain": [
       "<Figure size 640x480 with 1 Axes>"
      ]
     },
     "metadata": {},
     "output_type": "display_data"
    }
   ],
   "source": [
    "plt.scatter(x, y)"
   ]
  },
  {
   "cell_type": "markdown",
   "id": "492c451a-da99-4499-93d9-3c02a449b9e1",
   "metadata": {},
   "source": [
    "With less noise in the dataset our points track the population regression line much more closely."
   ]
  },
  {
   "cell_type": "code",
   "execution_count": 21,
   "id": "a71d54ff-7c61-47c3-812e-6178cbde26fb",
   "metadata": {
    "tags": []
   },
   "outputs": [],
   "source": [
    "model_lessnoise = sm.OLS(y, dfx)\n",
    "results_lessnoise = model_lessnoise.fit()"
   ]
  },
  {
   "cell_type": "code",
   "execution_count": 22,
   "id": "cdc6fb7c-454c-4e6f-8f3e-13f65948e295",
   "metadata": {
    "tags": []
   },
   "outputs": [
    {
     "data": {
      "text/html": [
       "<div>\n",
       "<style scoped>\n",
       "    .dataframe tbody tr th:only-of-type {\n",
       "        vertical-align: middle;\n",
       "    }\n",
       "\n",
       "    .dataframe tbody tr th {\n",
       "        vertical-align: top;\n",
       "    }\n",
       "\n",
       "    .dataframe thead th {\n",
       "        text-align: right;\n",
       "    }\n",
       "</style>\n",
       "<table border=\"1\" class=\"dataframe\">\n",
       "  <thead>\n",
       "    <tr style=\"text-align: right;\">\n",
       "      <th></th>\n",
       "      <th>coef</th>\n",
       "      <th>std err</th>\n",
       "      <th>t</th>\n",
       "      <th>P&gt;|t|</th>\n",
       "    </tr>\n",
       "  </thead>\n",
       "  <tbody>\n",
       "    <tr>\n",
       "      <th>intercept</th>\n",
       "      <td>-1.0572</td>\n",
       "      <td>0.033</td>\n",
       "      <td>-32.302</td>\n",
       "      <td>0.0</td>\n",
       "    </tr>\n",
       "    <tr>\n",
       "      <th>x</th>\n",
       "      <td>0.4955</td>\n",
       "      <td>0.038</td>\n",
       "      <td>12.939</td>\n",
       "      <td>0.0</td>\n",
       "    </tr>\n",
       "  </tbody>\n",
       "</table>\n",
       "</div>"
      ],
      "text/plain": [
       "             coef  std err       t  P>|t|\n",
       "intercept -1.0572    0.033 -32.302    0.0\n",
       "x          0.4955    0.038  12.939    0.0"
      ]
     },
     "execution_count": 22,
     "metadata": {},
     "output_type": "execute_result"
    }
   ],
   "source": [
    "summarize(results_lessnoise)"
   ]
  },
  {
   "cell_type": "markdown",
   "id": "325658cf-42c5-4280-935e-9716db736da8",
   "metadata": {},
   "source": [
    "With less noise our intercept is slightly more off, while the slope is closer to the true population regression line slope. However we get smaller standard errors, larger (in absolute value) t-stats, and subsequently smaller p-values, giving us more confidence in the fit of our model."
   ]
  },
  {
   "cell_type": "code",
   "execution_count": 23,
   "id": "90fbc290-8c9b-4be7-8b08-b9bef0adfa18",
   "metadata": {
    "tags": []
   },
   "outputs": [],
   "source": [
    "beta0 = results_lessnoise.params[0]"
   ]
  },
  {
   "cell_type": "code",
   "execution_count": 24,
   "id": "93c17190-ffb3-4662-a011-f49a175a2c50",
   "metadata": {
    "tags": []
   },
   "outputs": [],
   "source": [
    "beta1 = results_lessnoise.params[1]"
   ]
  },
  {
   "cell_type": "code",
   "execution_count": 25,
   "id": "d6858bdd-f236-4531-a7bb-4a299e88c4e6",
   "metadata": {
    "tags": []
   },
   "outputs": [
    {
     "data": {
      "text/plain": [
       "<matplotlib.legend.Legend at 0x238a922a9d0>"
      ]
     },
     "execution_count": 25,
     "metadata": {},
     "output_type": "execute_result"
    },
    {
     "data": {
      "image/png": "[encoded data removed]",
      "text/plain": [
       "<Figure size 640x480 with 1 Axes>"
      ]
     },
     "metadata": {},
     "output_type": "display_data"
    }
   ],
   "source": [
    "plt.scatter(x, y)\n",
    "plt.plot([-3,2.5],[beta0 -3*beta1, beta0 + 2.5*beta1], label='least squares line')\n",
    "plt.plot([-3,2.5],[-1 -3*0.5, -1 + 2.5*0.5], label='pop. regression line')\n",
    "plt.legend()"
   ]
  },
  {
   "cell_type": "markdown",
   "id": "9b0fbc12-28d4-4893-ac4e-aa87a862733f",
   "metadata": {},
   "source": [
    "The slope of our least squares line is almost identical to the population regression line slope, but the y-intercept is farther off than our other model."
   ]
  },
  {
   "cell_type": "markdown",
   "id": "3cfbbf25-f7ad-42a4-afc8-ea21de815b5e",
   "metadata": {},
   "source": [
    "### (i) Repeat with more noise in the data (increase variance in eps). Describe results."
   ]
  },
  {
   "cell_type": "code",
   "execution_count": 26,
   "id": "6ef2b120-831d-4f54-aeea-45f69502ddc4",
   "metadata": {
    "tags": []
   },
   "outputs": [],
   "source": [
    "eps = rng.normal(loc=0, scale=np.sqrt(0.75), size=100)"
   ]
  },
  {
   "cell_type": "code",
   "execution_count": 27,
   "id": "7cdacdd2-14e3-47c0-8bda-4bc9a7271f6a",
   "metadata": {
    "tags": []
   },
   "outputs": [],
   "source": [
    "y = -1 + 0.5 * x + eps"
   ]
  },
  {
   "cell_type": "code",
   "execution_count": 28,
   "id": "3dbfc237-dbfa-41f4-8b6a-a6249c5835ad",
   "metadata": {
    "tags": []
   },
   "outputs": [
    {
     "data": {
      "text/plain": [
       "<matplotlib.collections.PathCollection at 0x238a9339050>"
      ]
     },
     "execution_count": 28,
     "metadata": {},
     "output_type": "execute_result"
    },
    {
     "data": {
      "image/png": "[encoded data removed]",
      "text/plain": [
       "<Figure size 640x480 with 1 Axes>"
      ]
     },
     "metadata": {},
     "output_type": "display_data"
    }
   ],
   "source": [
    "plt.scatter(x, y)"
   ]
  },
  {
   "cell_type": "markdown",
   "id": "f17ba234-74b6-4347-8d63-f18cb1b7bb66",
   "metadata": {},
   "source": [
    "With more noise in the dataset our points are more spread out in a disorderly fashion from the true population regression line."
   ]
  },
  {
   "cell_type": "code",
   "execution_count": 29,
   "id": "c8c0fb04-133b-45f9-9bf1-545dc182e47b",
   "metadata": {
    "tags": []
   },
   "outputs": [],
   "source": [
    "model_morenoise = sm.OLS(y, dfx)\n",
    "results_morenoise = model_morenoise.fit()"
   ]
  },
  {
   "cell_type": "code",
   "execution_count": 30,
   "id": "abdcb36d-f6ae-452d-8d8d-b544f4543b2a",
   "metadata": {
    "tags": []
   },
   "outputs": [
    {
     "data": {
      "text/html": [
       "<div>\n",
       "<style scoped>\n",
       "    .dataframe tbody tr th:only-of-type {\n",
       "        vertical-align: middle;\n",
       "    }\n",
       "\n",
       "    .dataframe tbody tr th {\n",
       "        vertical-align: top;\n",
       "    }\n",
       "\n",
       "    .dataframe thead th {\n",
       "        text-align: right;\n",
       "    }\n",
       "</style>\n",
       "<table border=\"1\" class=\"dataframe\">\n",
       "  <thead>\n",
       "    <tr style=\"text-align: right;\">\n",
       "      <th></th>\n",
       "      <th>coef</th>\n",
       "      <th>std err</th>\n",
       "      <th>t</th>\n",
       "      <th>P&gt;|t|</th>\n",
       "    </tr>\n",
       "  </thead>\n",
       "  <tbody>\n",
       "    <tr>\n",
       "      <th>intercept</th>\n",
       "      <td>-1.0079</td>\n",
       "      <td>0.076</td>\n",
       "      <td>-13.308</td>\n",
       "      <td>0.0</td>\n",
       "    </tr>\n",
       "    <tr>\n",
       "      <th>x</th>\n",
       "      <td>0.6273</td>\n",
       "      <td>0.089</td>\n",
       "      <td>7.079</td>\n",
       "      <td>0.0</td>\n",
       "    </tr>\n",
       "  </tbody>\n",
       "</table>\n",
       "</div>"
      ],
      "text/plain": [
       "             coef  std err       t  P>|t|\n",
       "intercept -1.0079    0.076 -13.308    0.0\n",
       "x          0.6273    0.089   7.079    0.0"
      ]
     },
     "execution_count": 30,
     "metadata": {},
     "output_type": "execute_result"
    }
   ],
   "source": [
    "summarize(results_morenoise)"
   ]
  },
  {
   "cell_type": "markdown",
   "id": "3982b5e7-70e0-426c-a3a0-53b85eb96dec",
   "metadata": {},
   "source": [
    "With more noise our intercept is closer to the true value (coincidence?), while the slope is further away from the true population regression equation value. We also have larger standard errors, smaller (in absolute value) t-stats, and thus larger p-values (although still statistically significant)."
   ]
  },
  {
   "cell_type": "code",
   "execution_count": 31,
   "id": "08607a30-5df0-43ea-af41-ddce09d18c8e",
   "metadata": {
    "tags": []
   },
   "outputs": [],
   "source": [
    "beta0 = results_morenoise.params[0]"
   ]
  },
  {
   "cell_type": "code",
   "execution_count": 32,
   "id": "ae3ec36f-d58e-407a-9bbf-97cf2d92bc30",
   "metadata": {
    "tags": []
   },
   "outputs": [],
   "source": [
    "beta1 = results_morenoise.params[1]"
   ]
  },
  {
   "cell_type": "code",
   "execution_count": 33,
   "id": "0faec42c-77b5-43df-a19b-c455df106eb8",
   "metadata": {
    "tags": []
   },
   "outputs": [
    {
     "data": {
      "text/plain": [
       "<matplotlib.legend.Legend at 0x238a9235cd0>"
      ]
     },
     "execution_count": 33,
     "metadata": {},
     "output_type": "execute_result"
    },
    {
     "data": {
      "image/png": "[encoded data removed]",
      "text/plain": [
       "<Figure size 640x480 with 1 Axes>"
      ]
     },
     "metadata": {},
     "output_type": "display_data"
    }
   ],
   "source": [
    "plt.scatter(x, y)\n",
    "plt.plot([-3,2.5],[beta0 -3*beta1, beta0 + 2.5*beta1], label='least squares line')\n",
    "plt.plot([-3,2.5],[-1 -3*0.5, -1 + 2.5*0.5], label='pop. regression line')\n",
    "plt.legend()"
   ]
  },
  {
   "cell_type": "markdown",
   "id": "783740cd-a89b-4521-b7f7-4ea30f463e13",
   "metadata": {},
   "source": [
    "The slope of our least squares line is farther off from the population regression line due to the increased noise in our dataset."
   ]
  },
  {
   "cell_type": "markdown",
   "id": "cf09bd7f-966a-462d-b1b3-bd1625bb54da",
   "metadata": {},
   "source": [
    "### (j) $95\\%$ Confidence Intervals for $\\beta_0$, $\\beta_1$ "
   ]
  },
  {
   "cell_type": "markdown",
   "id": "abbcc6c9-d514-42f1-851c-642113df7fbc",
   "metadata": {},
   "source": [
    "**Original Dataset**"
   ]
  },
  {
   "cell_type": "code",
   "execution_count": 35,
   "id": "fbfc8f94-deaf-4563-befc-8caa5ac464f5",
   "metadata": {
    "tags": []
   },
   "outputs": [
    {
     "data": {
      "text/html": [
       "<div>\n",
       "<style scoped>\n",
       "    .dataframe tbody tr th:only-of-type {\n",
       "        vertical-align: middle;\n",
       "    }\n",
       "\n",
       "    .dataframe tbody tr th {\n",
       "        vertical-align: top;\n",
       "    }\n",
       "\n",
       "    .dataframe thead th {\n",
       "        text-align: right;\n",
       "    }\n",
       "</style>\n",
       "<table border=\"1\" class=\"dataframe\">\n",
       "  <thead>\n",
       "    <tr style=\"text-align: right;\">\n",
       "      <th></th>\n",
       "      <th>0</th>\n",
       "      <th>1</th>\n",
       "    </tr>\n",
       "  </thead>\n",
       "  <tbody>\n",
       "    <tr>\n",
       "      <th>intercept</th>\n",
       "      <td>-1.137782</td>\n",
       "      <td>-0.938244</td>\n",
       "    </tr>\n",
       "    <tr>\n",
       "      <th>x</th>\n",
       "      <td>0.367565</td>\n",
       "      <td>0.601017</td>\n",
       "    </tr>\n",
       "  </tbody>\n",
       "</table>\n",
       "</div>"
      ],
      "text/plain": [
       "                  0         1\n",
       "intercept -1.137782 -0.938244\n",
       "x          0.367565  0.601017"
      ]
     },
     "execution_count": 35,
     "metadata": {},
     "output_type": "execute_result"
    }
   ],
   "source": [
    "results.conf_int()"
   ]
  },
  {
   "cell_type": "code",
   "execution_count": 62,
   "id": "4ddfe1ea-2b61-4458-a7df-baf3e74a9cae",
   "metadata": {
    "tags": []
   },
   "outputs": [
    {
     "name": "stdout",
     "output_type": "stream",
     "text": [
      "0.19953841027538222\n",
      "0.23345130161076766\n"
     ]
    }
   ],
   "source": [
    "print(np.abs(results.conf_int().iat[0,1] - results.conf_int().iat[0,0]))\n",
    "print(np.abs(results.conf_int().iat[1,1] - results.conf_int().iat[1,0]))"
   ]
  },
  {
   "cell_type": "markdown",
   "id": "774b8e89-b44e-4aea-a5a8-ec1506aa28c2",
   "metadata": {},
   "source": [
    "**Less Noise Dataset**"
   ]
  },
  {
   "cell_type": "code",
   "execution_count": 36,
   "id": "e08e04e8-c497-4d2a-ab0f-d74f53f6fc78",
   "metadata": {
    "tags": []
   },
   "outputs": [
    {
     "data": {
      "text/html": [
       "<div>\n",
       "<style scoped>\n",
       "    .dataframe tbody tr th:only-of-type {\n",
       "        vertical-align: middle;\n",
       "    }\n",
       "\n",
       "    .dataframe tbody tr th {\n",
       "        vertical-align: top;\n",
       "    }\n",
       "\n",
       "    .dataframe thead th {\n",
       "        text-align: right;\n",
       "    }\n",
       "</style>\n",
       "<table border=\"1\" class=\"dataframe\">\n",
       "  <thead>\n",
       "    <tr style=\"text-align: right;\">\n",
       "      <th></th>\n",
       "      <th>0</th>\n",
       "      <th>1</th>\n",
       "    </tr>\n",
       "  </thead>\n",
       "  <tbody>\n",
       "    <tr>\n",
       "      <th>intercept</th>\n",
       "      <td>-1.122202</td>\n",
       "      <td>-0.992298</td>\n",
       "    </tr>\n",
       "    <tr>\n",
       "      <th>x</th>\n",
       "      <td>0.419491</td>\n",
       "      <td>0.571472</td>\n",
       "    </tr>\n",
       "  </tbody>\n",
       "</table>\n",
       "</div>"
      ],
      "text/plain": [
       "                  0         1\n",
       "intercept -1.122202 -0.992298\n",
       "x          0.419491  0.571472"
      ]
     },
     "execution_count": 36,
     "metadata": {},
     "output_type": "execute_result"
    }
   ],
   "source": [
    "results_lessnoise.conf_int()"
   ]
  },
  {
   "cell_type": "code",
   "execution_count": 63,
   "id": "420df867-ce89-4055-828b-2aa10367f727",
   "metadata": {
    "tags": []
   },
   "outputs": [
    {
     "name": "stdout",
     "output_type": "stream",
     "text": [
      "0.12990380540964164\n",
      "0.15198182853727066\n"
     ]
    }
   ],
   "source": [
    "print(np.abs(results_lessnoise.conf_int().iat[0,1] - results_lessnoise.conf_int().iat[0,0]))\n",
    "print(np.abs(results_lessnoise.conf_int().iat[1,1] - results_lessnoise.conf_int().iat[1,0]))"
   ]
  },
  {
   "cell_type": "markdown",
   "id": "065a967d-27f3-40dd-b77e-fd2e870ffeed",
   "metadata": {},
   "source": [
    "**More Noise Dataset**"
   ]
  },
  {
   "cell_type": "code",
   "execution_count": 37,
   "id": "86fa58b9-7d33-439a-9b7e-b949b2235d1b",
   "metadata": {
    "tags": []
   },
   "outputs": [
    {
     "data": {
      "text/html": [
       "<div>\n",
       "<style scoped>\n",
       "    .dataframe tbody tr th:only-of-type {\n",
       "        vertical-align: middle;\n",
       "    }\n",
       "\n",
       "    .dataframe tbody tr th {\n",
       "        vertical-align: top;\n",
       "    }\n",
       "\n",
       "    .dataframe thead th {\n",
       "        text-align: right;\n",
       "    }\n",
       "</style>\n",
       "<table border=\"1\" class=\"dataframe\">\n",
       "  <thead>\n",
       "    <tr style=\"text-align: right;\">\n",
       "      <th></th>\n",
       "      <th>0</th>\n",
       "      <th>1</th>\n",
       "    </tr>\n",
       "  </thead>\n",
       "  <tbody>\n",
       "    <tr>\n",
       "      <th>intercept</th>\n",
       "      <td>-1.158232</td>\n",
       "      <td>-0.857632</td>\n",
       "    </tr>\n",
       "    <tr>\n",
       "      <th>x</th>\n",
       "      <td>0.451456</td>\n",
       "      <td>0.803146</td>\n",
       "    </tr>\n",
       "  </tbody>\n",
       "</table>\n",
       "</div>"
      ],
      "text/plain": [
       "                  0         1\n",
       "intercept -1.158232 -0.857632\n",
       "x          0.451456  0.803146"
      ]
     },
     "execution_count": 37,
     "metadata": {},
     "output_type": "execute_result"
    }
   ],
   "source": [
    "results_morenoise.conf_int()"
   ]
  },
  {
   "cell_type": "code",
   "execution_count": 64,
   "id": "674a277b-4c97-440c-8220-8b8052a52503",
   "metadata": {
    "tags": []
   },
   "outputs": [
    {
     "name": "stdout",
     "output_type": "stream",
     "text": [
      "0.30060067656955025\n",
      "0.35168977799006074\n"
     ]
    }
   ],
   "source": [
    "print(np.abs(results_morenoise.conf_int().iat[0,1] - results_morenoise.conf_int().iat[0,0]))\n",
    "print(np.abs(results_morenoise.conf_int().iat[1,1] - results_morenoise.conf_int().iat[1,0]))"
   ]
  },
  {
   "cell_type": "markdown",
   "id": "6d5bc0ff-37b8-4d8b-b771-5d626900afd9",
   "metadata": {},
   "source": [
    "Looking at the width of the confidence intervals (equivalently the margins of error) we see the less noise dataset is much more confident in the predictions for $\\beta_0$ and $\\beta_1$ than the more noise dataset, with the original dataset falling in the middle."
   ]
  }
 ],
 "metadata": {
  "kernelspec": {
   "display_name": "Python 3 (ipykernel)",
   "language": "python",
   "name": "python3"
  },
  "language_info": {
   "codemirror_mode": {
    "name": "ipython",
    "version": 3
   },
   "file_extension": ".py",
   "mimetype": "text/x-python",
   "name": "python",
   "nbconvert_exporter": "python",
   "pygments_lexer": "ipython3",
   "version": "3.11.4"
  }
 },
 "nbformat": 4,
 "nbformat_minor": 5
}
