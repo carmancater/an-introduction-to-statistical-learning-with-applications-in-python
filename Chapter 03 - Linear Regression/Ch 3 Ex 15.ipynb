{
 "cells": [
  {
   "cell_type": "markdown",
   "id": "0ea78e5d-6297-4d51-b3e2-d733653a3749",
   "metadata": {},
   "source": [
    "# Chapter 3: Exercise 15"
   ]
  },
  {
   "cell_type": "markdown",
   "id": "d1cc5f53-ef41-41e5-a1b5-4244f897fdda",
   "metadata": {},
   "source": [
    "**Import packages**"
   ]
  },
  {
   "cell_type": "code",
   "execution_count": 13,
   "id": "fe0cbbc5-91a8-4d18-a9aa-42c84f2193a2",
   "metadata": {
    "tags": []
   },
   "outputs": [],
   "source": [
    "import os\n",
    "# import numpy as np\n",
    "import pandas as pd\n",
    "import statsmodels.api as sm\n",
    "import matplotlib.pyplot as plt\n",
    "# from statsmodels.stats.anova import anova_lm\n",
    "from ISLP.models import (ModelSpec as MS, summarize)"
   ]
  },
  {
   "cell_type": "markdown",
   "id": "e8140191-843c-4516-9865-4f8a1021154b",
   "metadata": {},
   "source": [
    "## Predicting per capita crime rate from the Boston data set"
   ]
  },
  {
   "cell_type": "markdown",
   "id": "efe04454-aa35-4d4c-b2cb-cb8fd4aef4b1",
   "metadata": {},
   "source": [
    "### (a)  Fit a simple linear regression model for each predictor"
   ]
  },
  {
   "cell_type": "code",
   "execution_count": 2,
   "id": "c603762c-1c56-46d4-a108-b20d1c29771f",
   "metadata": {
    "tags": []
   },
   "outputs": [],
   "source": [
    "os.chdir('C:/Users/carma/Documents/GitHub/an-introduction-to-statistical-learning-with-applications-in-python/Datasets')"
   ]
  },
  {
   "cell_type": "code",
   "execution_count": 3,
   "id": "ec341e61-0a41-465a-99f5-e105dfce3056",
   "metadata": {
    "tags": []
   },
   "outputs": [],
   "source": [
    "df = pd.read_csv('Boston.csv')\n",
    "y = df['crim']"
   ]
  },
  {
   "cell_type": "code",
   "execution_count": 4,
   "id": "0f8414db-13f4-4bdc-8860-f6b8342bb4ed",
   "metadata": {
    "tags": []
   },
   "outputs": [
    {
     "data": {
      "text/plain": [
       "count    506.000000\n",
       "mean       3.613524\n",
       "std        8.601545\n",
       "min        0.006320\n",
       "25%        0.082045\n",
       "50%        0.256510\n",
       "75%        3.677083\n",
       "max       88.976200\n",
       "Name: crim, dtype: float64"
      ]
     },
     "execution_count": 4,
     "metadata": {},
     "output_type": "execute_result"
    }
   ],
   "source": [
    "df['crim'].describe()"
   ]
  },
  {
   "cell_type": "markdown",
   "id": "d13d86b2-704f-41b5-99c6-069d9561d8b5",
   "metadata": {},
   "source": [
    "**Fit model with zn**"
   ]
  },
  {
   "cell_type": "code",
   "execution_count": 16,
   "id": "a740525d-5bd3-46e3-87fc-a5d2a7354b74",
   "metadata": {
    "tags": []
   },
   "outputs": [
    {
     "data": {
      "text/plain": [
       "count    506.000000\n",
       "mean      11.363636\n",
       "std       23.322453\n",
       "min        0.000000\n",
       "25%        0.000000\n",
       "50%        0.000000\n",
       "75%       12.500000\n",
       "max      100.000000\n",
       "Name: zn, dtype: float64"
      ]
     },
     "execution_count": 16,
     "metadata": {},
     "output_type": "execute_result"
    }
   ],
   "source": [
    "df['zn'].describe()"
   ]
  },
  {
   "cell_type": "code",
   "execution_count": 18,
   "id": "c3ac0614-2c5c-4e9f-baed-c022bcf443d8",
   "metadata": {
    "tags": []
   },
   "outputs": [
    {
     "data": {
      "text/html": [
       "<div>\n",
       "<style scoped>\n",
       "    .dataframe tbody tr th:only-of-type {\n",
       "        vertical-align: middle;\n",
       "    }\n",
       "\n",
       "    .dataframe tbody tr th {\n",
       "        vertical-align: top;\n",
       "    }\n",
       "\n",
       "    .dataframe thead th {\n",
       "        text-align: right;\n",
       "    }\n",
       "</style>\n",
       "<table border=\"1\" class=\"dataframe\">\n",
       "  <thead>\n",
       "    <tr style=\"text-align: right;\">\n",
       "      <th></th>\n",
       "      <th>coef</th>\n",
       "      <th>std err</th>\n",
       "      <th>t</th>\n",
       "      <th>P&gt;|t|</th>\n",
       "    </tr>\n",
       "  </thead>\n",
       "  <tbody>\n",
       "    <tr>\n",
       "      <th>intercept</th>\n",
       "      <td>4.4537</td>\n",
       "      <td>0.417</td>\n",
       "      <td>10.675</td>\n",
       "      <td>0.0</td>\n",
       "    </tr>\n",
       "    <tr>\n",
       "      <th>zn</th>\n",
       "      <td>-0.0739</td>\n",
       "      <td>0.016</td>\n",
       "      <td>-4.594</td>\n",
       "      <td>0.0</td>\n",
       "    </tr>\n",
       "  </tbody>\n",
       "</table>\n",
       "</div>"
      ],
      "text/plain": [
       "             coef  std err       t  P>|t|\n",
       "intercept  4.4537    0.417  10.675    0.0\n",
       "zn        -0.0739    0.016  -4.594    0.0"
      ]
     },
     "execution_count": 18,
     "metadata": {},
     "output_type": "execute_result"
    }
   ],
   "source": [
    "X = MS(['zn']).fit_transform(df)\n",
    "result = sm.OLS(y, X).fit()\n",
    "summarize(result)"
   ]
  },
  {
   "cell_type": "code",
   "execution_count": 21,
   "id": "93462615-73bd-4596-a277-f8a4fbe66e0d",
   "metadata": {
    "tags": []
   },
   "outputs": [
    {
     "data": {
      "text/plain": [
       "Text(0, 0.5, 'crim')"
      ]
     },
     "execution_count": 21,
     "metadata": {},
     "output_type": "execute_result"
    },
    {
     "data": {
      "image/png": "[encoded data removed]",
      "text/plain": [
       "<Figure size 640x480 with 1 Axes>"
      ]
     },
     "metadata": {},
     "output_type": "display_data"
    }
   ],
   "source": [
    "plt.scatter(df['zn'], y)\n",
    "plt.plot([0,100],[4.4537, 4.4537 - 0.0739*100])\n",
    "plt.xlabel('zn')\n",
    "plt.ylabel('crim')"
   ]
  },
  {
   "cell_type": "markdown",
   "id": "3b38a1ca-9fea-46ce-b2a5-f123c79fa061",
   "metadata": {},
   "source": [
    "There is a statistically significant association between 'zn' and 'crim', however from the looks of the scatter plot and estimated regression line, it does not seem to do us much good."
   ]
  }
 ],
 "metadata": {
  "kernelspec": {
   "display_name": "Python 3 (ipykernel)",
   "language": "python",
   "name": "python3"
  },
  "language_info": {
   "codemirror_mode": {
    "name": "ipython",
    "version": 3
   },
   "file_extension": ".py",
   "mimetype": "text/x-python",
   "name": "python",
   "nbconvert_exporter": "python",
   "pygments_lexer": "ipython3",
   "version": "3.11.4"
  }
 },
 "nbformat": 4,
 "nbformat_minor": 5
}
