{
 "cells": [
  {
   "cell_type": "markdown",
   "id": "0ea78e5d-6297-4d51-b3e2-d733653a3749",
   "metadata": {},
   "source": [
    "# Chapter 3: Exercise 15"
   ]
  },
  {
   "cell_type": "markdown",
   "id": "d1cc5f53-ef41-41e5-a1b5-4244f897fdda",
   "metadata": {},
   "source": [
    "**Import packages**"
   ]
  },
  {
   "cell_type": "code",
   "execution_count": 1,
   "id": "fe0cbbc5-91a8-4d18-a9aa-42c84f2193a2",
   "metadata": {
    "tags": []
   },
   "outputs": [],
   "source": [
    "import os\n",
    "import numpy as np\n",
    "import pandas as pd\n",
    "import statsmodels.api as sm\n",
    "import matplotlib.pyplot as plt\n",
    "# from statsmodels.stats.anova import anova_lm\n",
    "from ISLP.models import (ModelSpec as MS, summarize)"
   ]
  },
  {
   "cell_type": "markdown",
   "id": "e8140191-843c-4516-9865-4f8a1021154b",
   "metadata": {},
   "source": [
    "## Predicting per capita crime rate from the Boston data set"
   ]
  },
  {
   "cell_type": "markdown",
   "id": "efe04454-aa35-4d4c-b2cb-cb8fd4aef4b1",
   "metadata": {},
   "source": [
    "### (a)  Fit a simple linear regression model for each predictor"
   ]
  },
  {
   "cell_type": "code",
   "execution_count": 2,
   "id": "c603762c-1c56-46d4-a108-b20d1c29771f",
   "metadata": {
    "tags": []
   },
   "outputs": [],
   "source": [
    "os.chdir('C:/Users/carma/Documents/GitHub/an-introduction-to-statistical-learning-with-applications-in-python/Datasets')"
   ]
  },
  {
   "cell_type": "code",
   "execution_count": 3,
   "id": "ec341e61-0a41-465a-99f5-e105dfce3056",
   "metadata": {
    "tags": []
   },
   "outputs": [],
   "source": [
    "df = pd.read_csv('Boston.csv')\n",
    "y = df['crim']"
   ]
  },
  {
   "cell_type": "code",
   "execution_count": 4,
   "id": "0f8414db-13f4-4bdc-8860-f6b8342bb4ed",
   "metadata": {
    "tags": []
   },
   "outputs": [
    {
     "data": {
      "text/plain": [
       "count    506.000000\n",
       "mean       3.613524\n",
       "std        8.601545\n",
       "min        0.006320\n",
       "25%        0.082045\n",
       "50%        0.256510\n",
       "75%        3.677083\n",
       "max       88.976200\n",
       "Name: crim, dtype: float64"
      ]
     },
     "execution_count": 4,
     "metadata": {},
     "output_type": "execute_result"
    }
   ],
   "source": [
    "y.describe()"
   ]
  },
  {
   "cell_type": "markdown",
   "id": "d13d86b2-704f-41b5-99c6-069d9561d8b5",
   "metadata": {},
   "source": [
    "**Fit model with zn**"
   ]
  },
  {
   "cell_type": "code",
   "execution_count": 5,
   "id": "a740525d-5bd3-46e3-87fc-a5d2a7354b74",
   "metadata": {
    "tags": []
   },
   "outputs": [
    {
     "data": {
      "text/plain": [
       "count    506.000000\n",
       "mean      11.363636\n",
       "std       23.322453\n",
       "min        0.000000\n",
       "25%        0.000000\n",
       "50%        0.000000\n",
       "75%       12.500000\n",
       "max      100.000000\n",
       "Name: zn, dtype: float64"
      ]
     },
     "execution_count": 5,
     "metadata": {},
     "output_type": "execute_result"
    }
   ],
   "source": [
    "df['zn'].describe()"
   ]
  },
  {
   "cell_type": "code",
   "execution_count": 6,
   "id": "c3ac0614-2c5c-4e9f-baed-c022bcf443d8",
   "metadata": {
    "tags": []
   },
   "outputs": [
    {
     "data": {
      "text/html": [
       "<div>\n",
       "<style scoped>\n",
       "    .dataframe tbody tr th:only-of-type {\n",
       "        vertical-align: middle;\n",
       "    }\n",
       "\n",
       "    .dataframe tbody tr th {\n",
       "        vertical-align: top;\n",
       "    }\n",
       "\n",
       "    .dataframe thead th {\n",
       "        text-align: right;\n",
       "    }\n",
       "</style>\n",
       "<table border=\"1\" class=\"dataframe\">\n",
       "  <thead>\n",
       "    <tr style=\"text-align: right;\">\n",
       "      <th></th>\n",
       "      <th>coef</th>\n",
       "      <th>std err</th>\n",
       "      <th>t</th>\n",
       "      <th>P&gt;|t|</th>\n",
       "    </tr>\n",
       "  </thead>\n",
       "  <tbody>\n",
       "    <tr>\n",
       "      <th>intercept</th>\n",
       "      <td>4.4537</td>\n",
       "      <td>0.417</td>\n",
       "      <td>10.675</td>\n",
       "      <td>0.0</td>\n",
       "    </tr>\n",
       "    <tr>\n",
       "      <th>zn</th>\n",
       "      <td>-0.0739</td>\n",
       "      <td>0.016</td>\n",
       "      <td>-4.594</td>\n",
       "      <td>0.0</td>\n",
       "    </tr>\n",
       "  </tbody>\n",
       "</table>\n",
       "</div>"
      ],
      "text/plain": [
       "             coef  std err       t  P>|t|\n",
       "intercept  4.4537    0.417  10.675    0.0\n",
       "zn        -0.0739    0.016  -4.594    0.0"
      ]
     },
     "execution_count": 6,
     "metadata": {},
     "output_type": "execute_result"
    }
   ],
   "source": [
    "X = MS(['zn']).fit_transform(df)\n",
    "result = sm.OLS(y, X).fit()\n",
    "summarize(result)"
   ]
  },
  {
   "cell_type": "code",
   "execution_count": 7,
   "id": "93462615-73bd-4596-a277-f8a4fbe66e0d",
   "metadata": {
    "tags": []
   },
   "outputs": [
    {
     "data": {
      "text/plain": [
       "Text(0, 0.5, 'crim')"
      ]
     },
     "execution_count": 7,
     "metadata": {},
     "output_type": "execute_result"
    },
    {
     "data": {
      "image/png": "[encoded data removed]",
      "text/plain": [
       "<Figure size 640x480 with 1 Axes>"
      ]
     },
     "metadata": {},
     "output_type": "display_data"
    }
   ],
   "source": [
    "plt.scatter(df['zn'], y)\n",
    "plt.plot([0,100],[4.4537, 4.4537 - 0.0739*100])\n",
    "plt.xlabel('zn')\n",
    "plt.ylabel('crim')"
   ]
  },
  {
   "cell_type": "code",
   "execution_count": 8,
   "id": "58d1d912-f0e2-40f3-b253-d2ddabc6a348",
   "metadata": {
    "tags": []
   },
   "outputs": [
    {
     "data": {
      "text/plain": [
       "372"
      ]
     },
     "execution_count": 8,
     "metadata": {},
     "output_type": "execute_result"
    }
   ],
   "source": [
    "len(df[df['zn'] == 0])"
   ]
  },
  {
   "cell_type": "code",
   "execution_count": 9,
   "id": "c5a2399d-cc1e-4182-b968-84def5cfa65f",
   "metadata": {
    "tags": []
   },
   "outputs": [
    {
     "data": {
      "text/html": [
       "<div>\n",
       "<style scoped>\n",
       "    .dataframe tbody tr th:only-of-type {\n",
       "        vertical-align: middle;\n",
       "    }\n",
       "\n",
       "    .dataframe tbody tr th {\n",
       "        vertical-align: top;\n",
       "    }\n",
       "\n",
       "    .dataframe thead th {\n",
       "        text-align: right;\n",
       "    }\n",
       "</style>\n",
       "<table border=\"1\" class=\"dataframe\">\n",
       "  <thead>\n",
       "    <tr style=\"text-align: right;\">\n",
       "      <th></th>\n",
       "      <th>crim</th>\n",
       "      <th>zn</th>\n",
       "    </tr>\n",
       "  </thead>\n",
       "  <tbody>\n",
       "    <tr>\n",
       "      <th>16</th>\n",
       "      <td>1.05393</td>\n",
       "      <td>0.0</td>\n",
       "    </tr>\n",
       "    <tr>\n",
       "      <th>20</th>\n",
       "      <td>1.25179</td>\n",
       "      <td>0.0</td>\n",
       "    </tr>\n",
       "    <tr>\n",
       "      <th>22</th>\n",
       "      <td>1.23247</td>\n",
       "      <td>0.0</td>\n",
       "    </tr>\n",
       "    <tr>\n",
       "      <th>29</th>\n",
       "      <td>1.00245</td>\n",
       "      <td>0.0</td>\n",
       "    </tr>\n",
       "    <tr>\n",
       "      <th>30</th>\n",
       "      <td>1.13081</td>\n",
       "      <td>0.0</td>\n",
       "    </tr>\n",
       "    <tr>\n",
       "      <th>...</th>\n",
       "      <td>...</td>\n",
       "      <td>...</td>\n",
       "    </tr>\n",
       "    <tr>\n",
       "      <th>483</th>\n",
       "      <td>2.81838</td>\n",
       "      <td>0.0</td>\n",
       "    </tr>\n",
       "    <tr>\n",
       "      <th>484</th>\n",
       "      <td>2.37857</td>\n",
       "      <td>0.0</td>\n",
       "    </tr>\n",
       "    <tr>\n",
       "      <th>485</th>\n",
       "      <td>3.67367</td>\n",
       "      <td>0.0</td>\n",
       "    </tr>\n",
       "    <tr>\n",
       "      <th>486</th>\n",
       "      <td>5.69175</td>\n",
       "      <td>0.0</td>\n",
       "    </tr>\n",
       "    <tr>\n",
       "      <th>487</th>\n",
       "      <td>4.83567</td>\n",
       "      <td>0.0</td>\n",
       "    </tr>\n",
       "  </tbody>\n",
       "</table>\n",
       "<p>174 rows × 2 columns</p>\n",
       "</div>"
      ],
      "text/plain": [
       "        crim   zn\n",
       "16   1.05393  0.0\n",
       "20   1.25179  0.0\n",
       "22   1.23247  0.0\n",
       "29   1.00245  0.0\n",
       "30   1.13081  0.0\n",
       "..       ...  ...\n",
       "483  2.81838  0.0\n",
       "484  2.37857  0.0\n",
       "485  3.67367  0.0\n",
       "486  5.69175  0.0\n",
       "487  4.83567  0.0\n",
       "\n",
       "[174 rows x 2 columns]"
      ]
     },
     "execution_count": 9,
     "metadata": {},
     "output_type": "execute_result"
    }
   ],
   "source": [
    "df[['crim', 'zn']][df['crim'] > 1]"
   ]
  },
  {
   "cell_type": "code",
   "execution_count": 10,
   "id": "f75e3ceb-d5f7-47fa-afed-b198efbc1cf3",
   "metadata": {
    "tags": []
   },
   "outputs": [
    {
     "data": {
      "text/plain": [
       "0.7351778656126482"
      ]
     },
     "execution_count": 10,
     "metadata": {},
     "output_type": "execute_result"
    }
   ],
   "source": [
    "len(df[['crim', 'zn']][df['zn'] == 0])/len(df[['crim', 'zn']])"
   ]
  },
  {
   "cell_type": "markdown",
   "id": "3b38a1ca-9fea-46ce-b2a5-f123c79fa061",
   "metadata": {},
   "source": [
    "There is a statistically significant association between 'zn' and 'crim', however from the looks of the scatter plot and estimated regression line, it does not seem to do us much good. There are far too many observations in our data with a zn value of zero, in which we see there is a broad range of crim values. In fact 73% of our data has zn value zero."
   ]
  },
  {
   "cell_type": "markdown",
   "id": "920f5a19-d7db-4464-9a76-2a2ee16cc466",
   "metadata": {},
   "source": [
    "**Fit model with indus**"
   ]
  },
  {
   "cell_type": "code",
   "execution_count": 11,
   "id": "eda49e8f-77f6-4ab1-b500-dc9792304517",
   "metadata": {
    "tags": []
   },
   "outputs": [
    {
     "data": {
      "text/plain": [
       "count    506.000000\n",
       "mean      11.136779\n",
       "std        6.860353\n",
       "min        0.460000\n",
       "25%        5.190000\n",
       "50%        9.690000\n",
       "75%       18.100000\n",
       "max       27.740000\n",
       "Name: indus, dtype: float64"
      ]
     },
     "execution_count": 11,
     "metadata": {},
     "output_type": "execute_result"
    }
   ],
   "source": [
    "df['indus'].describe()"
   ]
  },
  {
   "cell_type": "code",
   "execution_count": 12,
   "id": "f88e5ea6-9d6f-4a6d-8e07-09520abae740",
   "metadata": {
    "tags": []
   },
   "outputs": [
    {
     "data": {
      "text/html": [
       "<div>\n",
       "<style scoped>\n",
       "    .dataframe tbody tr th:only-of-type {\n",
       "        vertical-align: middle;\n",
       "    }\n",
       "\n",
       "    .dataframe tbody tr th {\n",
       "        vertical-align: top;\n",
       "    }\n",
       "\n",
       "    .dataframe thead th {\n",
       "        text-align: right;\n",
       "    }\n",
       "</style>\n",
       "<table border=\"1\" class=\"dataframe\">\n",
       "  <thead>\n",
       "    <tr style=\"text-align: right;\">\n",
       "      <th></th>\n",
       "      <th>coef</th>\n",
       "      <th>std err</th>\n",
       "      <th>t</th>\n",
       "      <th>P&gt;|t|</th>\n",
       "    </tr>\n",
       "  </thead>\n",
       "  <tbody>\n",
       "    <tr>\n",
       "      <th>intercept</th>\n",
       "      <td>-2.0637</td>\n",
       "      <td>0.667</td>\n",
       "      <td>-3.093</td>\n",
       "      <td>0.002</td>\n",
       "    </tr>\n",
       "    <tr>\n",
       "      <th>indus</th>\n",
       "      <td>0.5098</td>\n",
       "      <td>0.051</td>\n",
       "      <td>9.991</td>\n",
       "      <td>0.000</td>\n",
       "    </tr>\n",
       "  </tbody>\n",
       "</table>\n",
       "</div>"
      ],
      "text/plain": [
       "             coef  std err      t  P>|t|\n",
       "intercept -2.0637    0.667 -3.093  0.002\n",
       "indus      0.5098    0.051  9.991  0.000"
      ]
     },
     "execution_count": 12,
     "metadata": {},
     "output_type": "execute_result"
    }
   ],
   "source": [
    "X = MS(['indus']).fit_transform(df)\n",
    "result = sm.OLS(y, X).fit()\n",
    "summarize(result)"
   ]
  },
  {
   "cell_type": "code",
   "execution_count": 13,
   "id": "6c1ed96f-a390-4a32-9329-442a667bc12e",
   "metadata": {
    "tags": []
   },
   "outputs": [
    {
     "data": {
      "text/plain": [
       "Text(0, 0.5, 'crim')"
      ]
     },
     "execution_count": 13,
     "metadata": {},
     "output_type": "execute_result"
    },
    {
     "data": {
      "image/png": "[encoded data removed]",
      "text/plain": [
       "<Figure size 640x480 with 1 Axes>"
      ]
     },
     "metadata": {},
     "output_type": "display_data"
    }
   ],
   "source": [
    "plt.scatter(df['indus'], y)\n",
    "plt.plot([0,30],[-2.0637, -2.0637 + 0.5098*30])\n",
    "plt.xlabel('indus')\n",
    "plt.ylabel('crim')"
   ]
  },
  {
   "cell_type": "code",
   "execution_count": 14,
   "id": "1f00f228-b04c-466b-854c-081c955fc24c",
   "metadata": {
    "tags": []
   },
   "outputs": [
    {
     "data": {
      "text/html": [
       "<div>\n",
       "<style scoped>\n",
       "    .dataframe tbody tr th:only-of-type {\n",
       "        vertical-align: middle;\n",
       "    }\n",
       "\n",
       "    .dataframe tbody tr th {\n",
       "        vertical-align: top;\n",
       "    }\n",
       "\n",
       "    .dataframe thead th {\n",
       "        text-align: right;\n",
       "    }\n",
       "</style>\n",
       "<table border=\"1\" class=\"dataframe\">\n",
       "  <thead>\n",
       "    <tr style=\"text-align: right;\">\n",
       "      <th></th>\n",
       "      <th>crim</th>\n",
       "      <th>indus</th>\n",
       "    </tr>\n",
       "  </thead>\n",
       "  <tbody>\n",
       "    <tr>\n",
       "      <th>380</th>\n",
       "      <td>88.97620</td>\n",
       "      <td>18.1</td>\n",
       "    </tr>\n",
       "    <tr>\n",
       "      <th>418</th>\n",
       "      <td>73.53410</td>\n",
       "      <td>18.1</td>\n",
       "    </tr>\n",
       "    <tr>\n",
       "      <th>405</th>\n",
       "      <td>67.92080</td>\n",
       "      <td>18.1</td>\n",
       "    </tr>\n",
       "    <tr>\n",
       "      <th>410</th>\n",
       "      <td>51.13580</td>\n",
       "      <td>18.1</td>\n",
       "    </tr>\n",
       "    <tr>\n",
       "      <th>414</th>\n",
       "      <td>45.74610</td>\n",
       "      <td>18.1</td>\n",
       "    </tr>\n",
       "    <tr>\n",
       "      <th>...</th>\n",
       "      <td>...</td>\n",
       "      <td>...</td>\n",
       "    </tr>\n",
       "    <tr>\n",
       "      <th>433</th>\n",
       "      <td>5.58107</td>\n",
       "      <td>18.1</td>\n",
       "    </tr>\n",
       "    <tr>\n",
       "      <th>451</th>\n",
       "      <td>5.44114</td>\n",
       "      <td>18.1</td>\n",
       "    </tr>\n",
       "    <tr>\n",
       "      <th>391</th>\n",
       "      <td>5.29305</td>\n",
       "      <td>18.1</td>\n",
       "    </tr>\n",
       "    <tr>\n",
       "      <th>358</th>\n",
       "      <td>5.20177</td>\n",
       "      <td>18.1</td>\n",
       "    </tr>\n",
       "    <tr>\n",
       "      <th>452</th>\n",
       "      <td>5.09017</td>\n",
       "      <td>18.1</td>\n",
       "    </tr>\n",
       "  </tbody>\n",
       "</table>\n",
       "<p>106 rows × 2 columns</p>\n",
       "</div>"
      ],
      "text/plain": [
       "         crim  indus\n",
       "380  88.97620   18.1\n",
       "418  73.53410   18.1\n",
       "405  67.92080   18.1\n",
       "410  51.13580   18.1\n",
       "414  45.74610   18.1\n",
       "..        ...    ...\n",
       "433   5.58107   18.1\n",
       "451   5.44114   18.1\n",
       "391   5.29305   18.1\n",
       "358   5.20177   18.1\n",
       "452   5.09017   18.1\n",
       "\n",
       "[106 rows x 2 columns]"
      ]
     },
     "execution_count": 14,
     "metadata": {},
     "output_type": "execute_result"
    }
   ],
   "source": [
    "df[['crim', 'indus']][df['crim'] > 5].sort_values('crim', ascending=False)"
   ]
  },
  {
   "cell_type": "code",
   "execution_count": 15,
   "id": "53ece0e8-8790-4209-9e63-684049a95b2b",
   "metadata": {
    "tags": []
   },
   "outputs": [
    {
     "data": {
      "text/html": [
       "<div>\n",
       "<style scoped>\n",
       "    .dataframe tbody tr th:only-of-type {\n",
       "        vertical-align: middle;\n",
       "    }\n",
       "\n",
       "    .dataframe tbody tr th {\n",
       "        vertical-align: top;\n",
       "    }\n",
       "\n",
       "    .dataframe thead th {\n",
       "        text-align: right;\n",
       "    }\n",
       "</style>\n",
       "<table border=\"1\" class=\"dataframe\">\n",
       "  <thead>\n",
       "    <tr style=\"text-align: right;\">\n",
       "      <th></th>\n",
       "      <th>crim</th>\n",
       "    </tr>\n",
       "  </thead>\n",
       "  <tbody>\n",
       "    <tr>\n",
       "      <th>356</th>\n",
       "      <td>8.98296</td>\n",
       "    </tr>\n",
       "    <tr>\n",
       "      <th>357</th>\n",
       "      <td>3.84970</td>\n",
       "    </tr>\n",
       "    <tr>\n",
       "      <th>358</th>\n",
       "      <td>5.20177</td>\n",
       "    </tr>\n",
       "    <tr>\n",
       "      <th>359</th>\n",
       "      <td>4.26131</td>\n",
       "    </tr>\n",
       "    <tr>\n",
       "      <th>360</th>\n",
       "      <td>4.54192</td>\n",
       "    </tr>\n",
       "    <tr>\n",
       "      <th>...</th>\n",
       "      <td>...</td>\n",
       "    </tr>\n",
       "    <tr>\n",
       "      <th>483</th>\n",
       "      <td>2.81838</td>\n",
       "    </tr>\n",
       "    <tr>\n",
       "      <th>484</th>\n",
       "      <td>2.37857</td>\n",
       "    </tr>\n",
       "    <tr>\n",
       "      <th>485</th>\n",
       "      <td>3.67367</td>\n",
       "    </tr>\n",
       "    <tr>\n",
       "      <th>486</th>\n",
       "      <td>5.69175</td>\n",
       "    </tr>\n",
       "    <tr>\n",
       "      <th>487</th>\n",
       "      <td>4.83567</td>\n",
       "    </tr>\n",
       "  </tbody>\n",
       "</table>\n",
       "<p>132 rows × 1 columns</p>\n",
       "</div>"
      ],
      "text/plain": [
       "        crim\n",
       "356  8.98296\n",
       "357  3.84970\n",
       "358  5.20177\n",
       "359  4.26131\n",
       "360  4.54192\n",
       "..       ...\n",
       "483  2.81838\n",
       "484  2.37857\n",
       "485  3.67367\n",
       "486  5.69175\n",
       "487  4.83567\n",
       "\n",
       "[132 rows x 1 columns]"
      ]
     },
     "execution_count": 15,
     "metadata": {},
     "output_type": "execute_result"
    }
   ],
   "source": [
    "df[['crim']][df['indus'] == 18.1]"
   ]
  },
  {
   "cell_type": "code",
   "execution_count": 16,
   "id": "ed8d12c0-8674-408c-9d48-9a735ffff6ad",
   "metadata": {
    "tags": []
   },
   "outputs": [
    {
     "data": {
      "text/html": [
       "<div>\n",
       "<style scoped>\n",
       "    .dataframe tbody tr th:only-of-type {\n",
       "        vertical-align: middle;\n",
       "    }\n",
       "\n",
       "    .dataframe tbody tr th {\n",
       "        vertical-align: top;\n",
       "    }\n",
       "\n",
       "    .dataframe thead th {\n",
       "        text-align: right;\n",
       "    }\n",
       "</style>\n",
       "<table border=\"1\" class=\"dataframe\">\n",
       "  <thead>\n",
       "    <tr style=\"text-align: right;\">\n",
       "      <th></th>\n",
       "      <th>crim</th>\n",
       "    </tr>\n",
       "  </thead>\n",
       "  <tbody>\n",
       "    <tr>\n",
       "      <th>count</th>\n",
       "      <td>132.000000</td>\n",
       "    </tr>\n",
       "    <tr>\n",
       "      <th>mean</th>\n",
       "      <td>12.759291</td>\n",
       "    </tr>\n",
       "    <tr>\n",
       "      <th>std</th>\n",
       "      <td>13.041169</td>\n",
       "    </tr>\n",
       "    <tr>\n",
       "      <th>min</th>\n",
       "      <td>2.378570</td>\n",
       "    </tr>\n",
       "    <tr>\n",
       "      <th>25%</th>\n",
       "      <td>5.686307</td>\n",
       "    </tr>\n",
       "    <tr>\n",
       "      <th>50%</th>\n",
       "      <td>9.084990</td>\n",
       "    </tr>\n",
       "    <tr>\n",
       "      <th>75%</th>\n",
       "      <td>14.333700</td>\n",
       "    </tr>\n",
       "    <tr>\n",
       "      <th>max</th>\n",
       "      <td>88.976200</td>\n",
       "    </tr>\n",
       "  </tbody>\n",
       "</table>\n",
       "</div>"
      ],
      "text/plain": [
       "             crim\n",
       "count  132.000000\n",
       "mean    12.759291\n",
       "std     13.041169\n",
       "min      2.378570\n",
       "25%      5.686307\n",
       "50%      9.084990\n",
       "75%     14.333700\n",
       "max     88.976200"
      ]
     },
     "execution_count": 16,
     "metadata": {},
     "output_type": "execute_result"
    }
   ],
   "source": [
    "df[['crim']][df['indus'] == 18.1].describe()"
   ]
  },
  {
   "cell_type": "code",
   "execution_count": 17,
   "id": "2b2221c8-7ca1-49fe-aa64-170f8e8e410b",
   "metadata": {
    "tags": []
   },
   "outputs": [
    {
     "data": {
      "text/plain": [
       "count    506.000000\n",
       "mean       3.613524\n",
       "std        8.601545\n",
       "min        0.006320\n",
       "25%        0.082045\n",
       "50%        0.256510\n",
       "75%        3.677083\n",
       "max       88.976200\n",
       "Name: crim, dtype: float64"
      ]
     },
     "execution_count": 17,
     "metadata": {},
     "output_type": "execute_result"
    }
   ],
   "source": [
    "y.describe()"
   ]
  },
  {
   "cell_type": "code",
   "execution_count": 18,
   "id": "b9728b72-059c-420e-9809-c0779151be06",
   "metadata": {
    "tags": []
   },
   "outputs": [
    {
     "data": {
      "text/plain": [
       "0.2608695652173913"
      ]
     },
     "execution_count": 18,
     "metadata": {},
     "output_type": "execute_result"
    }
   ],
   "source": [
    "len(df[['crim']][df['indus'] == 18.1])/len(df[['crim']])"
   ]
  },
  {
   "cell_type": "markdown",
   "id": "59b76c8e-10de-4075-a91d-58485a741fcf",
   "metadata": {},
   "source": [
    "There is a statistically significant association between 'indus' and 'crim', however from the looks of the scatter plot and estimated regression line, it does not seem to do us much good. We make note that in our data set, all neighborhoods which have high crime rate happen to have indus value equal to 18.1, and 26% of the data has this value."
   ]
  },
  {
   "cell_type": "markdown",
   "id": "47e8472a-d25e-4dbe-8e41-d62ef8038052",
   "metadata": {},
   "source": [
    "**Fit model with chas**"
   ]
  },
  {
   "cell_type": "code",
   "execution_count": 19,
   "id": "20cba532-75d2-4f6c-9fe2-ca1d75f9060e",
   "metadata": {
    "tags": []
   },
   "outputs": [
    {
     "data": {
      "text/plain": [
       "35"
      ]
     },
     "execution_count": 19,
     "metadata": {},
     "output_type": "execute_result"
    }
   ],
   "source": [
    "np.sum(df['chas'] == 1)"
   ]
  },
  {
   "cell_type": "markdown",
   "id": "197ad655-3676-463d-ab36-04a157a55766",
   "metadata": {},
   "source": [
    "35 out of the 506 observations bound the Charles River"
   ]
  },
  {
   "cell_type": "code",
   "execution_count": 20,
   "id": "557a43c4-e4d7-4b74-a1e9-63bbddc40431",
   "metadata": {
    "tags": []
   },
   "outputs": [
    {
     "data": {
      "text/html": [
       "<div>\n",
       "<style scoped>\n",
       "    .dataframe tbody tr th:only-of-type {\n",
       "        vertical-align: middle;\n",
       "    }\n",
       "\n",
       "    .dataframe tbody tr th {\n",
       "        vertical-align: top;\n",
       "    }\n",
       "\n",
       "    .dataframe thead th {\n",
       "        text-align: right;\n",
       "    }\n",
       "</style>\n",
       "<table border=\"1\" class=\"dataframe\">\n",
       "  <thead>\n",
       "    <tr style=\"text-align: right;\">\n",
       "      <th></th>\n",
       "      <th>coef</th>\n",
       "      <th>std err</th>\n",
       "      <th>t</th>\n",
       "      <th>P&gt;|t|</th>\n",
       "    </tr>\n",
       "  </thead>\n",
       "  <tbody>\n",
       "    <tr>\n",
       "      <th>intercept</th>\n",
       "      <td>3.7444</td>\n",
       "      <td>0.396</td>\n",
       "      <td>9.453</td>\n",
       "      <td>0.000</td>\n",
       "    </tr>\n",
       "    <tr>\n",
       "      <th>chas</th>\n",
       "      <td>-1.8928</td>\n",
       "      <td>1.506</td>\n",
       "      <td>-1.257</td>\n",
       "      <td>0.209</td>\n",
       "    </tr>\n",
       "  </tbody>\n",
       "</table>\n",
       "</div>"
      ],
      "text/plain": [
       "             coef  std err      t  P>|t|\n",
       "intercept  3.7444    0.396  9.453  0.000\n",
       "chas      -1.8928    1.506 -1.257  0.209"
      ]
     },
     "execution_count": 20,
     "metadata": {},
     "output_type": "execute_result"
    }
   ],
   "source": [
    "X = MS(['chas']).fit_transform(df)\n",
    "result = sm.OLS(y, X).fit()\n",
    "summarize(result)"
   ]
  },
  {
   "cell_type": "code",
   "execution_count": 21,
   "id": "60c35ce7-2dd4-4fa2-8e12-e83ae73f5c32",
   "metadata": {
    "tags": []
   },
   "outputs": [
    {
     "data": {
      "text/plain": [
       "Text(0, 0.5, 'crim')"
      ]
     },
     "execution_count": 21,
     "metadata": {},
     "output_type": "execute_result"
    },
    {
     "data": {
      "image/png": "[encoded data removed]",
      "text/plain": [
       "<Figure size 640x480 with 1 Axes>"
      ]
     },
     "metadata": {},
     "output_type": "display_data"
    }
   ],
   "source": [
    "plt.scatter(df['chas'], y)\n",
    "plt.plot([0,1],[3.7444, 3.7444 - 1.8928*1])\n",
    "plt.xlabel('chas')\n",
    "plt.ylabel('crim')"
   ]
  },
  {
   "cell_type": "markdown",
   "id": "2e180333-3afb-42fe-8d18-bde861e98862",
   "metadata": {},
   "source": [
    "There is not a statistically significant association between 'chas' and 'crim'. However if we had to guess which neighborhoods may have higher crime rate, we would say ones that do not bound the Charles River. This is clear from the scatter plot."
   ]
  }
 ],
 "metadata": {
  "kernelspec": {
   "display_name": "Python 3 (ipykernel)",
   "language": "python",
   "name": "python3"
  },
  "language_info": {
   "codemirror_mode": {
    "name": "ipython",
    "version": 3
   },
   "file_extension": ".py",
   "mimetype": "text/x-python",
   "name": "python",
   "nbconvert_exporter": "python",
   "pygments_lexer": "ipython3",
   "version": "3.11.4"
  }
 },
 "nbformat": 4,
 "nbformat_minor": 5
}
