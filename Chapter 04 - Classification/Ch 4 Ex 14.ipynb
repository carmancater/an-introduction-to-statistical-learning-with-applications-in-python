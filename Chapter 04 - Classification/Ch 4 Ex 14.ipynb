{
 "cells": [
  {
   "cell_type": "markdown",
   "id": "d80e98f4-1f21-4690-a1f2-2f07f1d95c6a",
   "metadata": {},
   "source": [
    "# Chapter 4: Exercise 14"
   ]
  },
  {
   "cell_type": "markdown",
   "id": "7e1f42ee-73f9-4b21-88b3-d6847ca8d4c9",
   "metadata": {},
   "source": [
    "**Import packages**"
   ]
  }
 ],
 "metadata": {
  "kernelspec": {
   "display_name": "Python 3 (ipykernel)",
   "language": "python",
   "name": "python3"
  },
  "language_info": {
   "codemirror_mode": {
    "name": "ipython",
    "version": 3
   },
   "file_extension": ".py",
   "mimetype": "text/x-python",
   "name": "python",
   "nbconvert_exporter": "python",
   "pygments_lexer": "ipython3",
   "version": "3.11.4"
  }
 },
 "nbformat": 4,
 "nbformat_minor": 5
}
