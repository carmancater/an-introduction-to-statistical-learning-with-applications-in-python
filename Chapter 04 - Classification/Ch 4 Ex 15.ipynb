{
 "cells": [
  {
   "cell_type": "markdown",
   "id": "e003ebcf-660b-4b97-b5b7-59b23aadf060",
   "metadata": {},
   "source": [
    "# Chapter 4: Exercise 15"
   ]
  },
  {
   "cell_type": "markdown",
   "id": "df345ffd-41ef-4527-9b63-849cbd578136",
   "metadata": {},
   "source": [
    "**Import packages**"
   ]
  },
  {
   "cell_type": "code",
   "execution_count": null,
   "id": "f0239907-91f8-43cb-ae6c-f4c79108f9e1",
   "metadata": {},
   "outputs": [],
   "source": []
  },
  {
   "cell_type": "markdown",
   "id": "86e7fb66-f202-4f25-95a2-0f6329576752",
   "metadata": {},
   "source": [
    "### (a) Write a function Power() to print result of 2^3"
   ]
  },
  {
   "cell_type": "code",
   "execution_count": null,
   "id": "11531493-6fd9-4871-8630-b04a93c89193",
   "metadata": {},
   "outputs": [],
   "source": []
  }
 ],
 "metadata": {
  "kernelspec": {
   "display_name": "Python 3 (ipykernel)",
   "language": "python",
   "name": "python3"
  },
  "language_info": {
   "codemirror_mode": {
    "name": "ipython",
    "version": 3
   },
   "file_extension": ".py",
   "mimetype": "text/x-python",
   "name": "python",
   "nbconvert_exporter": "python",
   "pygments_lexer": "ipython3",
   "version": "3.11.4"
  }
 },
 "nbformat": 4,
 "nbformat_minor": 5
}
