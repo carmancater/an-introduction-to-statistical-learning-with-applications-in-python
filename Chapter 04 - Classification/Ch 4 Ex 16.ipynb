{
 "cells": [
  {
   "cell_type": "markdown",
   "id": "80c1c0fd-a2f6-4691-a6f7-e68783ebedef",
   "metadata": {},
   "source": [
    "# Chapter 4: Exercise 16"
   ]
  },
  {
   "cell_type": "markdown",
   "id": "480560f0-773c-4c68-a307-a95edd5e3144",
   "metadata": {},
   "source": [
    "We develop models to predict crime rate in Boston suburbs"
   ]
  },
  {
   "cell_type": "markdown",
   "id": "a284b782-99fc-4490-b83d-5d4ed412ed6d",
   "metadata": {},
   "source": [
    "**Import packages**"
   ]
  },
  {
   "cell_type": "code",
   "execution_count": 1,
   "id": "5f334423-3269-4323-b5f9-f4ed5013255d",
   "metadata": {
    "tags": []
   },
   "outputs": [],
   "source": [
    "# import numpy as np\n",
    "# import pandas as pd\n",
    "# from ISLP import load_data\n",
    "# import statsmodels.api as sm\n",
    "# from sklearn.model_selection import train_test_split\n",
    "# from sklearn.discriminant_analysis import \\\n",
    "#     (LinearDiscriminantAnalysis as LDA,\n",
    "#      QuadraticDiscriminantAnalysis as QDA)\n",
    "# from ISLP import confusion_table\n",
    "# from ISLP.models import ModelSpec as MS\n",
    "# from sklearn.naive_bayes import GaussianNB\n",
    "# from sklearn.neighbors import KNeighborsClassifier\n",
    "# import matplotlib.pyplot as plt"
   ]
  },
  {
   "cell_type": "code",
   "execution_count": null,
   "id": "541cd4c0-c6b2-4fb7-9cda-1212ce499ca1",
   "metadata": {},
   "outputs": [],
   "source": []
  }
 ],
 "metadata": {
  "kernelspec": {
   "display_name": "Python 3 (ipykernel)",
   "language": "python",
   "name": "python3"
  },
  "language_info": {
   "codemirror_mode": {
    "name": "ipython",
    "version": 3
   },
   "file_extension": ".py",
   "mimetype": "text/x-python",
   "name": "python",
   "nbconvert_exporter": "python",
   "pygments_lexer": "ipython3",
   "version": "3.11.4"
  }
 },
 "nbformat": 4,
 "nbformat_minor": 5
}
